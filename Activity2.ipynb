{
 "cells": [
  {
   "cell_type": "markdown",
   "id": "0ccdf726-71ef-473d-9fe6-7f8918026a51",
   "metadata": {},
   "source": [
    "<h1>Activity 2 - UK ROAD ACCIDENT DATA ANALYTICS PROJECT</h1>\n",
    "<hr>\n",
    "<h3>Analyst : Andrei Miguel P. Moralina</h3>"
   ]
  },
  {
   "cell_type": "code",
   "execution_count": 1,
   "id": "be839914-2486-4cf3-8c1d-9b50d9453805",
   "metadata": {},
   "outputs": [],
   "source": [
    "#import libraries\n",
    "import numpy as np\n",
    "import pandas as pd\n",
    "import matplotlib.pyplot as plt\n",
    "import warnings\n",
    "warnings.filterwarnings(\"ignore\")"
   ]
  },
  {
   "cell_type": "markdown",
   "id": "029c157c-3389-442e-b402-7b39477b1fb9",
   "metadata": {},
   "source": [
    "<h3>Converting Dataset(s) into DataFrame</h3>\n",
    "<h2>Requirements</h2>\n",
    "<ul>\n",
    "    <li>Name of the DataFrame</li>\n",
    "    <li>File Path</li>\n",
    "</ul>"
   ]
  },
  {
   "cell_type": "code",
   "execution_count": 2,
   "id": "55906872-44e0-4159-93e7-0941332eacc8",
   "metadata": {},
   "outputs": [],
   "source": [
    "accident = pd.read_csv('datasets\\\\uk_road_accident.csv')"
   ]
  },
  {
   "cell_type": "markdown",
   "id": "9b584717-6190-48ac-926b-ad81591b1789",
   "metadata": {},
   "source": [
    "<h1>Clearing any Inconsistencies with the Data Set</h1>"
   ]
  },
  {
   "cell_type": "code",
   "execution_count": 3,
   "id": "53d580f4-a4a7-44c2-9499-0447968ca5e8",
   "metadata": {},
   "outputs": [],
   "source": [
    "accident['Accident Date'] = accident['Accident Date'].str.strip() #to remove any white spaces\n",
    "accident['Accident Date'] = accident['Accident Date'].astype('str') #to convert into string\n",
    "accident['Accident Date'] = accident['Accident Date'].str.replace('/','-') #to replace \"/\" to \"-\" in date format"
   ]
  },
  {
   "cell_type": "code",
   "execution_count": 4,
   "id": "7c290143-e5c6-4ed1-8919-88da9ad38332",
   "metadata": {},
   "outputs": [
    {
     "name": "stdout",
     "output_type": "stream",
     "text": [
      "<class 'pandas.core.frame.DataFrame'>\n",
      "RangeIndex: 660679 entries, 0 to 660678\n",
      "Data columns (total 14 columns):\n",
      " #   Column                   Non-Null Count   Dtype         \n",
      "---  ------                   --------------   -----         \n",
      " 0   Index                    660679 non-null  object        \n",
      " 1   Accident_Severity        660679 non-null  object        \n",
      " 2   Accident Date            660679 non-null  datetime64[ns]\n",
      " 3   Latitude                 660654 non-null  float64       \n",
      " 4   Light_Conditions         660679 non-null  object        \n",
      " 5   District Area            660679 non-null  object        \n",
      " 6   Longitude                660653 non-null  float64       \n",
      " 7   Number_of_Casualties     660679 non-null  int64         \n",
      " 8   Number_of_Vehicles       660679 non-null  int64         \n",
      " 9   Road_Surface_Conditions  659953 non-null  object        \n",
      " 10  Road_Type                656159 non-null  object        \n",
      " 11  Urban_or_Rural_Area      660664 non-null  object        \n",
      " 12  Weather_Conditions       646551 non-null  object        \n",
      " 13  Vehicle_Type             660679 non-null  object        \n",
      "dtypes: datetime64[ns](1), float64(2), int64(2), object(9)\n",
      "memory usage: 70.6+ MB\n"
     ]
    }
   ],
   "source": [
    "accident['Accident Date'] = pd.to_datetime(accident['Accident Date'], dayfirst=True, errors='coerce')\n",
    "accident.info()\n",
    "accident.dropna(subset=['Accident Date'], inplace=True)"
   ]
  },
  {
   "cell_type": "code",
   "execution_count": 5,
   "id": "17972618-d2ce-448f-8221-cdbec2120018",
   "metadata": {},
   "outputs": [
    {
     "data": {
      "text/html": [
       "<div>\n",
       "<style scoped>\n",
       "    .dataframe tbody tr th:only-of-type {\n",
       "        vertical-align: middle;\n",
       "    }\n",
       "\n",
       "    .dataframe tbody tr th {\n",
       "        vertical-align: top;\n",
       "    }\n",
       "\n",
       "    .dataframe thead th {\n",
       "        text-align: right;\n",
       "    }\n",
       "</style>\n",
       "<table border=\"1\" class=\"dataframe\">\n",
       "  <thead>\n",
       "    <tr style=\"text-align: right;\">\n",
       "      <th></th>\n",
       "      <th>Index</th>\n",
       "      <th>Accident_Severity</th>\n",
       "      <th>Accident Date</th>\n",
       "      <th>Latitude</th>\n",
       "      <th>Light_Conditions</th>\n",
       "      <th>District Area</th>\n",
       "      <th>Longitude</th>\n",
       "      <th>Number_of_Casualties</th>\n",
       "      <th>Number_of_Vehicles</th>\n",
       "      <th>Road_Surface_Conditions</th>\n",
       "      <th>Road_Type</th>\n",
       "      <th>Urban_or_Rural_Area</th>\n",
       "      <th>Weather_Conditions</th>\n",
       "      <th>Vehicle_Type</th>\n",
       "    </tr>\n",
       "  </thead>\n",
       "  <tbody>\n",
       "    <tr>\n",
       "      <th>0</th>\n",
       "      <td>200701BS64157</td>\n",
       "      <td>Serious</td>\n",
       "      <td>2019-06-05</td>\n",
       "      <td>51.506187</td>\n",
       "      <td>Darkness - lights lit</td>\n",
       "      <td>Kensington and Chelsea</td>\n",
       "      <td>-0.209082</td>\n",
       "      <td>1</td>\n",
       "      <td>2</td>\n",
       "      <td>Dry</td>\n",
       "      <td>Single carriageway</td>\n",
       "      <td>Urban</td>\n",
       "      <td>Fine no high winds</td>\n",
       "      <td>Car</td>\n",
       "    </tr>\n",
       "    <tr>\n",
       "      <th>1</th>\n",
       "      <td>200701BS65737</td>\n",
       "      <td>Serious</td>\n",
       "      <td>2019-07-02</td>\n",
       "      <td>51.495029</td>\n",
       "      <td>Daylight</td>\n",
       "      <td>Kensington and Chelsea</td>\n",
       "      <td>-0.173647</td>\n",
       "      <td>1</td>\n",
       "      <td>2</td>\n",
       "      <td>Wet or damp</td>\n",
       "      <td>Single carriageway</td>\n",
       "      <td>Urban</td>\n",
       "      <td>Raining no high winds</td>\n",
       "      <td>Car</td>\n",
       "    </tr>\n",
       "    <tr>\n",
       "      <th>2</th>\n",
       "      <td>200701BS66127</td>\n",
       "      <td>Serious</td>\n",
       "      <td>2019-08-26</td>\n",
       "      <td>51.517715</td>\n",
       "      <td>Darkness - lighting unknown</td>\n",
       "      <td>Kensington and Chelsea</td>\n",
       "      <td>-0.210215</td>\n",
       "      <td>1</td>\n",
       "      <td>3</td>\n",
       "      <td>Dry</td>\n",
       "      <td>NaN</td>\n",
       "      <td>Urban</td>\n",
       "      <td>NaN</td>\n",
       "      <td>Taxi/Private hire car</td>\n",
       "    </tr>\n",
       "    <tr>\n",
       "      <th>3</th>\n",
       "      <td>200701BS66128</td>\n",
       "      <td>Serious</td>\n",
       "      <td>2019-08-16</td>\n",
       "      <td>51.495478</td>\n",
       "      <td>Daylight</td>\n",
       "      <td>Kensington and Chelsea</td>\n",
       "      <td>-0.202731</td>\n",
       "      <td>1</td>\n",
       "      <td>4</td>\n",
       "      <td>Dry</td>\n",
       "      <td>Single carriageway</td>\n",
       "      <td>Urban</td>\n",
       "      <td>Fine no high winds</td>\n",
       "      <td>Bus or coach (17 or more pass seats)</td>\n",
       "    </tr>\n",
       "    <tr>\n",
       "      <th>4</th>\n",
       "      <td>200701BS66837</td>\n",
       "      <td>Slight</td>\n",
       "      <td>2019-09-03</td>\n",
       "      <td>51.488576</td>\n",
       "      <td>Darkness - lights lit</td>\n",
       "      <td>Kensington and Chelsea</td>\n",
       "      <td>-0.192487</td>\n",
       "      <td>1</td>\n",
       "      <td>2</td>\n",
       "      <td>Dry</td>\n",
       "      <td>NaN</td>\n",
       "      <td>Urban</td>\n",
       "      <td>NaN</td>\n",
       "      <td>Other vehicle</td>\n",
       "    </tr>\n",
       "    <tr>\n",
       "      <th>...</th>\n",
       "      <td>...</td>\n",
       "      <td>...</td>\n",
       "      <td>...</td>\n",
       "      <td>...</td>\n",
       "      <td>...</td>\n",
       "      <td>...</td>\n",
       "      <td>...</td>\n",
       "      <td>...</td>\n",
       "      <td>...</td>\n",
       "      <td>...</td>\n",
       "      <td>...</td>\n",
       "      <td>...</td>\n",
       "      <td>...</td>\n",
       "      <td>...</td>\n",
       "    </tr>\n",
       "    <tr>\n",
       "      <th>660674</th>\n",
       "      <td>201091NM01760</td>\n",
       "      <td>Slight</td>\n",
       "      <td>2022-02-18</td>\n",
       "      <td>57.374005</td>\n",
       "      <td>Daylight</td>\n",
       "      <td>Highland</td>\n",
       "      <td>-3.467828</td>\n",
       "      <td>2</td>\n",
       "      <td>1</td>\n",
       "      <td>Dry</td>\n",
       "      <td>Single carriageway</td>\n",
       "      <td>Rural</td>\n",
       "      <td>Fine no high winds</td>\n",
       "      <td>Car</td>\n",
       "    </tr>\n",
       "    <tr>\n",
       "      <th>660675</th>\n",
       "      <td>201091NM01881</td>\n",
       "      <td>Slight</td>\n",
       "      <td>2022-02-21</td>\n",
       "      <td>57.232273</td>\n",
       "      <td>Darkness - no lighting</td>\n",
       "      <td>Highland</td>\n",
       "      <td>-3.809281</td>\n",
       "      <td>1</td>\n",
       "      <td>1</td>\n",
       "      <td>Frost or ice</td>\n",
       "      <td>Single carriageway</td>\n",
       "      <td>Rural</td>\n",
       "      <td>Fine no high winds</td>\n",
       "      <td>Car</td>\n",
       "    </tr>\n",
       "    <tr>\n",
       "      <th>660676</th>\n",
       "      <td>201091NM01935</td>\n",
       "      <td>Slight</td>\n",
       "      <td>2022-02-23</td>\n",
       "      <td>57.585044</td>\n",
       "      <td>Daylight</td>\n",
       "      <td>Highland</td>\n",
       "      <td>-3.862727</td>\n",
       "      <td>1</td>\n",
       "      <td>3</td>\n",
       "      <td>Frost or ice</td>\n",
       "      <td>Single carriageway</td>\n",
       "      <td>Rural</td>\n",
       "      <td>Fine no high winds</td>\n",
       "      <td>Car</td>\n",
       "    </tr>\n",
       "    <tr>\n",
       "      <th>660677</th>\n",
       "      <td>201091NM01964</td>\n",
       "      <td>Serious</td>\n",
       "      <td>2022-02-23</td>\n",
       "      <td>57.214898</td>\n",
       "      <td>Darkness - no lighting</td>\n",
       "      <td>Highland</td>\n",
       "      <td>-3.823997</td>\n",
       "      <td>1</td>\n",
       "      <td>2</td>\n",
       "      <td>Wet or damp</td>\n",
       "      <td>Single carriageway</td>\n",
       "      <td>Rural</td>\n",
       "      <td>Fine no high winds</td>\n",
       "      <td>Motorcycle over 500cc</td>\n",
       "    </tr>\n",
       "    <tr>\n",
       "      <th>660678</th>\n",
       "      <td>201091NM02142</td>\n",
       "      <td>Serious</td>\n",
       "      <td>2022-02-28</td>\n",
       "      <td>57.575210</td>\n",
       "      <td>Daylight</td>\n",
       "      <td>Highland</td>\n",
       "      <td>-3.895673</td>\n",
       "      <td>1</td>\n",
       "      <td>1</td>\n",
       "      <td>Wet or damp</td>\n",
       "      <td>Dual carriageway</td>\n",
       "      <td>Rural</td>\n",
       "      <td>Snowing no high winds</td>\n",
       "      <td>Car</td>\n",
       "    </tr>\n",
       "  </tbody>\n",
       "</table>\n",
       "<p>660679 rows × 14 columns</p>\n",
       "</div>"
      ],
      "text/plain": [
       "                Index Accident_Severity Accident Date   Latitude  \\\n",
       "0       200701BS64157           Serious    2019-06-05  51.506187   \n",
       "1       200701BS65737           Serious    2019-07-02  51.495029   \n",
       "2       200701BS66127           Serious    2019-08-26  51.517715   \n",
       "3       200701BS66128           Serious    2019-08-16  51.495478   \n",
       "4       200701BS66837            Slight    2019-09-03  51.488576   \n",
       "...               ...               ...           ...        ...   \n",
       "660674  201091NM01760            Slight    2022-02-18  57.374005   \n",
       "660675  201091NM01881            Slight    2022-02-21  57.232273   \n",
       "660676  201091NM01935            Slight    2022-02-23  57.585044   \n",
       "660677  201091NM01964           Serious    2022-02-23  57.214898   \n",
       "660678  201091NM02142           Serious    2022-02-28  57.575210   \n",
       "\n",
       "                   Light_Conditions           District Area  Longitude  \\\n",
       "0             Darkness - lights lit  Kensington and Chelsea  -0.209082   \n",
       "1                          Daylight  Kensington and Chelsea  -0.173647   \n",
       "2       Darkness - lighting unknown  Kensington and Chelsea  -0.210215   \n",
       "3                          Daylight  Kensington and Chelsea  -0.202731   \n",
       "4             Darkness - lights lit  Kensington and Chelsea  -0.192487   \n",
       "...                             ...                     ...        ...   \n",
       "660674                     Daylight                Highland  -3.467828   \n",
       "660675       Darkness - no lighting                Highland  -3.809281   \n",
       "660676                     Daylight                Highland  -3.862727   \n",
       "660677       Darkness - no lighting                Highland  -3.823997   \n",
       "660678                     Daylight                Highland  -3.895673   \n",
       "\n",
       "        Number_of_Casualties  Number_of_Vehicles Road_Surface_Conditions  \\\n",
       "0                          1                   2                     Dry   \n",
       "1                          1                   2             Wet or damp   \n",
       "2                          1                   3                     Dry   \n",
       "3                          1                   4                     Dry   \n",
       "4                          1                   2                     Dry   \n",
       "...                      ...                 ...                     ...   \n",
       "660674                     2                   1                     Dry   \n",
       "660675                     1                   1            Frost or ice   \n",
       "660676                     1                   3            Frost or ice   \n",
       "660677                     1                   2             Wet or damp   \n",
       "660678                     1                   1             Wet or damp   \n",
       "\n",
       "                 Road_Type Urban_or_Rural_Area     Weather_Conditions  \\\n",
       "0       Single carriageway               Urban     Fine no high winds   \n",
       "1       Single carriageway               Urban  Raining no high winds   \n",
       "2                      NaN               Urban                    NaN   \n",
       "3       Single carriageway               Urban     Fine no high winds   \n",
       "4                      NaN               Urban                    NaN   \n",
       "...                    ...                 ...                    ...   \n",
       "660674  Single carriageway               Rural     Fine no high winds   \n",
       "660675  Single carriageway               Rural     Fine no high winds   \n",
       "660676  Single carriageway               Rural     Fine no high winds   \n",
       "660677  Single carriageway               Rural     Fine no high winds   \n",
       "660678    Dual carriageway               Rural  Snowing no high winds   \n",
       "\n",
       "                                Vehicle_Type  \n",
       "0                                        Car  \n",
       "1                                        Car  \n",
       "2                      Taxi/Private hire car  \n",
       "3       Bus or coach (17 or more pass seats)  \n",
       "4                              Other vehicle  \n",
       "...                                      ...  \n",
       "660674                                   Car  \n",
       "660675                                   Car  \n",
       "660676                                   Car  \n",
       "660677                 Motorcycle over 500cc  \n",
       "660678                                   Car  \n",
       "\n",
       "[660679 rows x 14 columns]"
      ]
     },
     "execution_count": 5,
     "metadata": {},
     "output_type": "execute_result"
    }
   ],
   "source": [
    "accident"
   ]
  },
  {
   "cell_type": "markdown",
   "id": "72821309-cc15-4864-bc80-b922282fa509",
   "metadata": {},
   "source": [
    "<h2>Descriptive Analytics</h2>"
   ]
  },
  {
   "cell_type": "code",
   "execution_count": 6,
   "id": "0e95bece-deda-4b32-b0d1-0c59b6330272",
   "metadata": {},
   "outputs": [
    {
     "data": {
      "text/html": [
       "<div>\n",
       "<style scoped>\n",
       "    .dataframe tbody tr th:only-of-type {\n",
       "        vertical-align: middle;\n",
       "    }\n",
       "\n",
       "    .dataframe tbody tr th {\n",
       "        vertical-align: top;\n",
       "    }\n",
       "\n",
       "    .dataframe thead th {\n",
       "        text-align: right;\n",
       "    }\n",
       "</style>\n",
       "<table border=\"1\" class=\"dataframe\">\n",
       "  <thead>\n",
       "    <tr style=\"text-align: right;\">\n",
       "      <th></th>\n",
       "      <th>Accident Date</th>\n",
       "      <th>Latitude</th>\n",
       "      <th>Longitude</th>\n",
       "      <th>Number_of_Casualties</th>\n",
       "      <th>Number_of_Vehicles</th>\n",
       "    </tr>\n",
       "  </thead>\n",
       "  <tbody>\n",
       "    <tr>\n",
       "      <th>count</th>\n",
       "      <td>660679</td>\n",
       "      <td>660654.000000</td>\n",
       "      <td>660653.000000</td>\n",
       "      <td>660679.000000</td>\n",
       "      <td>660679.000000</td>\n",
       "    </tr>\n",
       "    <tr>\n",
       "      <th>mean</th>\n",
       "      <td>2020-11-30 08:30:32.761749760</td>\n",
       "      <td>52.553866</td>\n",
       "      <td>-1.431210</td>\n",
       "      <td>1.357040</td>\n",
       "      <td>1.831255</td>\n",
       "    </tr>\n",
       "    <tr>\n",
       "      <th>min</th>\n",
       "      <td>2019-01-01 00:00:00</td>\n",
       "      <td>49.914430</td>\n",
       "      <td>-7.516225</td>\n",
       "      <td>1.000000</td>\n",
       "      <td>1.000000</td>\n",
       "    </tr>\n",
       "    <tr>\n",
       "      <th>25%</th>\n",
       "      <td>2019-11-27 00:00:00</td>\n",
       "      <td>51.490690</td>\n",
       "      <td>-2.332291</td>\n",
       "      <td>1.000000</td>\n",
       "      <td>1.000000</td>\n",
       "    </tr>\n",
       "    <tr>\n",
       "      <th>50%</th>\n",
       "      <td>2020-11-13 00:00:00</td>\n",
       "      <td>52.315641</td>\n",
       "      <td>-1.411667</td>\n",
       "      <td>1.000000</td>\n",
       "      <td>2.000000</td>\n",
       "    </tr>\n",
       "    <tr>\n",
       "      <th>75%</th>\n",
       "      <td>2021-11-17 00:00:00</td>\n",
       "      <td>53.453452</td>\n",
       "      <td>-0.232869</td>\n",
       "      <td>1.000000</td>\n",
       "      <td>2.000000</td>\n",
       "    </tr>\n",
       "    <tr>\n",
       "      <th>max</th>\n",
       "      <td>2022-12-31 00:00:00</td>\n",
       "      <td>60.757544</td>\n",
       "      <td>1.762010</td>\n",
       "      <td>68.000000</td>\n",
       "      <td>32.000000</td>\n",
       "    </tr>\n",
       "    <tr>\n",
       "      <th>std</th>\n",
       "      <td>NaN</td>\n",
       "      <td>1.406922</td>\n",
       "      <td>1.383330</td>\n",
       "      <td>0.824847</td>\n",
       "      <td>0.715269</td>\n",
       "    </tr>\n",
       "  </tbody>\n",
       "</table>\n",
       "</div>"
      ],
      "text/plain": [
       "                       Accident Date       Latitude      Longitude  \\\n",
       "count                         660679  660654.000000  660653.000000   \n",
       "mean   2020-11-30 08:30:32.761749760      52.553866      -1.431210   \n",
       "min              2019-01-01 00:00:00      49.914430      -7.516225   \n",
       "25%              2019-11-27 00:00:00      51.490690      -2.332291   \n",
       "50%              2020-11-13 00:00:00      52.315641      -1.411667   \n",
       "75%              2021-11-17 00:00:00      53.453452      -0.232869   \n",
       "max              2022-12-31 00:00:00      60.757544       1.762010   \n",
       "std                              NaN       1.406922       1.383330   \n",
       "\n",
       "       Number_of_Casualties  Number_of_Vehicles  \n",
       "count         660679.000000       660679.000000  \n",
       "mean               1.357040            1.831255  \n",
       "min                1.000000            1.000000  \n",
       "25%                1.000000            1.000000  \n",
       "50%                1.000000            2.000000  \n",
       "75%                1.000000            2.000000  \n",
       "max               68.000000           32.000000  \n",
       "std                0.824847            0.715269  "
      ]
     },
     "execution_count": 6,
     "metadata": {},
     "output_type": "execute_result"
    }
   ],
   "source": [
    "accident.describe()"
   ]
  },
  {
   "cell_type": "code",
   "execution_count": 7,
   "id": "e9edae76-c7a5-486e-8a55-82abf8e9f854",
   "metadata": {},
   "outputs": [
    {
     "data": {
      "text/html": [
       "<div>\n",
       "<style scoped>\n",
       "    .dataframe tbody tr th:only-of-type {\n",
       "        vertical-align: middle;\n",
       "    }\n",
       "\n",
       "    .dataframe tbody tr th {\n",
       "        vertical-align: top;\n",
       "    }\n",
       "\n",
       "    .dataframe thead th {\n",
       "        text-align: right;\n",
       "    }\n",
       "</style>\n",
       "<table border=\"1\" class=\"dataframe\">\n",
       "  <thead>\n",
       "    <tr style=\"text-align: right;\">\n",
       "      <th></th>\n",
       "      <th>count</th>\n",
       "      <th>mean</th>\n",
       "      <th>min</th>\n",
       "      <th>25%</th>\n",
       "      <th>50%</th>\n",
       "      <th>75%</th>\n",
       "      <th>max</th>\n",
       "      <th>std</th>\n",
       "    </tr>\n",
       "  </thead>\n",
       "  <tbody>\n",
       "    <tr>\n",
       "      <th>Accident Date</th>\n",
       "      <td>660679</td>\n",
       "      <td>2020-11-30 08:30:32.761749760</td>\n",
       "      <td>2019-01-01 00:00:00</td>\n",
       "      <td>2019-11-27 00:00:00</td>\n",
       "      <td>2020-11-13 00:00:00</td>\n",
       "      <td>2021-11-17 00:00:00</td>\n",
       "      <td>2022-12-31 00:00:00</td>\n",
       "      <td>NaN</td>\n",
       "    </tr>\n",
       "    <tr>\n",
       "      <th>Latitude</th>\n",
       "      <td>660654.0</td>\n",
       "      <td>52.553866</td>\n",
       "      <td>49.91443</td>\n",
       "      <td>51.49069</td>\n",
       "      <td>52.315641</td>\n",
       "      <td>53.453452</td>\n",
       "      <td>60.757544</td>\n",
       "      <td>1.406922</td>\n",
       "    </tr>\n",
       "    <tr>\n",
       "      <th>Longitude</th>\n",
       "      <td>660653.0</td>\n",
       "      <td>-1.43121</td>\n",
       "      <td>-7.516225</td>\n",
       "      <td>-2.332291</td>\n",
       "      <td>-1.411667</td>\n",
       "      <td>-0.232869</td>\n",
       "      <td>1.76201</td>\n",
       "      <td>1.38333</td>\n",
       "    </tr>\n",
       "    <tr>\n",
       "      <th>Number_of_Casualties</th>\n",
       "      <td>660679.0</td>\n",
       "      <td>1.35704</td>\n",
       "      <td>1.0</td>\n",
       "      <td>1.0</td>\n",
       "      <td>1.0</td>\n",
       "      <td>1.0</td>\n",
       "      <td>68.0</td>\n",
       "      <td>0.824847</td>\n",
       "    </tr>\n",
       "    <tr>\n",
       "      <th>Number_of_Vehicles</th>\n",
       "      <td>660679.0</td>\n",
       "      <td>1.831255</td>\n",
       "      <td>1.0</td>\n",
       "      <td>1.0</td>\n",
       "      <td>2.0</td>\n",
       "      <td>2.0</td>\n",
       "      <td>32.0</td>\n",
       "      <td>0.715269</td>\n",
       "    </tr>\n",
       "  </tbody>\n",
       "</table>\n",
       "</div>"
      ],
      "text/plain": [
       "                         count                           mean  \\\n",
       "Accident Date           660679  2020-11-30 08:30:32.761749760   \n",
       "Latitude              660654.0                      52.553866   \n",
       "Longitude             660653.0                       -1.43121   \n",
       "Number_of_Casualties  660679.0                        1.35704   \n",
       "Number_of_Vehicles    660679.0                       1.831255   \n",
       "\n",
       "                                      min                  25%  \\\n",
       "Accident Date         2019-01-01 00:00:00  2019-11-27 00:00:00   \n",
       "Latitude                         49.91443             51.49069   \n",
       "Longitude                       -7.516225            -2.332291   \n",
       "Number_of_Casualties                  1.0                  1.0   \n",
       "Number_of_Vehicles                    1.0                  1.0   \n",
       "\n",
       "                                      50%                  75%  \\\n",
       "Accident Date         2020-11-13 00:00:00  2021-11-17 00:00:00   \n",
       "Latitude                        52.315641            53.453452   \n",
       "Longitude                       -1.411667            -0.232869   \n",
       "Number_of_Casualties                  1.0                  1.0   \n",
       "Number_of_Vehicles                    2.0                  2.0   \n",
       "\n",
       "                                      max       std  \n",
       "Accident Date         2022-12-31 00:00:00       NaN  \n",
       "Latitude                        60.757544  1.406922  \n",
       "Longitude                         1.76201   1.38333  \n",
       "Number_of_Casualties                 68.0  0.824847  \n",
       "Number_of_Vehicles                   32.0  0.715269  "
      ]
     },
     "execution_count": 7,
     "metadata": {},
     "output_type": "execute_result"
    }
   ],
   "source": [
    "accident.describe().T"
   ]
  },
  {
   "cell_type": "markdown",
   "id": "f8094311-7063-4222-8972-f32b6798d9e3",
   "metadata": {},
   "source": [
    "<h2>Checking Null Values</h2>"
   ]
  },
  {
   "cell_type": "code",
   "execution_count": 8,
   "id": "28a4c735-660f-40b3-8a14-5caf34ed746b",
   "metadata": {},
   "outputs": [
    {
     "data": {
      "text/html": [
       "<div>\n",
       "<style scoped>\n",
       "    .dataframe tbody tr th:only-of-type {\n",
       "        vertical-align: middle;\n",
       "    }\n",
       "\n",
       "    .dataframe tbody tr th {\n",
       "        vertical-align: top;\n",
       "    }\n",
       "\n",
       "    .dataframe thead th {\n",
       "        text-align: right;\n",
       "    }\n",
       "</style>\n",
       "<table border=\"1\" class=\"dataframe\">\n",
       "  <thead>\n",
       "    <tr style=\"text-align: right;\">\n",
       "      <th></th>\n",
       "      <th>Index</th>\n",
       "      <th>Accident_Severity</th>\n",
       "      <th>Accident Date</th>\n",
       "      <th>Latitude</th>\n",
       "      <th>Light_Conditions</th>\n",
       "      <th>District Area</th>\n",
       "      <th>Longitude</th>\n",
       "      <th>Number_of_Casualties</th>\n",
       "      <th>Number_of_Vehicles</th>\n",
       "      <th>Road_Surface_Conditions</th>\n",
       "      <th>Road_Type</th>\n",
       "      <th>Urban_or_Rural_Area</th>\n",
       "      <th>Weather_Conditions</th>\n",
       "      <th>Vehicle_Type</th>\n",
       "    </tr>\n",
       "  </thead>\n",
       "  <tbody>\n",
       "    <tr>\n",
       "      <th>0</th>\n",
       "      <td>False</td>\n",
       "      <td>False</td>\n",
       "      <td>False</td>\n",
       "      <td>False</td>\n",
       "      <td>False</td>\n",
       "      <td>False</td>\n",
       "      <td>False</td>\n",
       "      <td>False</td>\n",
       "      <td>False</td>\n",
       "      <td>False</td>\n",
       "      <td>False</td>\n",
       "      <td>False</td>\n",
       "      <td>False</td>\n",
       "      <td>False</td>\n",
       "    </tr>\n",
       "    <tr>\n",
       "      <th>1</th>\n",
       "      <td>False</td>\n",
       "      <td>False</td>\n",
       "      <td>False</td>\n",
       "      <td>False</td>\n",
       "      <td>False</td>\n",
       "      <td>False</td>\n",
       "      <td>False</td>\n",
       "      <td>False</td>\n",
       "      <td>False</td>\n",
       "      <td>False</td>\n",
       "      <td>False</td>\n",
       "      <td>False</td>\n",
       "      <td>False</td>\n",
       "      <td>False</td>\n",
       "    </tr>\n",
       "    <tr>\n",
       "      <th>2</th>\n",
       "      <td>False</td>\n",
       "      <td>False</td>\n",
       "      <td>False</td>\n",
       "      <td>False</td>\n",
       "      <td>False</td>\n",
       "      <td>False</td>\n",
       "      <td>False</td>\n",
       "      <td>False</td>\n",
       "      <td>False</td>\n",
       "      <td>False</td>\n",
       "      <td>True</td>\n",
       "      <td>False</td>\n",
       "      <td>True</td>\n",
       "      <td>False</td>\n",
       "    </tr>\n",
       "    <tr>\n",
       "      <th>3</th>\n",
       "      <td>False</td>\n",
       "      <td>False</td>\n",
       "      <td>False</td>\n",
       "      <td>False</td>\n",
       "      <td>False</td>\n",
       "      <td>False</td>\n",
       "      <td>False</td>\n",
       "      <td>False</td>\n",
       "      <td>False</td>\n",
       "      <td>False</td>\n",
       "      <td>False</td>\n",
       "      <td>False</td>\n",
       "      <td>False</td>\n",
       "      <td>False</td>\n",
       "    </tr>\n",
       "    <tr>\n",
       "      <th>4</th>\n",
       "      <td>False</td>\n",
       "      <td>False</td>\n",
       "      <td>False</td>\n",
       "      <td>False</td>\n",
       "      <td>False</td>\n",
       "      <td>False</td>\n",
       "      <td>False</td>\n",
       "      <td>False</td>\n",
       "      <td>False</td>\n",
       "      <td>False</td>\n",
       "      <td>True</td>\n",
       "      <td>False</td>\n",
       "      <td>True</td>\n",
       "      <td>False</td>\n",
       "    </tr>\n",
       "    <tr>\n",
       "      <th>...</th>\n",
       "      <td>...</td>\n",
       "      <td>...</td>\n",
       "      <td>...</td>\n",
       "      <td>...</td>\n",
       "      <td>...</td>\n",
       "      <td>...</td>\n",
       "      <td>...</td>\n",
       "      <td>...</td>\n",
       "      <td>...</td>\n",
       "      <td>...</td>\n",
       "      <td>...</td>\n",
       "      <td>...</td>\n",
       "      <td>...</td>\n",
       "      <td>...</td>\n",
       "    </tr>\n",
       "    <tr>\n",
       "      <th>660674</th>\n",
       "      <td>False</td>\n",
       "      <td>False</td>\n",
       "      <td>False</td>\n",
       "      <td>False</td>\n",
       "      <td>False</td>\n",
       "      <td>False</td>\n",
       "      <td>False</td>\n",
       "      <td>False</td>\n",
       "      <td>False</td>\n",
       "      <td>False</td>\n",
       "      <td>False</td>\n",
       "      <td>False</td>\n",
       "      <td>False</td>\n",
       "      <td>False</td>\n",
       "    </tr>\n",
       "    <tr>\n",
       "      <th>660675</th>\n",
       "      <td>False</td>\n",
       "      <td>False</td>\n",
       "      <td>False</td>\n",
       "      <td>False</td>\n",
       "      <td>False</td>\n",
       "      <td>False</td>\n",
       "      <td>False</td>\n",
       "      <td>False</td>\n",
       "      <td>False</td>\n",
       "      <td>False</td>\n",
       "      <td>False</td>\n",
       "      <td>False</td>\n",
       "      <td>False</td>\n",
       "      <td>False</td>\n",
       "    </tr>\n",
       "    <tr>\n",
       "      <th>660676</th>\n",
       "      <td>False</td>\n",
       "      <td>False</td>\n",
       "      <td>False</td>\n",
       "      <td>False</td>\n",
       "      <td>False</td>\n",
       "      <td>False</td>\n",
       "      <td>False</td>\n",
       "      <td>False</td>\n",
       "      <td>False</td>\n",
       "      <td>False</td>\n",
       "      <td>False</td>\n",
       "      <td>False</td>\n",
       "      <td>False</td>\n",
       "      <td>False</td>\n",
       "    </tr>\n",
       "    <tr>\n",
       "      <th>660677</th>\n",
       "      <td>False</td>\n",
       "      <td>False</td>\n",
       "      <td>False</td>\n",
       "      <td>False</td>\n",
       "      <td>False</td>\n",
       "      <td>False</td>\n",
       "      <td>False</td>\n",
       "      <td>False</td>\n",
       "      <td>False</td>\n",
       "      <td>False</td>\n",
       "      <td>False</td>\n",
       "      <td>False</td>\n",
       "      <td>False</td>\n",
       "      <td>False</td>\n",
       "    </tr>\n",
       "    <tr>\n",
       "      <th>660678</th>\n",
       "      <td>False</td>\n",
       "      <td>False</td>\n",
       "      <td>False</td>\n",
       "      <td>False</td>\n",
       "      <td>False</td>\n",
       "      <td>False</td>\n",
       "      <td>False</td>\n",
       "      <td>False</td>\n",
       "      <td>False</td>\n",
       "      <td>False</td>\n",
       "      <td>False</td>\n",
       "      <td>False</td>\n",
       "      <td>False</td>\n",
       "      <td>False</td>\n",
       "    </tr>\n",
       "  </tbody>\n",
       "</table>\n",
       "<p>660679 rows × 14 columns</p>\n",
       "</div>"
      ],
      "text/plain": [
       "        Index  Accident_Severity  Accident Date  Latitude  Light_Conditions  \\\n",
       "0       False              False          False     False             False   \n",
       "1       False              False          False     False             False   \n",
       "2       False              False          False     False             False   \n",
       "3       False              False          False     False             False   \n",
       "4       False              False          False     False             False   \n",
       "...       ...                ...            ...       ...               ...   \n",
       "660674  False              False          False     False             False   \n",
       "660675  False              False          False     False             False   \n",
       "660676  False              False          False     False             False   \n",
       "660677  False              False          False     False             False   \n",
       "660678  False              False          False     False             False   \n",
       "\n",
       "        District Area  Longitude  Number_of_Casualties  Number_of_Vehicles  \\\n",
       "0               False      False                 False               False   \n",
       "1               False      False                 False               False   \n",
       "2               False      False                 False               False   \n",
       "3               False      False                 False               False   \n",
       "4               False      False                 False               False   \n",
       "...               ...        ...                   ...                 ...   \n",
       "660674          False      False                 False               False   \n",
       "660675          False      False                 False               False   \n",
       "660676          False      False                 False               False   \n",
       "660677          False      False                 False               False   \n",
       "660678          False      False                 False               False   \n",
       "\n",
       "        Road_Surface_Conditions  Road_Type  Urban_or_Rural_Area  \\\n",
       "0                         False      False                False   \n",
       "1                         False      False                False   \n",
       "2                         False       True                False   \n",
       "3                         False      False                False   \n",
       "4                         False       True                False   \n",
       "...                         ...        ...                  ...   \n",
       "660674                    False      False                False   \n",
       "660675                    False      False                False   \n",
       "660676                    False      False                False   \n",
       "660677                    False      False                False   \n",
       "660678                    False      False                False   \n",
       "\n",
       "        Weather_Conditions  Vehicle_Type  \n",
       "0                    False         False  \n",
       "1                    False         False  \n",
       "2                     True         False  \n",
       "3                    False         False  \n",
       "4                     True         False  \n",
       "...                    ...           ...  \n",
       "660674               False         False  \n",
       "660675               False         False  \n",
       "660676               False         False  \n",
       "660677               False         False  \n",
       "660678               False         False  \n",
       "\n",
       "[660679 rows x 14 columns]"
      ]
     },
     "execution_count": 8,
     "metadata": {},
     "output_type": "execute_result"
    }
   ],
   "source": [
    "accident.isnull()"
   ]
  },
  {
   "cell_type": "code",
   "execution_count": 9,
   "id": "c61cef38-7f88-4845-8d38-e27a1ceb4a37",
   "metadata": {},
   "outputs": [
    {
     "data": {
      "text/plain": [
       "Index                          0\n",
       "Accident_Severity              0\n",
       "Accident Date                  0\n",
       "Latitude                      25\n",
       "Light_Conditions               0\n",
       "District Area                  0\n",
       "Longitude                     26\n",
       "Number_of_Casualties           0\n",
       "Number_of_Vehicles             0\n",
       "Road_Surface_Conditions      726\n",
       "Road_Type                   4520\n",
       "Urban_or_Rural_Area           15\n",
       "Weather_Conditions         14128\n",
       "Vehicle_Type                   0\n",
       "dtype: int64"
      ]
     },
     "execution_count": 9,
     "metadata": {},
     "output_type": "execute_result"
    }
   ],
   "source": [
    "accident.isnull().sum()"
   ]
  },
  {
   "cell_type": "markdown",
   "id": "d91ccf1f-7e90-4eb1-8270-ec446cf72435",
   "metadata": {},
   "source": [
    "<h2>Filtering a column</h2>"
   ]
  },
  {
   "cell_type": "code",
   "execution_count": 10,
   "id": "02dc348b-9083-42c5-a0c5-3518661c7b8c",
   "metadata": {},
   "outputs": [
    {
     "data": {
      "text/plain": [
       "Index\n",
       "2.01E+12         239478\n",
       "2.01E+86              4\n",
       "2.01E+197             4\n",
       "2.01E+98              4\n",
       "2.01E+175             4\n",
       "                  ...  \n",
       "201091NM01760         1\n",
       "201091NM01881         1\n",
       "201091NM01935         1\n",
       "201091NM01964         1\n",
       "201091NM02142         1\n",
       "Name: count, Length: 421020, dtype: int64"
      ]
     },
     "execution_count": 10,
     "metadata": {},
     "output_type": "execute_result"
    }
   ],
   "source": [
    "accident['Index'].value_counts()"
   ]
  },
  {
   "cell_type": "code",
   "execution_count": 11,
   "id": "8732db0b-bbe8-43c6-84fa-ae0f4f2aa9bd",
   "metadata": {},
   "outputs": [
    {
     "data": {
      "text/plain": [
       "Accident_Severity\n",
       "Slight     563801\n",
       "Serious     88217\n",
       "Fatal        8661\n",
       "Name: count, dtype: int64"
      ]
     },
     "execution_count": 11,
     "metadata": {},
     "output_type": "execute_result"
    }
   ],
   "source": [
    "accident['Accident_Severity'].value_counts()"
   ]
  },
  {
   "cell_type": "code",
   "execution_count": 12,
   "id": "ef8aff8d-c8c4-491c-a535-c2dcfa32352d",
   "metadata": {},
   "outputs": [
    {
     "data": {
      "text/plain": [
       "Accident Date\n",
       "2019-11-30    704\n",
       "2019-01-31    697\n",
       "2019-07-13    692\n",
       "2021-11-13    692\n",
       "2019-08-14    688\n",
       "             ... \n",
       "2022-12-30    171\n",
       "2019-12-25    157\n",
       "2022-12-25    145\n",
       "2022-01-10    123\n",
       "2020-12-25    118\n",
       "Name: count, Length: 1461, dtype: int64"
      ]
     },
     "execution_count": 12,
     "metadata": {},
     "output_type": "execute_result"
    }
   ],
   "source": [
    "accident['Accident Date'].value_counts()"
   ]
  },
  {
   "cell_type": "code",
   "execution_count": 13,
   "id": "b92d4c10-afce-497e-b9aa-b49a4d5d7cf7",
   "metadata": {},
   "outputs": [
    {
     "data": {
      "text/plain": [
       "Latitude\n",
       "52.458798    50\n",
       "52.949719    45\n",
       "53.083165    33\n",
       "52.967634    31\n",
       "52.938860    29\n",
       "             ..\n",
       "56.880265     1\n",
       "56.865367     1\n",
       "57.528413     1\n",
       "57.194499     1\n",
       "51.493490     1\n",
       "Name: count, Length: 511618, dtype: int64"
      ]
     },
     "execution_count": 13,
     "metadata": {},
     "output_type": "execute_result"
    }
   ],
   "source": [
    "accident['Latitude'].value_counts()"
   ]
  },
  {
   "cell_type": "code",
   "execution_count": 14,
   "id": "bd6deee8-3077-4701-b301-4a84fd136ece",
   "metadata": {},
   "outputs": [
    {
     "data": {
      "text/plain": [
       "Light_Conditions\n",
       "Daylight                       484880\n",
       "Darkness - lights lit          129335\n",
       "Darkness - no lighting          37437\n",
       "Darkness - lighting unknown      6484\n",
       "Darkness - lights unlit          2543\n",
       "Name: count, dtype: int64"
      ]
     },
     "execution_count": 14,
     "metadata": {},
     "output_type": "execute_result"
    }
   ],
   "source": [
    "accident['Light_Conditions'].value_counts()"
   ]
  },
  {
   "cell_type": "code",
   "execution_count": 15,
   "id": "b8b84fa4-bbcb-4f35-9a02-37faac16b938",
   "metadata": {},
   "outputs": [
    {
     "data": {
      "text/plain": [
       "District Area\n",
       "Birmingham            13491\n",
       "Leeds                  8898\n",
       "Manchester             6720\n",
       "Bradford               6212\n",
       "Sheffield              5710\n",
       "                      ...  \n",
       "Berwick-upon-Tweed      153\n",
       "Teesdale                142\n",
       "Shetland Islands        133\n",
       "Orkney Islands          117\n",
       "Clackmannanshire         91\n",
       "Name: count, Length: 422, dtype: int64"
      ]
     },
     "execution_count": 15,
     "metadata": {},
     "output_type": "execute_result"
    }
   ],
   "source": [
    "accident['District Area'].value_counts()"
   ]
  },
  {
   "cell_type": "code",
   "execution_count": 16,
   "id": "31b53b24-d791-4f4f-a95f-fbd1793aaf2b",
   "metadata": {},
   "outputs": [
    {
     "data": {
      "text/plain": [
       "Longitude\n",
       "-0.977611    45\n",
       "-1.871043    36\n",
       "-0.816789    33\n",
       "-1.190861    31\n",
       "-1.216694    29\n",
       "             ..\n",
       "-4.169644     1\n",
       "-3.798648     1\n",
       "-3.630574     1\n",
       "-3.836563     1\n",
       "-3.924477     1\n",
       "Name: count, Length: 529766, dtype: int64"
      ]
     },
     "execution_count": 16,
     "metadata": {},
     "output_type": "execute_result"
    }
   ],
   "source": [
    "accident['Longitude'].value_counts()"
   ]
  },
  {
   "cell_type": "code",
   "execution_count": 17,
   "id": "8a4a07be-fa01-4646-ae94-66a2cb532d53",
   "metadata": {},
   "outputs": [
    {
     "data": {
      "text/plain": [
       "Number_of_Casualties\n",
       "1     504041\n",
       "2     107971\n",
       "3      30776\n",
       "4      11156\n",
       "5       4123\n",
       "6       1525\n",
       "7        539\n",
       "8        214\n",
       "9        112\n",
       "10        58\n",
       "11        36\n",
       "13        24\n",
       "12        21\n",
       "14        13\n",
       "15        11\n",
       "17         8\n",
       "19         7\n",
       "16         7\n",
       "18         6\n",
       "22         5\n",
       "21         4\n",
       "29         3\n",
       "40         2\n",
       "28         2\n",
       "24         2\n",
       "27         2\n",
       "42         2\n",
       "25         1\n",
       "32         1\n",
       "68         1\n",
       "45         1\n",
       "62         1\n",
       "47         1\n",
       "48         1\n",
       "26         1\n",
       "43         1\n",
       "Name: count, dtype: int64"
      ]
     },
     "execution_count": 17,
     "metadata": {},
     "output_type": "execute_result"
    }
   ],
   "source": [
    "accident['Number_of_Casualties'].value_counts()"
   ]
  },
  {
   "cell_type": "code",
   "execution_count": 18,
   "id": "61b26333-a576-4c84-b491-551a7c10a7ef",
   "metadata": {},
   "outputs": [
    {
     "data": {
      "text/plain": [
       "Number_of_Vehicles\n",
       "2     391995\n",
       "1     200787\n",
       "3      52806\n",
       "4      11300\n",
       "5       2464\n",
       "6        758\n",
       "7        296\n",
       "8        147\n",
       "9         57\n",
       "10        27\n",
       "11        12\n",
       "14         9\n",
       "12         7\n",
       "13         6\n",
       "16         4\n",
       "28         1\n",
       "15         1\n",
       "32         1\n",
       "19         1\n",
       "Name: count, dtype: int64"
      ]
     },
     "execution_count": 18,
     "metadata": {},
     "output_type": "execute_result"
    }
   ],
   "source": [
    "accident['Number_of_Vehicles'].value_counts()"
   ]
  },
  {
   "cell_type": "code",
   "execution_count": 19,
   "id": "9fb27c3e-b362-4a6c-8171-a406e2077794",
   "metadata": {},
   "outputs": [
    {
     "data": {
      "text/plain": [
       "Road_Surface_Conditions\n",
       "Dry                     447821\n",
       "Wet or damp             186708\n",
       "Frost or ice             18517\n",
       "Snow                      5890\n",
       "Flood over 3cm. deep      1017\n",
       "Name: count, dtype: int64"
      ]
     },
     "execution_count": 19,
     "metadata": {},
     "output_type": "execute_result"
    }
   ],
   "source": [
    "accident['Road_Surface_Conditions'].value_counts()"
   ]
  },
  {
   "cell_type": "code",
   "execution_count": 20,
   "id": "01152362-4172-419b-ba94-a2c74ae13854",
   "metadata": {},
   "outputs": [
    {
     "data": {
      "text/plain": [
       "Road_Type\n",
       "Single carriageway    492143\n",
       "Dual carriageway       99424\n",
       "Roundabout             43992\n",
       "One way street         13559\n",
       "Slip road               7041\n",
       "Name: count, dtype: int64"
      ]
     },
     "execution_count": 20,
     "metadata": {},
     "output_type": "execute_result"
    }
   ],
   "source": [
    "accident['Road_Type'].value_counts()"
   ]
  },
  {
   "cell_type": "code",
   "execution_count": 21,
   "id": "81095f47-f51d-4c12-ab27-7fa2e1ed504d",
   "metadata": {},
   "outputs": [
    {
     "data": {
      "text/plain": [
       "Urban_or_Rural_Area\n",
       "Urban          421663\n",
       "Rural          238990\n",
       "Unallocated        11\n",
       "Name: count, dtype: int64"
      ]
     },
     "execution_count": 21,
     "metadata": {},
     "output_type": "execute_result"
    }
   ],
   "source": [
    "accident['Urban_or_Rural_Area'].value_counts()"
   ]
  },
  {
   "cell_type": "code",
   "execution_count": 22,
   "id": "0a75f164-3a28-426d-8871-c4cec1cf6375",
   "metadata": {},
   "outputs": [
    {
     "data": {
      "text/plain": [
       "Weather_Conditions\n",
       "Fine no high winds       520885\n",
       "Raining no high winds     79696\n",
       "Other                     17150\n",
       "Raining + high winds       9615\n",
       "Fine + high winds          8554\n",
       "Snowing no high winds      6238\n",
       "Fog or mist                3528\n",
       "Snowing + high winds        885\n",
       "Name: count, dtype: int64"
      ]
     },
     "execution_count": 22,
     "metadata": {},
     "output_type": "execute_result"
    }
   ],
   "source": [
    "accident['Weather_Conditions'].value_counts()"
   ]
  },
  {
   "cell_type": "code",
   "execution_count": 23,
   "id": "04783304-3aa0-46cc-a2d6-d39be6bbaf99",
   "metadata": {},
   "outputs": [
    {
     "data": {
      "text/plain": [
       "Vehicle_Type\n",
       "Car                                      497992\n",
       "Van / Goods 3.5 tonnes mgw or under       34160\n",
       "Bus or coach (17 or more pass seats)      25878\n",
       "Motorcycle over 500cc                     25657\n",
       "Goods 7.5 tonnes mgw and over             17307\n",
       "Motorcycle 125cc and under                15269\n",
       "Taxi/Private hire car                     13294\n",
       "Motorcycle over 125cc and up to 500cc      7656\n",
       "Motorcycle 50cc and under                  7603\n",
       "Goods over 3.5t. and under 7.5t            6096\n",
       "Other vehicle                              5637\n",
       "Minibus (8 - 16 passenger seats)           1976\n",
       "Agricultural vehicle                       1947\n",
       "Pedal cycle                                 197\n",
       "Data missing or out of range                  6\n",
       "Ridden horse                                  4\n",
       "Name: count, dtype: int64"
      ]
     },
     "execution_count": 23,
     "metadata": {},
     "output_type": "execute_result"
    }
   ],
   "source": [
    "accident['Vehicle_Type'].value_counts()"
   ]
  },
  {
   "cell_type": "markdown",
   "id": "d70992e1-29c0-47d6-95f7-51e7f3f1408e",
   "metadata": {},
   "source": [
    "<h2>FILLING UP NULL VALUES</h2>"
   ]
  },
  {
   "cell_type": "code",
   "execution_count": 24,
   "id": "e6717a93-22e0-4f04-8c34-433ea1f48d91",
   "metadata": {},
   "outputs": [
    {
     "data": {
      "text/plain": [
       "Index                          0\n",
       "Accident_Severity              0\n",
       "Accident Date                  0\n",
       "Latitude                      25\n",
       "Light_Conditions               0\n",
       "District Area                  0\n",
       "Longitude                     26\n",
       "Number_of_Casualties           0\n",
       "Number_of_Vehicles             0\n",
       "Road_Surface_Conditions      726\n",
       "Road_Type                   4520\n",
       "Urban_or_Rural_Area           15\n",
       "Weather_Conditions         14128\n",
       "Vehicle_Type                   0\n",
       "dtype: int64"
      ]
     },
     "execution_count": 24,
     "metadata": {},
     "output_type": "execute_result"
    }
   ],
   "source": [
    "accident.isnull().sum()"
   ]
  },
  {
   "cell_type": "code",
   "execution_count": 25,
   "id": "3cce2de6-2153-4d96-9fe3-82ccedd8bf4e",
   "metadata": {},
   "outputs": [
    {
     "data": {
      "text/plain": [
       "np.float64(52.553865761110956)"
      ]
     },
     "execution_count": 25,
     "metadata": {},
     "output_type": "execute_result"
    }
   ],
   "source": [
    "accident['Latitude'].mean()"
   ]
  },
  {
   "cell_type": "code",
   "execution_count": 26,
   "id": "f3d68960-e94d-4405-a1cd-e5a6689ec7a0",
   "metadata": {},
   "outputs": [],
   "source": [
    "accident['Latitude'] = accident['Latitude'].fillna(accident['Latitude'].mean())\n",
    "accident['Longitude'] = accident['Longitude'].fillna(accident['Longitude'].mean())\n",
    "accident['Road_Surface_Conditions'] = accident['Road_Surface_Conditions'].fillna(accident['Road_Surface_Conditions'].mode()[0])\n",
    "accident['Road_Type'] = accident['Road_Type'].fillna(accident['Road_Type'].mode()[0])\n",
    "accident['Urban_or_Rural_Area'] = accident['Urban_or_Rural_Area'].fillna(accident['Urban_or_Rural_Area'].mode()[0])\n",
    "accident['Weather_Conditions'] = accident['Weather_Conditions'].fillna(accident['Weather_Conditions'].mode()[0])"
   ]
  },
  {
   "cell_type": "code",
   "execution_count": 27,
   "id": "62c054f3-6519-4d05-bfa7-ff4c569985bd",
   "metadata": {},
   "outputs": [
    {
     "data": {
      "text/plain": [
       "Index                      0\n",
       "Accident_Severity          0\n",
       "Accident Date              0\n",
       "Latitude                   0\n",
       "Light_Conditions           0\n",
       "District Area              0\n",
       "Longitude                  0\n",
       "Number_of_Casualties       0\n",
       "Number_of_Vehicles         0\n",
       "Road_Surface_Conditions    0\n",
       "Road_Type                  0\n",
       "Urban_or_Rural_Area        0\n",
       "Weather_Conditions         0\n",
       "Vehicle_Type               0\n",
       "dtype: int64"
      ]
     },
     "execution_count": 27,
     "metadata": {},
     "output_type": "execute_result"
    }
   ],
   "source": [
    "accident.isnull().sum()"
   ]
  },
  {
   "cell_type": "markdown",
   "id": "ae2e0c3d-48c5-44b6-aa21-aac49f6b95c8",
   "metadata": {},
   "source": [
    "<h1>Extracting date information using pandas date time</h1>\n",
    "<hr>"
   ]
  },
  {
   "cell_type": "code",
   "execution_count": 28,
   "id": "ee5da13a-0f48-4ecc-bdea-d882d09148fd",
   "metadata": {},
   "outputs": [],
   "source": [
    "accident['Year'] = accident['Accident Date'].dt.year\n",
    "accident['Month'] = accident['Accident Date'].dt.month\n",
    "accident['Day'] = accident['Accident Date'].dt.day\n",
    "accident['DayOfWeek']= accident['Accident Date'].dt.dayofweek #Monday=0, Sunday=6"
   ]
  },
  {
   "cell_type": "code",
   "execution_count": 29,
   "id": "fd876e83-aa7b-4c9a-8cc8-4486657cdcc6",
   "metadata": {},
   "outputs": [
    {
     "data": {
      "text/plain": [
       "Index                      0\n",
       "Accident_Severity          0\n",
       "Accident Date              0\n",
       "Latitude                   0\n",
       "Light_Conditions           0\n",
       "District Area              0\n",
       "Longitude                  0\n",
       "Number_of_Casualties       0\n",
       "Number_of_Vehicles         0\n",
       "Road_Surface_Conditions    0\n",
       "Road_Type                  0\n",
       "Urban_or_Rural_Area        0\n",
       "Weather_Conditions         0\n",
       "Vehicle_Type               0\n",
       "Year                       0\n",
       "Month                      0\n",
       "Day                        0\n",
       "DayOfWeek                  0\n",
       "dtype: int64"
      ]
     },
     "execution_count": 29,
     "metadata": {},
     "output_type": "execute_result"
    }
   ],
   "source": [
    "accident.isnull().sum()"
   ]
  },
  {
   "cell_type": "markdown",
   "id": "a7f09f54-1655-4b73-87af-6fa03e93505c",
   "metadata": {},
   "source": [
    "<h2>Changing the Data type</h2>"
   ]
  },
  {
   "cell_type": "code",
   "execution_count": 30,
   "id": "84bb2b24-3791-4fdc-8868-280a8701ea01",
   "metadata": {},
   "outputs": [
    {
     "name": "stdout",
     "output_type": "stream",
     "text": [
      "<class 'pandas.core.frame.DataFrame'>\n",
      "RangeIndex: 660679 entries, 0 to 660678\n",
      "Data columns (total 18 columns):\n",
      " #   Column                   Non-Null Count   Dtype         \n",
      "---  ------                   --------------   -----         \n",
      " 0   Index                    660679 non-null  object        \n",
      " 1   Accident_Severity        660679 non-null  object        \n",
      " 2   Accident Date            660679 non-null  datetime64[ns]\n",
      " 3   Latitude                 660679 non-null  float64       \n",
      " 4   Light_Conditions         660679 non-null  object        \n",
      " 5   District Area            660679 non-null  object        \n",
      " 6   Longitude                660679 non-null  float64       \n",
      " 7   Number_of_Casualties     660679 non-null  int64         \n",
      " 8   Number_of_Vehicles       660679 non-null  int64         \n",
      " 9   Road_Surface_Conditions  660679 non-null  object        \n",
      " 10  Road_Type                660679 non-null  object        \n",
      " 11  Urban_or_Rural_Area      660679 non-null  object        \n",
      " 12  Weather_Conditions       660679 non-null  object        \n",
      " 13  Vehicle_Type             660679 non-null  object        \n",
      " 14  Year                     660679 non-null  int32         \n",
      " 15  Month                    660679 non-null  int32         \n",
      " 16  Day                      660679 non-null  int32         \n",
      " 17  DayOfWeek                660679 non-null  int32         \n",
      "dtypes: datetime64[ns](1), float64(2), int32(4), int64(2), object(9)\n",
      "memory usage: 80.6+ MB\n"
     ]
    }
   ],
   "source": [
    "accident.info()"
   ]
  },
  {
   "cell_type": "code",
   "execution_count": 31,
   "id": "8742ae5c-b93b-4956-aeac-571677f99e38",
   "metadata": {},
   "outputs": [],
   "source": [
    "accident['Index'] = accident['Index'].astype('category')\n",
    "accident['Accident_Severity'] = accident['Accident_Severity'].astype('category')\n",
    "accident['Accident Date'] = accident['Accident Date'].astype('category')\n",
    "accident['Light_Conditions'] = accident['Light_Conditions'].astype('category')\n",
    "accident['District Area'] = accident['District Area'].astype('category')\n",
    "accident['Number_of_Casualties'] = accident['Number_of_Casualties'].astype('category')\n",
    "accident['Number_of_Vehicles'] = accident['Number_of_Vehicles'].astype('category')\n",
    "accident['Road_Surface_Conditions'] = accident['Road_Surface_Conditions'].astype('category')\n",
    "accident['Road_Type'] = accident['Road_Type'].astype('category')\n",
    "accident['Urban_or_Rural_Area'] = accident['Urban_or_Rural_Area'].astype('category')\n",
    "accident['Weather_Conditions'] = accident['Weather_Conditions'].astype('category')\n",
    "accident['Vehicle_Type'] = accident['Vehicle_Type'].astype('category')"
   ]
  },
  {
   "cell_type": "code",
   "execution_count": 32,
   "id": "3a7cf816-2379-45f6-9022-1fb449789ad7",
   "metadata": {},
   "outputs": [
    {
     "name": "stdout",
     "output_type": "stream",
     "text": [
      "<class 'pandas.core.frame.DataFrame'>\n",
      "RangeIndex: 660679 entries, 0 to 660678\n",
      "Data columns (total 18 columns):\n",
      " #   Column                   Non-Null Count   Dtype   \n",
      "---  ------                   --------------   -----   \n",
      " 0   Index                    660679 non-null  category\n",
      " 1   Accident_Severity        660679 non-null  category\n",
      " 2   Accident Date            660679 non-null  category\n",
      " 3   Latitude                 660679 non-null  float64 \n",
      " 4   Light_Conditions         660679 non-null  category\n",
      " 5   District Area            660679 non-null  category\n",
      " 6   Longitude                660679 non-null  float64 \n",
      " 7   Number_of_Casualties     660679 non-null  category\n",
      " 8   Number_of_Vehicles       660679 non-null  category\n",
      " 9   Road_Surface_Conditions  660679 non-null  category\n",
      " 10  Road_Type                660679 non-null  category\n",
      " 11  Urban_or_Rural_Area      660679 non-null  category\n",
      " 12  Weather_Conditions       660679 non-null  category\n",
      " 13  Vehicle_Type             660679 non-null  category\n",
      " 14  Year                     660679 non-null  int32   \n",
      " 15  Month                    660679 non-null  int32   \n",
      " 16  Day                      660679 non-null  int32   \n",
      " 17  DayOfWeek                660679 non-null  int32   \n",
      "dtypes: category(12), float64(2), int32(4)\n",
      "memory usage: 50.3 MB\n"
     ]
    }
   ],
   "source": [
    "accident.info()"
   ]
  },
  {
   "cell_type": "markdown",
   "id": "095fdaa1-6e1d-4a55-9c64-2ffddf39aa7f",
   "metadata": {},
   "source": [
    "<h2>Exploratory Data Analytics</h2>\n",
    "<hr>"
   ]
  },
  {
   "cell_type": "markdown",
   "id": "643e1b59-ba92-4daa-af21-51ea3cc03e26",
   "metadata": {},
   "source": [
    "<h3>Question 1</h3>\n",
    "<h4>1. How many accidents happened at night vs daytime?</p>"
   ]
  },
  {
   "cell_type": "code",
   "execution_count": 33,
   "id": "d2c9a42e-d164-4b8b-8a4e-2442a9081fa5",
   "metadata": {},
   "outputs": [
    {
     "data": {
      "text/plain": [
       "Light_Conditions\n",
       "Daylight                       484880\n",
       "Darkness - lights lit          129335\n",
       "Darkness - no lighting          37437\n",
       "Darkness - lighting unknown      6484\n",
       "Darkness - lights unlit          2543\n",
       "Name: count, dtype: int64"
      ]
     },
     "execution_count": 33,
     "metadata": {},
     "output_type": "execute_result"
    }
   ],
   "source": [
    "light_conditions_df = accident['Light_Conditions'].value_counts()\n",
    "light_conditions_df"
   ]
  },
  {
   "cell_type": "markdown",
   "id": "df3d791b-5f24-42e0-a926-1cfd8e497613",
   "metadata": {},
   "source": [
    "<h4>Insight No.1</h4>\n",
    "<p>In this code shows how many accident happened at night and daytime</p>"
   ]
  },
  {
   "cell_type": "markdown",
   "id": "8a5b033e-8e69-45e0-88a0-ff03b6dd82fc",
   "metadata": {},
   "source": [
    "<h3>Question 2</h3>\n",
    "<h4>2. How many accidents happened in fine weather vs bad weather?</p>"
   ]
  },
  {
   "cell_type": "code",
   "execution_count": 34,
   "id": "269d9bd8-2604-4e7b-ad0e-2ed45e317ac2",
   "metadata": {},
   "outputs": [
    {
     "data": {
      "text/plain": [
       "Weather_Conditions\n",
       "Fine no high winds       535013\n",
       "Raining no high winds     79696\n",
       "Other                     17150\n",
       "Raining + high winds       9615\n",
       "Fine + high winds          8554\n",
       "Snowing no high winds      6238\n",
       "Fog or mist                3528\n",
       "Snowing + high winds        885\n",
       "Name: count, dtype: int64"
      ]
     },
     "execution_count": 34,
     "metadata": {},
     "output_type": "execute_result"
    }
   ],
   "source": [
    "weather_conditions_df = accident['Weather_Conditions'].value_counts()\n",
    "weather_conditions_df"
   ]
  },
  {
   "cell_type": "markdown",
   "id": "c96f9346-de69-4b0c-b6b2-c1822d07ba2a",
   "metadata": {},
   "source": [
    "<h4>Insight No.2</h4>\n",
    "<p>In this code shows how many accidents happened in fine weather and bad weather</p>"
   ]
  },
  {
   "cell_type": "markdown",
   "id": "88ca6d97-c9f1-46f6-8574-34a1ae9474f1",
   "metadata": {},
   "source": [
    "<h3>Question 3</h3>\n",
    "<h4>3. How many accidents occurred in urban vs rural areas?</p>"
   ]
  },
  {
   "cell_type": "code",
   "execution_count": 35,
   "id": "2ccf5c27-e506-4ce2-b3cd-44ce30ee6881",
   "metadata": {},
   "outputs": [
    {
     "data": {
      "text/plain": [
       "Urban_or_Rural_Area\n",
       "Urban          421678\n",
       "Rural          238990\n",
       "Unallocated        11\n",
       "Name: count, dtype: int64"
      ]
     },
     "execution_count": 35,
     "metadata": {},
     "output_type": "execute_result"
    }
   ],
   "source": [
    "urban_or_rural_df = accident['Urban_or_Rural_Area'].value_counts()\n",
    "urban_or_rural_df"
   ]
  },
  {
   "cell_type": "markdown",
   "id": "02f997dc-f312-4cef-a91f-b1a29169d0db",
   "metadata": {},
   "source": [
    "<h4>Insight No.3</h4>\n",
    "<p>This shows how many accident in rural and urban areas</p>"
   ]
  },
  {
   "cell_type": "markdown",
   "id": "95b53b69-c965-43ae-8fdf-52ace40c1621",
   "metadata": {},
   "source": [
    "<h3>Question 4</h3>\n",
    "<h4>4. Which road type has the most accidents?</p>"
   ]
  },
  {
   "cell_type": "code",
   "execution_count": 36,
   "id": "2240a771-8ada-45c3-85fa-60b98a31bcc7",
   "metadata": {},
   "outputs": [
    {
     "data": {
      "text/plain": [
       "Road_Type\n",
       "Single carriageway    496663\n",
       "Dual carriageway       99424\n",
       "Roundabout             43992\n",
       "One way street         13559\n",
       "Slip road               7041\n",
       "Name: count, dtype: int64"
      ]
     },
     "execution_count": 36,
     "metadata": {},
     "output_type": "execute_result"
    }
   ],
   "source": [
    "accident['Road_Type'].value_counts()"
   ]
  },
  {
   "cell_type": "markdown",
   "id": "4b8e7cf3-5b06-4981-824f-e69eb8c90958",
   "metadata": {},
   "source": [
    "<h4>Insight No.4</h4>\n",
    "<p>The road type that has the most accidents is Single carriageway</p>"
   ]
  },
  {
   "cell_type": "markdown",
   "id": "9348eddf-3f82-4e54-ace9-0664acc7f6b6",
   "metadata": {},
   "source": [
    "<h3>Question 5</h3>\n",
    "<h4>5. How many accidents happened in each district area?</p>"
   ]
  },
  {
   "cell_type": "code",
   "execution_count": 37,
   "id": "72d02d11-e12d-4a39-8e32-4fbdb2b187ee",
   "metadata": {},
   "outputs": [
    {
     "data": {
      "text/plain": [
       "District Area\n",
       "Birmingham          13491\n",
       "Leeds                8898\n",
       "Manchester           6720\n",
       "Bradford             6212\n",
       "Sheffield            5710\n",
       "Westminster          5706\n",
       "Liverpool            5587\n",
       "Glasgow City         4942\n",
       "Bristol, City of     4819\n",
       "Kirklees             4690\n",
       "Name: count, dtype: int64"
      ]
     },
     "execution_count": 37,
     "metadata": {},
     "output_type": "execute_result"
    }
   ],
   "source": [
    "accident['District Area'].value_counts().head(10)"
   ]
  },
  {
   "cell_type": "markdown",
   "id": "d456bcea-fbbb-49d9-ba25-6ee58b21e098",
   "metadata": {},
   "source": [
    "<h4>Insight No.5</h4>\n",
    "<p>This shows the accidents happened in each district area</p>"
   ]
  },
  {
   "cell_type": "markdown",
   "id": "1a4d6338-91c7-4122-aa04-d3594cfdcc9e",
   "metadata": {},
   "source": [
    "<h3>Question 6</h3>\n",
    "<h4>6. What is the total number of casualties?</p>"
   ]
  },
  {
   "cell_type": "code",
   "execution_count": 38,
   "id": "d10ab591-8aac-43c6-b709-79c70f525e2a",
   "metadata": {},
   "outputs": [
    {
     "data": {
      "text/plain": [
       "np.int64(896568)"
      ]
     },
     "execution_count": 38,
     "metadata": {},
     "output_type": "execute_result"
    }
   ],
   "source": [
    "accident['Number_of_Casualties'] = pd.to_numeric(accident['Number_of_Casualties'], errors='coerce')\n",
    "accident['Number_of_Casualties'].sum()"
   ]
  },
  {
   "cell_type": "markdown",
   "id": "943a5708-8194-43cb-aaca-dc42e762f01e",
   "metadata": {},
   "source": [
    "<h4>Insight No.6</h4>\n",
    "<p>Total lives affected in the dataset</p>"
   ]
  },
  {
   "cell_type": "markdown",
   "id": "abdcb7f3-0d06-4aad-b82a-ea7c6df675ae",
   "metadata": {},
   "source": [
    "<h3>Question 7</h3>\n",
    "<h4>7. What is the average number of casualties per accident?</p>"
   ]
  },
  {
   "cell_type": "code",
   "execution_count": 39,
   "id": "7e5fdf16-3042-442d-a830-bf37c49a4c26",
   "metadata": {},
   "outputs": [
    {
     "data": {
      "text/plain": [
       "np.float64(1.357040257068864)"
      ]
     },
     "execution_count": 39,
     "metadata": {},
     "output_type": "execute_result"
    }
   ],
   "source": [
    "accident['Number_of_Casualties'].mean()"
   ]
  },
  {
   "cell_type": "markdown",
   "id": "244c39f9-5b5a-497e-9f39-c44e71f4f00a",
   "metadata": {},
   "source": [
    "<h4>Insight No.7</h4>\n",
    "<p>Shows how severe accidents are on average</p>"
   ]
  },
  {
   "cell_type": "markdown",
   "id": "1094be5a-40a4-4a08-9743-b7bc1645e2af",
   "metadata": {},
   "source": [
    "<h3>Question 8</h3>\n",
    "<h4>8. How many accidents involved only 1 vehicle vs multiple vehicles?</p>"
   ]
  },
  {
   "cell_type": "code",
   "execution_count": 40,
   "id": "aba0b7ab-be74-4aa1-bdb2-a7fa0e7bedae",
   "metadata": {},
   "outputs": [
    {
     "data": {
      "text/plain": [
       "Number_of_Vehicles\n",
       "2     391995\n",
       "1     200787\n",
       "3      52806\n",
       "4      11300\n",
       "5       2464\n",
       "6        758\n",
       "7        296\n",
       "8        147\n",
       "9         57\n",
       "10        27\n",
       "11        12\n",
       "14         9\n",
       "12         7\n",
       "13         6\n",
       "16         4\n",
       "15         1\n",
       "19         1\n",
       "28         1\n",
       "32         1\n",
       "Name: count, dtype: int64"
      ]
     },
     "execution_count": 40,
     "metadata": {},
     "output_type": "execute_result"
    }
   ],
   "source": [
    "accident['Number_of_Vehicles'].value_counts()"
   ]
  },
  {
   "cell_type": "markdown",
   "id": "f0609970-f1f5-4ecf-ac0e-6a181c53add5",
   "metadata": {},
   "source": [
    "<h4>Insight No.8</h4>\n",
    "<p>Distinguishes between single-vehicle crashes (often driver error) vs multi-vehicle collisions</p>"
   ]
  },
  {
   "cell_type": "markdown",
   "id": "4b725c25-4e0d-43ba-b1f7-c67fc9ab2bd6",
   "metadata": {},
   "source": [
    "<h3>Question 9</h3>\n",
    "<h4>9. What is the distribution of accident severity?</p>"
   ]
  },
  {
   "cell_type": "code",
   "execution_count": 41,
   "id": "0d633f47-9131-4258-8b0d-8c197a680fab",
   "metadata": {},
   "outputs": [
    {
     "data": {
      "text/plain": [
       "Accident_Severity\n",
       "Slight     563801\n",
       "Serious     88217\n",
       "Fatal        8661\n",
       "Name: count, dtype: int64"
      ]
     },
     "execution_count": 41,
     "metadata": {},
     "output_type": "execute_result"
    }
   ],
   "source": [
    "accident['Accident_Severity'].value_counts()"
   ]
  },
  {
   "cell_type": "markdown",
   "id": "d294b11f-d3ad-4108-b990-e7e95fa5237b",
   "metadata": {},
   "source": [
    "<h4>Insight No.9</h4>\n",
    "<p>Most accidents are usually slight, fewer are serious or fatal</p>"
   ]
  },
  {
   "cell_type": "markdown",
   "id": "f0d15abe-fa4a-4e9d-9a40-6a40662d183b",
   "metadata": {},
   "source": [
    "<h3>Question 10</h3>\n",
    "<h4>10. Which road surface conditions are most common in accidents?</p>"
   ]
  },
  {
   "cell_type": "code",
   "execution_count": 42,
   "id": "6aeab8cd-d0cd-404a-a36a-5f5653e2f099",
   "metadata": {},
   "outputs": [
    {
     "data": {
      "text/plain": [
       "Road_Surface_Conditions\n",
       "Dry                     448547\n",
       "Wet or damp             186708\n",
       "Frost or ice             18517\n",
       "Snow                      5890\n",
       "Flood over 3cm. deep      1017\n",
       "Name: count, dtype: int64"
      ]
     },
     "execution_count": 42,
     "metadata": {},
     "output_type": "execute_result"
    }
   ],
   "source": [
    "accident['Road_Surface_Conditions'].value_counts()"
   ]
  },
  {
   "cell_type": "markdown",
   "id": "0eb205a1-2453-49ea-8bbb-3f5e06b838bf",
   "metadata": {},
   "source": [
    "<h4>Insight No.10</h4>\n",
    "<p>Shows whether dry, wet, or icy surfaces are linked to accidents. Dry is the most common accidents</p>"
   ]
  },
  {
   "cell_type": "markdown",
   "id": "d5020370-b147-4585-ab06-3d2757f3ddbb",
   "metadata": {},
   "source": [
    "<h3>Question 11</h3>\n",
    "<h4>11. Which year recorded the most accidents?</p>"
   ]
  },
  {
   "cell_type": "code",
   "execution_count": 43,
   "id": "de625075-e767-4d1e-8899-fa9c930e3810",
   "metadata": {},
   "outputs": [
    {
     "data": {
      "text/plain": [
       "np.int32(2019)"
      ]
     },
     "execution_count": 43,
     "metadata": {},
     "output_type": "execute_result"
    }
   ],
   "source": [
    "accident['Accident Date'].dt.year.value_counts().idxmax()"
   ]
  },
  {
   "cell_type": "markdown",
   "id": "fa9ef13f-d729-4700-a240-acaffb2cb33d",
   "metadata": {},
   "source": [
    "<h4>Insight No.11</h4>\n",
    "<p>In 2019 recorded the most accidents in this datasets.</p>"
   ]
  },
  {
   "cell_type": "markdown",
   "id": "33ae1c36-2734-454e-96c5-6cf2a1e5f0a4",
   "metadata": {},
   "source": [
    "<h3>Question 12</h3>\n",
    "<h4>12. Which day of the week has the highest number of accidents?</p>"
   ]
  },
  {
   "cell_type": "code",
   "execution_count": 44,
   "id": "fbbacd5f-17d0-47e0-b426-70224ac340b7",
   "metadata": {},
   "outputs": [
    {
     "data": {
      "text/plain": [
       "Accident Date\n",
       "Saturday    107178\n",
       "Name: count, dtype: int64"
      ]
     },
     "execution_count": 44,
     "metadata": {},
     "output_type": "execute_result"
    }
   ],
   "source": [
    "accident['Accident Date'].dt.day_name().value_counts().head(1)"
   ]
  },
  {
   "cell_type": "markdown",
   "id": "c9743235-a09d-4464-8242-1f4a26221909",
   "metadata": {},
   "source": [
    "<h4>Insight No.12</h4>\n",
    "<p>The day of the week that has the highest number of accidents is Tuesday</p>"
   ]
  },
  {
   "cell_type": "markdown",
   "id": "25171b2d-7d90-4da2-89df-b8252cb432b7",
   "metadata": {},
   "source": [
    "<h3>Question 13</h3>\n",
    "<h4>13. Which vehicle type is most often involved in fatal accidents?</p>"
   ]
  },
  {
   "cell_type": "code",
   "execution_count": 45,
   "id": "31ae606d-f5b5-4a5a-adf3-5c25164c008f",
   "metadata": {},
   "outputs": [
    {
     "data": {
      "text/plain": [
       "Vehicle_Type\n",
       "Car    6577\n",
       "Name: count, dtype: int64"
      ]
     },
     "execution_count": 45,
     "metadata": {},
     "output_type": "execute_result"
    }
   ],
   "source": [
    "accident[accident['Accident_Severity']=='Fatal']['Vehicle_Type'].value_counts().head(1)"
   ]
  },
  {
   "cell_type": "markdown",
   "id": "7d0b3e2d-095e-457b-bf21-db9a999ab498",
   "metadata": {},
   "source": [
    "<h4>Insight No.13</h4>\n",
    "<p>The vehicle type that most often involved in fatal accidents is Car</p>"
   ]
  },
  {
   "cell_type": "markdown",
   "id": "fff74e01-c413-4a00-b71d-56f04ded781a",
   "metadata": {},
   "source": [
    "<h3>Question 14</h3>\n",
    "<h4>14. Which district area has the highest average casualties per accident?</p>"
   ]
  },
  {
   "cell_type": "code",
   "execution_count": 46,
   "id": "ec0e091c-9717-4548-9b82-ff5a02edddad",
   "metadata": {},
   "outputs": [
    {
     "data": {
      "text/plain": [
       "District Area\n",
       "Blaeu Gwent    1.693694\n",
       "Name: Number_of_Casualties, dtype: float64"
      ]
     },
     "execution_count": 46,
     "metadata": {},
     "output_type": "execute_result"
    }
   ],
   "source": [
    "accident.groupby('District Area')['Number_of_Casualties'].mean().sort_values(ascending=False).head(1)"
   ]
  },
  {
   "cell_type": "markdown",
   "id": "f1effbdd-b450-40d6-99c0-ecc745d88806",
   "metadata": {},
   "source": [
    "<h4>Insight No.14</h4>\n",
    "<p>The district area that has the highest average casualties per accident is Blaeu Gwent</p>"
   ]
  },
  {
   "cell_type": "markdown",
   "id": "baba6014-4959-4b3c-b7b5-a015e2ce2ec8",
   "metadata": {},
   "source": [
    "<h3>Question 15</h3>\n",
    "<h4>15. Which road surface condition has the highest percentage of fatal accidents?</p>"
   ]
  },
  {
   "cell_type": "code",
   "execution_count": 47,
   "id": "a92ec674-9210-4cac-9263-d47c35d849cc",
   "metadata": {},
   "outputs": [
    {
     "data": {
      "text/plain": [
       "Road_Surface_Conditions\n",
       "Flood over 3cm. deep    2.261554\n",
       "dtype: float64"
      ]
     },
     "execution_count": 47,
     "metadata": {},
     "output_type": "execute_result"
    }
   ],
   "source": [
    "fatal_ratio = (\n",
    "    accident[accident['Accident_Severity']=='Fatal']\n",
    "    .groupby('Road_Surface_Conditions').size() \n",
    "    / accident.groupby('Road_Surface_Conditions').size()\n",
    ") * 100\n",
    "fatal_ratio.sort_values(ascending=False).head(1)"
   ]
  },
  {
   "cell_type": "markdown",
   "id": "a7c54075-8692-42d5-874d-084fad9f5da4",
   "metadata": {},
   "source": [
    "<h4>Insight No.15</h4>\n",
    "<p>The road surface condition that has the highest percentage of fatal accidents is Flood over 3cm. deep 2.2</p>"
   ]
  },
  {
   "cell_type": "markdown",
   "id": "43636b83-525b-47af-b360-66e75f62aea8",
   "metadata": {},
   "source": [
    "<h3>Question 16</h3>\n",
    "<h4>16. Accidents per year</p>"
   ]
  },
  {
   "cell_type": "code",
   "execution_count": 48,
   "id": "3afb70f5-6fb1-464d-be6b-8dc84402abf7",
   "metadata": {},
   "outputs": [
    {
     "data": {
      "text/plain": [
       "Accident Date\n",
       "2019    182115\n",
       "2020    170591\n",
       "2021    163554\n",
       "2022    144419\n",
       "dtype: int64"
      ]
     },
     "execution_count": 48,
     "metadata": {},
     "output_type": "execute_result"
    }
   ],
   "source": [
    "accident.groupby(accident['Accident Date'].dt.year).size()"
   ]
  },
  {
   "cell_type": "markdown",
   "id": "f77b8f60-cefd-47c9-a07e-0ba7cc385613",
   "metadata": {},
   "source": [
    "<h4>Insight No.16</h4>\n",
    "<p>This show the accidents per year</p>"
   ]
  },
  {
   "cell_type": "markdown",
   "id": "3e30027a-c084-4bd0-9b37-cf5fab8e4a11",
   "metadata": {},
   "source": [
    "<h3>Question 17</h3>\n",
    "<h4>17. Fatal accidents per year</p>"
   ]
  },
  {
   "cell_type": "code",
   "execution_count": 49,
   "id": "72d05cbb-c714-4939-97a7-a9bd30f3732a",
   "metadata": {},
   "outputs": [
    {
     "data": {
      "text/plain": [
       "Accident Date\n",
       "2019    2714\n",
       "2020    2341\n",
       "2021    2057\n",
       "2022    1549\n",
       "dtype: int64"
      ]
     },
     "execution_count": 49,
     "metadata": {},
     "output_type": "execute_result"
    }
   ],
   "source": [
    "accident[accident['Accident_Severity']=='Fatal'].groupby(accident['Accident Date'].dt.year).size()"
   ]
  },
  {
   "cell_type": "markdown",
   "id": "a548237c-dd9b-4473-a598-1e1a80d68163",
   "metadata": {},
   "source": [
    "<h4>Insight No.17</h4>\n",
    "<p>This shows the Fatal accidents per year in 2019-2022</p>"
   ]
  },
  {
   "cell_type": "markdown",
   "id": "6b520cb9-36c2-4d2d-b70c-1f6fa2d50544",
   "metadata": {},
   "source": [
    "<h3>Question 18</h3>\n",
    "<h4>18. Average casualties per accident by road type</p>"
   ]
  },
  {
   "cell_type": "code",
   "execution_count": 50,
   "id": "02cd4635-b9ed-485f-9fc6-fa8fb7f912fb",
   "metadata": {},
   "outputs": [
    {
     "data": {
      "text/plain": [
       "Road_Type\n",
       "Dual carriageway      1.477279\n",
       "One way street        1.192713\n",
       "Roundabout            1.274891\n",
       "Single carriageway    1.343788\n",
       "Slip road             1.423661\n",
       "Name: Number_of_Casualties, dtype: float64"
      ]
     },
     "execution_count": 50,
     "metadata": {},
     "output_type": "execute_result"
    }
   ],
   "source": [
    "accident.groupby('Road_Type')['Number_of_Casualties'].mean()"
   ]
  },
  {
   "cell_type": "markdown",
   "id": "72834c78-81c5-4645-bc0a-ab381f777e50",
   "metadata": {},
   "source": [
    "<h4>Insight No.18</h4>\n",
    "<p>This is the average casualties per accident by road type</p>"
   ]
  },
  {
   "cell_type": "markdown",
   "id": "c4e94294-eadb-4454-a349-4d244dc01ee0",
   "metadata": {},
   "source": [
    "<h3>Question 19</h3>\n",
    "<h4>19. Severity distribution by district area</p>"
   ]
  },
  {
   "cell_type": "code",
   "execution_count": 51,
   "id": "f4535d1f-38c2-46cc-a473-8aba218a0fc2",
   "metadata": {},
   "outputs": [
    {
     "data": {
      "text/html": [
       "<div>\n",
       "<style scoped>\n",
       "    .dataframe tbody tr th:only-of-type {\n",
       "        vertical-align: middle;\n",
       "    }\n",
       "\n",
       "    .dataframe tbody tr th {\n",
       "        vertical-align: top;\n",
       "    }\n",
       "\n",
       "    .dataframe thead th {\n",
       "        text-align: right;\n",
       "    }\n",
       "</style>\n",
       "<table border=\"1\" class=\"dataframe\">\n",
       "  <thead>\n",
       "    <tr style=\"text-align: right;\">\n",
       "      <th>Accident_Severity</th>\n",
       "      <th>Fatal</th>\n",
       "      <th>Serious</th>\n",
       "      <th>Slight</th>\n",
       "    </tr>\n",
       "    <tr>\n",
       "      <th>District Area</th>\n",
       "      <th></th>\n",
       "      <th></th>\n",
       "      <th></th>\n",
       "    </tr>\n",
       "  </thead>\n",
       "  <tbody>\n",
       "    <tr>\n",
       "      <th>Aberdeen City</th>\n",
       "      <td>12</td>\n",
       "      <td>239</td>\n",
       "      <td>1072</td>\n",
       "    </tr>\n",
       "    <tr>\n",
       "      <th>Aberdeenshire</th>\n",
       "      <td>66</td>\n",
       "      <td>463</td>\n",
       "      <td>1401</td>\n",
       "    </tr>\n",
       "    <tr>\n",
       "      <th>Adur</th>\n",
       "      <td>8</td>\n",
       "      <td>101</td>\n",
       "      <td>510</td>\n",
       "    </tr>\n",
       "    <tr>\n",
       "      <th>Allerdale</th>\n",
       "      <td>24</td>\n",
       "      <td>143</td>\n",
       "      <td>961</td>\n",
       "    </tr>\n",
       "    <tr>\n",
       "      <th>Alnwick</th>\n",
       "      <td>6</td>\n",
       "      <td>33</td>\n",
       "      <td>193</td>\n",
       "    </tr>\n",
       "    <tr>\n",
       "      <th>Amber Valley</th>\n",
       "      <td>19</td>\n",
       "      <td>173</td>\n",
       "      <td>1155</td>\n",
       "    </tr>\n",
       "    <tr>\n",
       "      <th>Angus</th>\n",
       "      <td>32</td>\n",
       "      <td>163</td>\n",
       "      <td>601</td>\n",
       "    </tr>\n",
       "    <tr>\n",
       "      <th>Argyll and Bute</th>\n",
       "      <td>27</td>\n",
       "      <td>184</td>\n",
       "      <td>625</td>\n",
       "    </tr>\n",
       "    <tr>\n",
       "      <th>Arun</th>\n",
       "      <td>15</td>\n",
       "      <td>253</td>\n",
       "      <td>1108</td>\n",
       "    </tr>\n",
       "    <tr>\n",
       "      <th>Ashfield</th>\n",
       "      <td>11</td>\n",
       "      <td>201</td>\n",
       "      <td>1183</td>\n",
       "    </tr>\n",
       "  </tbody>\n",
       "</table>\n",
       "</div>"
      ],
      "text/plain": [
       "Accident_Severity  Fatal  Serious  Slight\n",
       "District Area                            \n",
       "Aberdeen City         12      239    1072\n",
       "Aberdeenshire         66      463    1401\n",
       "Adur                   8      101     510\n",
       "Allerdale             24      143     961\n",
       "Alnwick                6       33     193\n",
       "Amber Valley          19      173    1155\n",
       "Angus                 32      163     601\n",
       "Argyll and Bute       27      184     625\n",
       "Arun                  15      253    1108\n",
       "Ashfield              11      201    1183"
      ]
     },
     "execution_count": 51,
     "metadata": {},
     "output_type": "execute_result"
    }
   ],
   "source": [
    "accident.groupby('District Area')['Accident_Severity'].value_counts().unstack().fillna(0).head(10)"
   ]
  },
  {
   "cell_type": "markdown",
   "id": "fda450ce-562b-4d75-9b18-628827369712",
   "metadata": {},
   "source": [
    "<h4>Insight No.19</h4>\n",
    "<p>This is the Severity distribution by district area</p>"
   ]
  },
  {
   "cell_type": "markdown",
   "id": "464fef9c-4fb5-45f7-9bd9-4c2984ae3f4e",
   "metadata": {},
   "source": [
    "<h3>Question 20</h3>\n",
    "<h4>20. Weather conditions vs severity</p>"
   ]
  },
  {
   "cell_type": "code",
   "execution_count": 52,
   "id": "26f4b68b-6f38-415b-bd40-446f43436ee6",
   "metadata": {},
   "outputs": [
    {
     "data": {
      "text/html": [
       "<div>\n",
       "<style scoped>\n",
       "    .dataframe tbody tr th:only-of-type {\n",
       "        vertical-align: middle;\n",
       "    }\n",
       "\n",
       "    .dataframe tbody tr th {\n",
       "        vertical-align: top;\n",
       "    }\n",
       "\n",
       "    .dataframe thead th {\n",
       "        text-align: right;\n",
       "    }\n",
       "</style>\n",
       "<table border=\"1\" class=\"dataframe\">\n",
       "  <thead>\n",
       "    <tr style=\"text-align: right;\">\n",
       "      <th>Accident_Severity</th>\n",
       "      <th>Fatal</th>\n",
       "      <th>Serious</th>\n",
       "      <th>Slight</th>\n",
       "    </tr>\n",
       "    <tr>\n",
       "      <th>Weather_Conditions</th>\n",
       "      <th></th>\n",
       "      <th></th>\n",
       "      <th></th>\n",
       "    </tr>\n",
       "  </thead>\n",
       "  <tbody>\n",
       "    <tr>\n",
       "      <th>Fine + high winds</th>\n",
       "      <td>175</td>\n",
       "      <td>1245</td>\n",
       "      <td>7134</td>\n",
       "    </tr>\n",
       "    <tr>\n",
       "      <th>Fine no high winds</th>\n",
       "      <td>7207</td>\n",
       "      <td>73285</td>\n",
       "      <td>454521</td>\n",
       "    </tr>\n",
       "    <tr>\n",
       "      <th>Fog or mist</th>\n",
       "      <td>82</td>\n",
       "      <td>483</td>\n",
       "      <td>2963</td>\n",
       "    </tr>\n",
       "    <tr>\n",
       "      <th>Other</th>\n",
       "      <td>165</td>\n",
       "      <td>1801</td>\n",
       "      <td>15184</td>\n",
       "    </tr>\n",
       "    <tr>\n",
       "      <th>Raining + high winds</th>\n",
       "      <td>145</td>\n",
       "      <td>1261</td>\n",
       "      <td>8209</td>\n",
       "    </tr>\n",
       "    <tr>\n",
       "      <th>Raining no high winds</th>\n",
       "      <td>848</td>\n",
       "      <td>9468</td>\n",
       "      <td>69380</td>\n",
       "    </tr>\n",
       "    <tr>\n",
       "      <th>Snowing + high winds</th>\n",
       "      <td>3</td>\n",
       "      <td>109</td>\n",
       "      <td>773</td>\n",
       "    </tr>\n",
       "    <tr>\n",
       "      <th>Snowing no high winds</th>\n",
       "      <td>36</td>\n",
       "      <td>565</td>\n",
       "      <td>5637</td>\n",
       "    </tr>\n",
       "  </tbody>\n",
       "</table>\n",
       "</div>"
      ],
      "text/plain": [
       "Accident_Severity      Fatal  Serious  Slight\n",
       "Weather_Conditions                           \n",
       "Fine + high winds        175     1245    7134\n",
       "Fine no high winds      7207    73285  454521\n",
       "Fog or mist               82      483    2963\n",
       "Other                    165     1801   15184\n",
       "Raining + high winds     145     1261    8209\n",
       "Raining no high winds    848     9468   69380\n",
       "Snowing + high winds       3      109     773\n",
       "Snowing no high winds     36      565    5637"
      ]
     },
     "execution_count": 52,
     "metadata": {},
     "output_type": "execute_result"
    }
   ],
   "source": [
    "accident.groupby('Weather_Conditions')['Accident_Severity'].value_counts().unstack().fillna(0).head(10)"
   ]
  },
  {
   "cell_type": "markdown",
   "id": "f18be17e-d38a-44d9-80f7-a8cd91b8f0ce",
   "metadata": {},
   "source": [
    "<h4>Insight No.20</h4>\n",
    "<p>Compares how different weather affects severity levels</p>"
   ]
  },
  {
   "cell_type": "markdown",
   "id": "eb00ce72-f826-41b7-86d7-8c2bf0b394c9",
   "metadata": {},
   "source": [
    "<h3>Question 21</h3>\n",
    "<h4>21. How many accidents occurred each year?</p>"
   ]
  },
  {
   "cell_type": "code",
   "execution_count": 53,
   "id": "939e7b33-0bda-4d16-849e-36b3f99fb888",
   "metadata": {},
   "outputs": [
    {
     "data": {
      "image/png": "[encoded data removed]",
      "text/plain": [
       "<Figure size 1000x600 with 1 Axes>"
      ]
     },
     "metadata": {},
     "output_type": "display_data"
    }
   ],
   "source": [
    "# Extract year from Date column\n",
    "accident['Year'] = accident['Accident Date'].dt.year\n",
    "\n",
    "# Group by Year and count accidents\n",
    "accidents_per_year = accident.groupby('Year').size()\n",
    "\n",
    "# Plot the result\n",
    "plt.figure(figsize=(10, 6))\n",
    "accidents_per_year.plot(kind='bar', color='skyblue')\n",
    "plt.title('Number of Road Accidents in the UK by Year')\n",
    "plt.xlabel('Year')\n",
    "plt.ylabel('Number of Accidents')\n",
    "plt.xticks(rotation=45)\n",
    "plt.show()"
   ]
  },
  {
   "cell_type": "markdown",
   "id": "fd159074-d15c-498a-a3bd-7a0607a19247",
   "metadata": {},
   "source": [
    "<h4>Insight No.21</h4>\n",
    "<p>This graph shows the trend of road accidents in the UK over the years. From the visualization, we can observe whether accidents have been increasing, decreasing, or stable over time.</p>"
   ]
  },
  {
   "cell_type": "markdown",
   "id": "ba7b86d1-55f6-45c5-b496-22d56c3c62e0",
   "metadata": {},
   "source": [
    "<h3>Question 22</h3>\n",
    "<h4>22. What is the distribution of accidents across different weather conditions?</p>"
   ]
  },
  {
   "cell_type": "code",
   "execution_count": 54,
   "id": "cbdca513-8731-42e2-a2c9-40655ab04b2b",
   "metadata": {},
   "outputs": [
    {
     "data": {
      "image/png": "[encoded data removed]",
      "text/plain": [
       "<Figure size 1000x600 with 1 Axes>"
      ]
     },
     "metadata": {},
     "output_type": "display_data"
    }
   ],
   "source": [
    "weather_accidents = accident['Weather_Conditions'].value_counts()\n",
    "\n",
    "plt.figure(figsize=(10, 6))\n",
    "weather_accidents.plot(kind='bar', color='orange')\n",
    "plt.title('Accidents by Weather Condition')\n",
    "plt.xlabel('Weather Condition')\n",
    "plt.ylabel('Number of Accidents')\n",
    "plt.xticks(rotation=45)\n",
    "plt.show()"
   ]
  },
  {
   "cell_type": "markdown",
   "id": "d81e6dcd-3d3b-4a26-87e5-0e9272024a58",
   "metadata": {},
   "source": [
    "<h4>Insight No.22</h4>\n",
    "<p>This graph shows the distribution of accidents across different weather conditions</p>"
   ]
  },
  {
   "cell_type": "markdown",
   "id": "cd4a1db5-e55b-418f-9060-3198b0164cf9",
   "metadata": {},
   "source": [
    "<h3>Question 23</h3>\n",
    "<h4>23. How do accidents vary by time of day?</p>"
   ]
  },
  {
   "cell_type": "code",
   "execution_count": 55,
   "id": "baa4a350-4173-4ef0-a570-325c7520e4d3",
   "metadata": {},
   "outputs": [
    {
     "data": {
      "image/png": "[encoded data removed]",
      "text/plain": [
       "<Figure size 1000x600 with 1 Axes>"
      ]
     },
     "metadata": {},
     "output_type": "display_data"
    }
   ],
   "source": [
    "accident['Hour'] = accident['Accident Date'].dt.hour\n",
    "\n",
    "accidents_by_hour = accident.groupby('Hour').size()\n",
    "\n",
    "plt.figure(figsize=(10, 6))\n",
    "accidents_by_hour.plot(kind='line', marker='o', color='green')\n",
    "plt.title('Number of Road Accidents by Hour of the Day')\n",
    "plt.xlabel('Hour of the Day')\n",
    "plt.ylabel('Number of Accidents')\n",
    "plt.xticks(range(0, 24, 1))\n",
    "plt.grid(True)\n",
    "plt.show()"
   ]
  },
  {
   "cell_type": "markdown",
   "id": "1320c6cc-d65f-4691-9e14-ba1e8c82d96a",
   "metadata": {},
   "source": [
    "<h4>Insight No.23</h4>\n",
    "<p>This line chart shows how the number of accidents fluctuates throughout the day.</p>"
   ]
  },
  {
   "cell_type": "markdown",
   "id": "b82e5bc9-1a58-4425-a1a1-8037787da7e9",
   "metadata": {},
   "source": [
    "<h3>Question 24</h3>\n",
    "<h4>24. What is the distribution of accidents by road type?</p>"
   ]
  },
  {
   "cell_type": "code",
   "execution_count": 56,
   "id": "18a56a99-6737-4c24-a85e-162839269e81",
   "metadata": {},
   "outputs": [
    {
     "data": {
      "image/png": "[encoded data removed]",
      "text/plain": [
       "<Figure size 1000x600 with 1 Axes>"
      ]
     },
     "metadata": {},
     "output_type": "display_data"
    }
   ],
   "source": [
    "road_type_accidents = accident['Road_Type'].value_counts()\n",
    "\n",
    "plt.figure(figsize=(10, 6))\n",
    "road_type_accidents.plot(kind='bar', color='teal')\n",
    "plt.title('Accidents by Road Type')\n",
    "plt.xlabel('Road Type')\n",
    "plt.ylabel('Number of Accidents')\n",
    "plt.xticks(rotation=45)\n",
    "plt.show()"
   ]
  },
  {
   "cell_type": "markdown",
   "id": "b485311c-e850-436b-be70-932c01e90066",
   "metadata": {},
   "source": [
    "<h4>Insight No.24</h4>\n",
    "<p>This bar chart shows the distribution of accidents across different types of roads.</p>"
   ]
  },
  {
   "cell_type": "markdown",
   "id": "f90a58d0-c78f-46c4-b764-f214af32a00f",
   "metadata": {},
   "source": [
    "<h3>Question 25</h3>\n",
    "<h4>25. How do accidents vary by day of the week?</p>"
   ]
  },
  {
   "cell_type": "code",
   "execution_count": 57,
   "id": "bac8e094-dc72-494a-8121-ad520eb589c4",
   "metadata": {},
   "outputs": [
    {
     "data": {
      "image/png": "[encoded data removed]",
      "text/plain": [
       "<Figure size 1000x600 with 1 Axes>"
      ]
     },
     "metadata": {},
     "output_type": "display_data"
    }
   ],
   "source": [
    "accident['Day_of_Week'] = accident['Accident Date'].dt.day_name()\n",
    "\n",
    "accidents_by_day = accident['Day_of_Week'].value_counts()\n",
    "\n",
    "plt.figure(figsize=(10, 6))\n",
    "accidents_by_day.plot(kind='bar', color='pink')\n",
    "plt.title('Accidents by Day of the Week')\n",
    "plt.xlabel('Day of the Week')\n",
    "plt.ylabel('Number of Accidents')\n",
    "plt.xticks(rotation=45)\n",
    "plt.show()"
   ]
  },
  {
   "cell_type": "markdown",
   "id": "c4c41e5e-b53f-4cb9-90ae-2cee5fc71c1e",
   "metadata": {},
   "source": [
    "<h4>Insight No.25</h4>\n",
    "<p>This bar chart reveals how accident numbers vary across the days of the week.</p>"
   ]
  },
  {
   "cell_type": "code",
   "execution_count": null,
   "id": "3697a9ea-69c4-4afc-a91e-0e59b0ca7c17",
   "metadata": {},
   "outputs": [],
   "source": []
  }
 ],
 "metadata": {
  "kernelspec": {
   "display_name": "Python 3 (ipykernel)",
   "language": "python",
   "name": "python3"
  },
  "language_info": {
   "codemirror_mode": {
    "name": "ipython",
    "version": 3
   },
   "file_extension": ".py",
   "mimetype": "text/x-python",
   "name": "python",
   "nbconvert_exporter": "python",
   "pygments_lexer": "ipython3",
   "version": "3.13.6"
  }
 },
 "nbformat": 4,
 "nbformat_minor": 5
}
