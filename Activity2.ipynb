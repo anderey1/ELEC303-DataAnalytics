{
 "cells": [
  {
   "cell_type": "markdown",
   "id": "0ccdf726-71ef-473d-9fe6-7f8918026a51",
   "metadata": {},
   "source": [
    "<h1>Activity 2 - UK ROAD ACCIDENT DATA ANALYTICS PROJECT</h1>\n",
    "<hr>\n",
    "<h3>Analyst : Andrei Miguel P. Moralina</h3>"
   ]
  },
  {
   "cell_type": "code",
   "execution_count": 1,
   "id": "be839914-2486-4cf3-8c1d-9b50d9453805",
   "metadata": {},
   "outputs": [],
   "source": [
    "#import libraries\n",
    "import numpy as np\n",
    "import pandas as pd\n",
    "import matplotlib.pyplot as plt\n",
    "import warnings\n",
    "import folium\n",
    "from folium.plugins import HeatMap\n",
    "warnings.filterwarnings(\"ignore\")"
   ]
  },
  {
   "cell_type": "markdown",
   "id": "029c157c-3389-442e-b402-7b39477b1fb9",
   "metadata": {},
   "source": [
    "<h3>Converting Dataset(s) into DataFrame</h3>\n",
    "<h2>Requirements</h2>\n",
    "<ul>\n",
    "    <li>Name of the DataFrame</li>\n",
    "    <li>File Path</li>\n",
    "</ul>"
   ]
  },
  {
   "cell_type": "code",
   "execution_count": 2,
   "id": "55906872-44e0-4159-93e7-0941332eacc8",
   "metadata": {},
   "outputs": [],
   "source": [
    "accident = pd.read_csv('datasets\\\\uk_road_accident.csv')"
   ]
  },
  {
   "cell_type": "markdown",
   "id": "9b584717-6190-48ac-926b-ad81591b1789",
   "metadata": {},
   "source": [
    "<h1>Clearing any Inconsistencies with the Data Set</h1>"
   ]
  },
  {
   "cell_type": "code",
   "execution_count": 3,
   "id": "53d580f4-a4a7-44c2-9499-0447968ca5e8",
   "metadata": {},
   "outputs": [],
   "source": [
    "accident['Accident Date'] = accident['Accident Date'].str.strip() #to remove any white spaces\n",
    "accident['Accident Date'] = accident['Accident Date'].astype('str') #to convert into string\n",
    "accident['Accident Date'] = accident['Accident Date'].str.replace('/','-') #to replace \"/\" to \"-\" in date format"
   ]
  },
  {
   "cell_type": "code",
   "execution_count": 4,
   "id": "7c290143-e5c6-4ed1-8919-88da9ad38332",
   "metadata": {},
   "outputs": [
    {
     "name": "stdout",
     "output_type": "stream",
     "text": [
      "<class 'pandas.core.frame.DataFrame'>\n",
      "RangeIndex: 660679 entries, 0 to 660678\n",
      "Data columns (total 14 columns):\n",
      " #   Column                   Non-Null Count   Dtype         \n",
      "---  ------                   --------------   -----         \n",
      " 0   Index                    660679 non-null  object        \n",
      " 1   Accident_Severity        660679 non-null  object        \n",
      " 2   Accident Date            660679 non-null  datetime64[ns]\n",
      " 3   Latitude                 660654 non-null  float64       \n",
      " 4   Light_Conditions         660679 non-null  object        \n",
      " 5   District Area            660679 non-null  object        \n",
      " 6   Longitude                660653 non-null  float64       \n",
      " 7   Number_of_Casualties     660679 non-null  int64         \n",
      " 8   Number_of_Vehicles       660679 non-null  int64         \n",
      " 9   Road_Surface_Conditions  659953 non-null  object        \n",
      " 10  Road_Type                656159 non-null  object        \n",
      " 11  Urban_or_Rural_Area      660664 non-null  object        \n",
      " 12  Weather_Conditions       646551 non-null  object        \n",
      " 13  Vehicle_Type             660679 non-null  object        \n",
      "dtypes: datetime64[ns](1), float64(2), int64(2), object(9)\n",
      "memory usage: 70.6+ MB\n"
     ]
    }
   ],
   "source": [
    "accident['Accident Date'] = pd.to_datetime(accident['Accident Date'], dayfirst=True, errors='coerce')\n",
    "accident.info()\n",
    "accident.dropna(subset=['Accident Date'], inplace=True)"
   ]
  },
  {
   "cell_type": "code",
   "execution_count": 5,
   "id": "17972618-d2ce-448f-8221-cdbec2120018",
   "metadata": {},
   "outputs": [
    {
     "data": {
      "text/html": [
       "<div>\n",
       "<style scoped>\n",
       "    .dataframe tbody tr th:only-of-type {\n",
       "        vertical-align: middle;\n",
       "    }\n",
       "\n",
       "    .dataframe tbody tr th {\n",
       "        vertical-align: top;\n",
       "    }\n",
       "\n",
       "    .dataframe thead th {\n",
       "        text-align: right;\n",
       "    }\n",
       "</style>\n",
       "<table border=\"1\" class=\"dataframe\">\n",
       "  <thead>\n",
       "    <tr style=\"text-align: right;\">\n",
       "      <th></th>\n",
       "      <th>Index</th>\n",
       "      <th>Accident_Severity</th>\n",
       "      <th>Accident Date</th>\n",
       "      <th>Latitude</th>\n",
       "      <th>Light_Conditions</th>\n",
       "      <th>District Area</th>\n",
       "      <th>Longitude</th>\n",
       "      <th>Number_of_Casualties</th>\n",
       "      <th>Number_of_Vehicles</th>\n",
       "      <th>Road_Surface_Conditions</th>\n",
       "      <th>Road_Type</th>\n",
       "      <th>Urban_or_Rural_Area</th>\n",
       "      <th>Weather_Conditions</th>\n",
       "      <th>Vehicle_Type</th>\n",
       "    </tr>\n",
       "  </thead>\n",
       "  <tbody>\n",
       "    <tr>\n",
       "      <th>0</th>\n",
       "      <td>200701BS64157</td>\n",
       "      <td>Serious</td>\n",
       "      <td>2019-06-05</td>\n",
       "      <td>51.506187</td>\n",
       "      <td>Darkness - lights lit</td>\n",
       "      <td>Kensington and Chelsea</td>\n",
       "      <td>-0.209082</td>\n",
       "      <td>1</td>\n",
       "      <td>2</td>\n",
       "      <td>Dry</td>\n",
       "      <td>Single carriageway</td>\n",
       "      <td>Urban</td>\n",
       "      <td>Fine no high winds</td>\n",
       "      <td>Car</td>\n",
       "    </tr>\n",
       "    <tr>\n",
       "      <th>1</th>\n",
       "      <td>200701BS65737</td>\n",
       "      <td>Serious</td>\n",
       "      <td>2019-07-02</td>\n",
       "      <td>51.495029</td>\n",
       "      <td>Daylight</td>\n",
       "      <td>Kensington and Chelsea</td>\n",
       "      <td>-0.173647</td>\n",
       "      <td>1</td>\n",
       "      <td>2</td>\n",
       "      <td>Wet or damp</td>\n",
       "      <td>Single carriageway</td>\n",
       "      <td>Urban</td>\n",
       "      <td>Raining no high winds</td>\n",
       "      <td>Car</td>\n",
       "    </tr>\n",
       "    <tr>\n",
       "      <th>2</th>\n",
       "      <td>200701BS66127</td>\n",
       "      <td>Serious</td>\n",
       "      <td>2019-08-26</td>\n",
       "      <td>51.517715</td>\n",
       "      <td>Darkness - lighting unknown</td>\n",
       "      <td>Kensington and Chelsea</td>\n",
       "      <td>-0.210215</td>\n",
       "      <td>1</td>\n",
       "      <td>3</td>\n",
       "      <td>Dry</td>\n",
       "      <td>NaN</td>\n",
       "      <td>Urban</td>\n",
       "      <td>NaN</td>\n",
       "      <td>Taxi/Private hire car</td>\n",
       "    </tr>\n",
       "    <tr>\n",
       "      <th>3</th>\n",
       "      <td>200701BS66128</td>\n",
       "      <td>Serious</td>\n",
       "      <td>2019-08-16</td>\n",
       "      <td>51.495478</td>\n",
       "      <td>Daylight</td>\n",
       "      <td>Kensington and Chelsea</td>\n",
       "      <td>-0.202731</td>\n",
       "      <td>1</td>\n",
       "      <td>4</td>\n",
       "      <td>Dry</td>\n",
       "      <td>Single carriageway</td>\n",
       "      <td>Urban</td>\n",
       "      <td>Fine no high winds</td>\n",
       "      <td>Bus or coach (17 or more pass seats)</td>\n",
       "    </tr>\n",
       "    <tr>\n",
       "      <th>4</th>\n",
       "      <td>200701BS66837</td>\n",
       "      <td>Slight</td>\n",
       "      <td>2019-09-03</td>\n",
       "      <td>51.488576</td>\n",
       "      <td>Darkness - lights lit</td>\n",
       "      <td>Kensington and Chelsea</td>\n",
       "      <td>-0.192487</td>\n",
       "      <td>1</td>\n",
       "      <td>2</td>\n",
       "      <td>Dry</td>\n",
       "      <td>NaN</td>\n",
       "      <td>Urban</td>\n",
       "      <td>NaN</td>\n",
       "      <td>Other vehicle</td>\n",
       "    </tr>\n",
       "    <tr>\n",
       "      <th>...</th>\n",
       "      <td>...</td>\n",
       "      <td>...</td>\n",
       "      <td>...</td>\n",
       "      <td>...</td>\n",
       "      <td>...</td>\n",
       "      <td>...</td>\n",
       "      <td>...</td>\n",
       "      <td>...</td>\n",
       "      <td>...</td>\n",
       "      <td>...</td>\n",
       "      <td>...</td>\n",
       "      <td>...</td>\n",
       "      <td>...</td>\n",
       "      <td>...</td>\n",
       "    </tr>\n",
       "    <tr>\n",
       "      <th>660674</th>\n",
       "      <td>201091NM01760</td>\n",
       "      <td>Slight</td>\n",
       "      <td>2022-02-18</td>\n",
       "      <td>57.374005</td>\n",
       "      <td>Daylight</td>\n",
       "      <td>Highland</td>\n",
       "      <td>-3.467828</td>\n",
       "      <td>2</td>\n",
       "      <td>1</td>\n",
       "      <td>Dry</td>\n",
       "      <td>Single carriageway</td>\n",
       "      <td>Rural</td>\n",
       "      <td>Fine no high winds</td>\n",
       "      <td>Car</td>\n",
       "    </tr>\n",
       "    <tr>\n",
       "      <th>660675</th>\n",
       "      <td>201091NM01881</td>\n",
       "      <td>Slight</td>\n",
       "      <td>2022-02-21</td>\n",
       "      <td>57.232273</td>\n",
       "      <td>Darkness - no lighting</td>\n",
       "      <td>Highland</td>\n",
       "      <td>-3.809281</td>\n",
       "      <td>1</td>\n",
       "      <td>1</td>\n",
       "      <td>Frost or ice</td>\n",
       "      <td>Single carriageway</td>\n",
       "      <td>Rural</td>\n",
       "      <td>Fine no high winds</td>\n",
       "      <td>Car</td>\n",
       "    </tr>\n",
       "    <tr>\n",
       "      <th>660676</th>\n",
       "      <td>201091NM01935</td>\n",
       "      <td>Slight</td>\n",
       "      <td>2022-02-23</td>\n",
       "      <td>57.585044</td>\n",
       "      <td>Daylight</td>\n",
       "      <td>Highland</td>\n",
       "      <td>-3.862727</td>\n",
       "      <td>1</td>\n",
       "      <td>3</td>\n",
       "      <td>Frost or ice</td>\n",
       "      <td>Single carriageway</td>\n",
       "      <td>Rural</td>\n",
       "      <td>Fine no high winds</td>\n",
       "      <td>Car</td>\n",
       "    </tr>\n",
       "    <tr>\n",
       "      <th>660677</th>\n",
       "      <td>201091NM01964</td>\n",
       "      <td>Serious</td>\n",
       "      <td>2022-02-23</td>\n",
       "      <td>57.214898</td>\n",
       "      <td>Darkness - no lighting</td>\n",
       "      <td>Highland</td>\n",
       "      <td>-3.823997</td>\n",
       "      <td>1</td>\n",
       "      <td>2</td>\n",
       "      <td>Wet or damp</td>\n",
       "      <td>Single carriageway</td>\n",
       "      <td>Rural</td>\n",
       "      <td>Fine no high winds</td>\n",
       "      <td>Motorcycle over 500cc</td>\n",
       "    </tr>\n",
       "    <tr>\n",
       "      <th>660678</th>\n",
       "      <td>201091NM02142</td>\n",
       "      <td>Serious</td>\n",
       "      <td>2022-02-28</td>\n",
       "      <td>57.575210</td>\n",
       "      <td>Daylight</td>\n",
       "      <td>Highland</td>\n",
       "      <td>-3.895673</td>\n",
       "      <td>1</td>\n",
       "      <td>1</td>\n",
       "      <td>Wet or damp</td>\n",
       "      <td>Dual carriageway</td>\n",
       "      <td>Rural</td>\n",
       "      <td>Snowing no high winds</td>\n",
       "      <td>Car</td>\n",
       "    </tr>\n",
       "  </tbody>\n",
       "</table>\n",
       "<p>660679 rows × 14 columns</p>\n",
       "</div>"
      ],
      "text/plain": [
       "                Index Accident_Severity Accident Date   Latitude  \\\n",
       "0       200701BS64157           Serious    2019-06-05  51.506187   \n",
       "1       200701BS65737           Serious    2019-07-02  51.495029   \n",
       "2       200701BS66127           Serious    2019-08-26  51.517715   \n",
       "3       200701BS66128           Serious    2019-08-16  51.495478   \n",
       "4       200701BS66837            Slight    2019-09-03  51.488576   \n",
       "...               ...               ...           ...        ...   \n",
       "660674  201091NM01760            Slight    2022-02-18  57.374005   \n",
       "660675  201091NM01881            Slight    2022-02-21  57.232273   \n",
       "660676  201091NM01935            Slight    2022-02-23  57.585044   \n",
       "660677  201091NM01964           Serious    2022-02-23  57.214898   \n",
       "660678  201091NM02142           Serious    2022-02-28  57.575210   \n",
       "\n",
       "                   Light_Conditions           District Area  Longitude  \\\n",
       "0             Darkness - lights lit  Kensington and Chelsea  -0.209082   \n",
       "1                          Daylight  Kensington and Chelsea  -0.173647   \n",
       "2       Darkness - lighting unknown  Kensington and Chelsea  -0.210215   \n",
       "3                          Daylight  Kensington and Chelsea  -0.202731   \n",
       "4             Darkness - lights lit  Kensington and Chelsea  -0.192487   \n",
       "...                             ...                     ...        ...   \n",
       "660674                     Daylight                Highland  -3.467828   \n",
       "660675       Darkness - no lighting                Highland  -3.809281   \n",
       "660676                     Daylight                Highland  -3.862727   \n",
       "660677       Darkness - no lighting                Highland  -3.823997   \n",
       "660678                     Daylight                Highland  -3.895673   \n",
       "\n",
       "        Number_of_Casualties  Number_of_Vehicles Road_Surface_Conditions  \\\n",
       "0                          1                   2                     Dry   \n",
       "1                          1                   2             Wet or damp   \n",
       "2                          1                   3                     Dry   \n",
       "3                          1                   4                     Dry   \n",
       "4                          1                   2                     Dry   \n",
       "...                      ...                 ...                     ...   \n",
       "660674                     2                   1                     Dry   \n",
       "660675                     1                   1            Frost or ice   \n",
       "660676                     1                   3            Frost or ice   \n",
       "660677                     1                   2             Wet or damp   \n",
       "660678                     1                   1             Wet or damp   \n",
       "\n",
       "                 Road_Type Urban_or_Rural_Area     Weather_Conditions  \\\n",
       "0       Single carriageway               Urban     Fine no high winds   \n",
       "1       Single carriageway               Urban  Raining no high winds   \n",
       "2                      NaN               Urban                    NaN   \n",
       "3       Single carriageway               Urban     Fine no high winds   \n",
       "4                      NaN               Urban                    NaN   \n",
       "...                    ...                 ...                    ...   \n",
       "660674  Single carriageway               Rural     Fine no high winds   \n",
       "660675  Single carriageway               Rural     Fine no high winds   \n",
       "660676  Single carriageway               Rural     Fine no high winds   \n",
       "660677  Single carriageway               Rural     Fine no high winds   \n",
       "660678    Dual carriageway               Rural  Snowing no high winds   \n",
       "\n",
       "                                Vehicle_Type  \n",
       "0                                        Car  \n",
       "1                                        Car  \n",
       "2                      Taxi/Private hire car  \n",
       "3       Bus or coach (17 or more pass seats)  \n",
       "4                              Other vehicle  \n",
       "...                                      ...  \n",
       "660674                                   Car  \n",
       "660675                                   Car  \n",
       "660676                                   Car  \n",
       "660677                 Motorcycle over 500cc  \n",
       "660678                                   Car  \n",
       "\n",
       "[660679 rows x 14 columns]"
      ]
     },
     "execution_count": 5,
     "metadata": {},
     "output_type": "execute_result"
    }
   ],
   "source": [
    "accident"
   ]
  },
  {
   "cell_type": "markdown",
   "id": "72821309-cc15-4864-bc80-b922282fa509",
   "metadata": {},
   "source": [
    "<h2>Descriptive Analytics</h2>"
   ]
  },
  {
   "cell_type": "code",
   "execution_count": 6,
   "id": "0e95bece-deda-4b32-b0d1-0c59b6330272",
   "metadata": {},
   "outputs": [
    {
     "data": {
      "text/html": [
       "<div>\n",
       "<style scoped>\n",
       "    .dataframe tbody tr th:only-of-type {\n",
       "        vertical-align: middle;\n",
       "    }\n",
       "\n",
       "    .dataframe tbody tr th {\n",
       "        vertical-align: top;\n",
       "    }\n",
       "\n",
       "    .dataframe thead th {\n",
       "        text-align: right;\n",
       "    }\n",
       "</style>\n",
       "<table border=\"1\" class=\"dataframe\">\n",
       "  <thead>\n",
       "    <tr style=\"text-align: right;\">\n",
       "      <th></th>\n",
       "      <th>Accident Date</th>\n",
       "      <th>Latitude</th>\n",
       "      <th>Longitude</th>\n",
       "      <th>Number_of_Casualties</th>\n",
       "      <th>Number_of_Vehicles</th>\n",
       "    </tr>\n",
       "  </thead>\n",
       "  <tbody>\n",
       "    <tr>\n",
       "      <th>count</th>\n",
       "      <td>660679</td>\n",
       "      <td>660654.000000</td>\n",
       "      <td>660653.000000</td>\n",
       "      <td>660679.000000</td>\n",
       "      <td>660679.000000</td>\n",
       "    </tr>\n",
       "    <tr>\n",
       "      <th>mean</th>\n",
       "      <td>2020-11-30 08:30:32.761749760</td>\n",
       "      <td>52.553866</td>\n",
       "      <td>-1.431210</td>\n",
       "      <td>1.357040</td>\n",
       "      <td>1.831255</td>\n",
       "    </tr>\n",
       "    <tr>\n",
       "      <th>min</th>\n",
       "      <td>2019-01-01 00:00:00</td>\n",
       "      <td>49.914430</td>\n",
       "      <td>-7.516225</td>\n",
       "      <td>1.000000</td>\n",
       "      <td>1.000000</td>\n",
       "    </tr>\n",
       "    <tr>\n",
       "      <th>25%</th>\n",
       "      <td>2019-11-27 00:00:00</td>\n",
       "      <td>51.490690</td>\n",
       "      <td>-2.332291</td>\n",
       "      <td>1.000000</td>\n",
       "      <td>1.000000</td>\n",
       "    </tr>\n",
       "    <tr>\n",
       "      <th>50%</th>\n",
       "      <td>2020-11-13 00:00:00</td>\n",
       "      <td>52.315641</td>\n",
       "      <td>-1.411667</td>\n",
       "      <td>1.000000</td>\n",
       "      <td>2.000000</td>\n",
       "    </tr>\n",
       "    <tr>\n",
       "      <th>75%</th>\n",
       "      <td>2021-11-17 00:00:00</td>\n",
       "      <td>53.453452</td>\n",
       "      <td>-0.232869</td>\n",
       "      <td>1.000000</td>\n",
       "      <td>2.000000</td>\n",
       "    </tr>\n",
       "    <tr>\n",
       "      <th>max</th>\n",
       "      <td>2022-12-31 00:00:00</td>\n",
       "      <td>60.757544</td>\n",
       "      <td>1.762010</td>\n",
       "      <td>68.000000</td>\n",
       "      <td>32.000000</td>\n",
       "    </tr>\n",
       "    <tr>\n",
       "      <th>std</th>\n",
       "      <td>NaN</td>\n",
       "      <td>1.406922</td>\n",
       "      <td>1.383330</td>\n",
       "      <td>0.824847</td>\n",
       "      <td>0.715269</td>\n",
       "    </tr>\n",
       "  </tbody>\n",
       "</table>\n",
       "</div>"
      ],
      "text/plain": [
       "                       Accident Date       Latitude      Longitude  \\\n",
       "count                         660679  660654.000000  660653.000000   \n",
       "mean   2020-11-30 08:30:32.761749760      52.553866      -1.431210   \n",
       "min              2019-01-01 00:00:00      49.914430      -7.516225   \n",
       "25%              2019-11-27 00:00:00      51.490690      -2.332291   \n",
       "50%              2020-11-13 00:00:00      52.315641      -1.411667   \n",
       "75%              2021-11-17 00:00:00      53.453452      -0.232869   \n",
       "max              2022-12-31 00:00:00      60.757544       1.762010   \n",
       "std                              NaN       1.406922       1.383330   \n",
       "\n",
       "       Number_of_Casualties  Number_of_Vehicles  \n",
       "count         660679.000000       660679.000000  \n",
       "mean               1.357040            1.831255  \n",
       "min                1.000000            1.000000  \n",
       "25%                1.000000            1.000000  \n",
       "50%                1.000000            2.000000  \n",
       "75%                1.000000            2.000000  \n",
       "max               68.000000           32.000000  \n",
       "std                0.824847            0.715269  "
      ]
     },
     "execution_count": 6,
     "metadata": {},
     "output_type": "execute_result"
    }
   ],
   "source": [
    "accident.describe()"
   ]
  },
  {
   "cell_type": "code",
   "execution_count": 7,
   "id": "e9edae76-c7a5-486e-8a55-82abf8e9f854",
   "metadata": {},
   "outputs": [
    {
     "data": {
      "text/html": [
       "<div>\n",
       "<style scoped>\n",
       "    .dataframe tbody tr th:only-of-type {\n",
       "        vertical-align: middle;\n",
       "    }\n",
       "\n",
       "    .dataframe tbody tr th {\n",
       "        vertical-align: top;\n",
       "    }\n",
       "\n",
       "    .dataframe thead th {\n",
       "        text-align: right;\n",
       "    }\n",
       "</style>\n",
       "<table border=\"1\" class=\"dataframe\">\n",
       "  <thead>\n",
       "    <tr style=\"text-align: right;\">\n",
       "      <th></th>\n",
       "      <th>count</th>\n",
       "      <th>mean</th>\n",
       "      <th>min</th>\n",
       "      <th>25%</th>\n",
       "      <th>50%</th>\n",
       "      <th>75%</th>\n",
       "      <th>max</th>\n",
       "      <th>std</th>\n",
       "    </tr>\n",
       "  </thead>\n",
       "  <tbody>\n",
       "    <tr>\n",
       "      <th>Accident Date</th>\n",
       "      <td>660679</td>\n",
       "      <td>2020-11-30 08:30:32.761749760</td>\n",
       "      <td>2019-01-01 00:00:00</td>\n",
       "      <td>2019-11-27 00:00:00</td>\n",
       "      <td>2020-11-13 00:00:00</td>\n",
       "      <td>2021-11-17 00:00:00</td>\n",
       "      <td>2022-12-31 00:00:00</td>\n",
       "      <td>NaN</td>\n",
       "    </tr>\n",
       "    <tr>\n",
       "      <th>Latitude</th>\n",
       "      <td>660654.0</td>\n",
       "      <td>52.553866</td>\n",
       "      <td>49.91443</td>\n",
       "      <td>51.49069</td>\n",
       "      <td>52.315641</td>\n",
       "      <td>53.453452</td>\n",
       "      <td>60.757544</td>\n",
       "      <td>1.406922</td>\n",
       "    </tr>\n",
       "    <tr>\n",
       "      <th>Longitude</th>\n",
       "      <td>660653.0</td>\n",
       "      <td>-1.43121</td>\n",
       "      <td>-7.516225</td>\n",
       "      <td>-2.332291</td>\n",
       "      <td>-1.411667</td>\n",
       "      <td>-0.232869</td>\n",
       "      <td>1.76201</td>\n",
       "      <td>1.38333</td>\n",
       "    </tr>\n",
       "    <tr>\n",
       "      <th>Number_of_Casualties</th>\n",
       "      <td>660679.0</td>\n",
       "      <td>1.35704</td>\n",
       "      <td>1.0</td>\n",
       "      <td>1.0</td>\n",
       "      <td>1.0</td>\n",
       "      <td>1.0</td>\n",
       "      <td>68.0</td>\n",
       "      <td>0.824847</td>\n",
       "    </tr>\n",
       "    <tr>\n",
       "      <th>Number_of_Vehicles</th>\n",
       "      <td>660679.0</td>\n",
       "      <td>1.831255</td>\n",
       "      <td>1.0</td>\n",
       "      <td>1.0</td>\n",
       "      <td>2.0</td>\n",
       "      <td>2.0</td>\n",
       "      <td>32.0</td>\n",
       "      <td>0.715269</td>\n",
       "    </tr>\n",
       "  </tbody>\n",
       "</table>\n",
       "</div>"
      ],
      "text/plain": [
       "                         count                           mean  \\\n",
       "Accident Date           660679  2020-11-30 08:30:32.761749760   \n",
       "Latitude              660654.0                      52.553866   \n",
       "Longitude             660653.0                       -1.43121   \n",
       "Number_of_Casualties  660679.0                        1.35704   \n",
       "Number_of_Vehicles    660679.0                       1.831255   \n",
       "\n",
       "                                      min                  25%  \\\n",
       "Accident Date         2019-01-01 00:00:00  2019-11-27 00:00:00   \n",
       "Latitude                         49.91443             51.49069   \n",
       "Longitude                       -7.516225            -2.332291   \n",
       "Number_of_Casualties                  1.0                  1.0   \n",
       "Number_of_Vehicles                    1.0                  1.0   \n",
       "\n",
       "                                      50%                  75%  \\\n",
       "Accident Date         2020-11-13 00:00:00  2021-11-17 00:00:00   \n",
       "Latitude                        52.315641            53.453452   \n",
       "Longitude                       -1.411667            -0.232869   \n",
       "Number_of_Casualties                  1.0                  1.0   \n",
       "Number_of_Vehicles                    2.0                  2.0   \n",
       "\n",
       "                                      max       std  \n",
       "Accident Date         2022-12-31 00:00:00       NaN  \n",
       "Latitude                        60.757544  1.406922  \n",
       "Longitude                         1.76201   1.38333  \n",
       "Number_of_Casualties                 68.0  0.824847  \n",
       "Number_of_Vehicles                   32.0  0.715269  "
      ]
     },
     "execution_count": 7,
     "metadata": {},
     "output_type": "execute_result"
    }
   ],
   "source": [
    "accident.describe().T"
   ]
  },
  {
   "cell_type": "markdown",
   "id": "f8094311-7063-4222-8972-f32b6798d9e3",
   "metadata": {},
   "source": [
    "<h2>Checking Null Values</h2>"
   ]
  },
  {
   "cell_type": "code",
   "execution_count": 8,
   "id": "28a4c735-660f-40b3-8a14-5caf34ed746b",
   "metadata": {},
   "outputs": [
    {
     "data": {
      "text/html": [
       "<div>\n",
       "<style scoped>\n",
       "    .dataframe tbody tr th:only-of-type {\n",
       "        vertical-align: middle;\n",
       "    }\n",
       "\n",
       "    .dataframe tbody tr th {\n",
       "        vertical-align: top;\n",
       "    }\n",
       "\n",
       "    .dataframe thead th {\n",
       "        text-align: right;\n",
       "    }\n",
       "</style>\n",
       "<table border=\"1\" class=\"dataframe\">\n",
       "  <thead>\n",
       "    <tr style=\"text-align: right;\">\n",
       "      <th></th>\n",
       "      <th>Index</th>\n",
       "      <th>Accident_Severity</th>\n",
       "      <th>Accident Date</th>\n",
       "      <th>Latitude</th>\n",
       "      <th>Light_Conditions</th>\n",
       "      <th>District Area</th>\n",
       "      <th>Longitude</th>\n",
       "      <th>Number_of_Casualties</th>\n",
       "      <th>Number_of_Vehicles</th>\n",
       "      <th>Road_Surface_Conditions</th>\n",
       "      <th>Road_Type</th>\n",
       "      <th>Urban_or_Rural_Area</th>\n",
       "      <th>Weather_Conditions</th>\n",
       "      <th>Vehicle_Type</th>\n",
       "    </tr>\n",
       "  </thead>\n",
       "  <tbody>\n",
       "    <tr>\n",
       "      <th>0</th>\n",
       "      <td>False</td>\n",
       "      <td>False</td>\n",
       "      <td>False</td>\n",
       "      <td>False</td>\n",
       "      <td>False</td>\n",
       "      <td>False</td>\n",
       "      <td>False</td>\n",
       "      <td>False</td>\n",
       "      <td>False</td>\n",
       "      <td>False</td>\n",
       "      <td>False</td>\n",
       "      <td>False</td>\n",
       "      <td>False</td>\n",
       "      <td>False</td>\n",
       "    </tr>\n",
       "    <tr>\n",
       "      <th>1</th>\n",
       "      <td>False</td>\n",
       "      <td>False</td>\n",
       "      <td>False</td>\n",
       "      <td>False</td>\n",
       "      <td>False</td>\n",
       "      <td>False</td>\n",
       "      <td>False</td>\n",
       "      <td>False</td>\n",
       "      <td>False</td>\n",
       "      <td>False</td>\n",
       "      <td>False</td>\n",
       "      <td>False</td>\n",
       "      <td>False</td>\n",
       "      <td>False</td>\n",
       "    </tr>\n",
       "    <tr>\n",
       "      <th>2</th>\n",
       "      <td>False</td>\n",
       "      <td>False</td>\n",
       "      <td>False</td>\n",
       "      <td>False</td>\n",
       "      <td>False</td>\n",
       "      <td>False</td>\n",
       "      <td>False</td>\n",
       "      <td>False</td>\n",
       "      <td>False</td>\n",
       "      <td>False</td>\n",
       "      <td>True</td>\n",
       "      <td>False</td>\n",
       "      <td>True</td>\n",
       "      <td>False</td>\n",
       "    </tr>\n",
       "    <tr>\n",
       "      <th>3</th>\n",
       "      <td>False</td>\n",
       "      <td>False</td>\n",
       "      <td>False</td>\n",
       "      <td>False</td>\n",
       "      <td>False</td>\n",
       "      <td>False</td>\n",
       "      <td>False</td>\n",
       "      <td>False</td>\n",
       "      <td>False</td>\n",
       "      <td>False</td>\n",
       "      <td>False</td>\n",
       "      <td>False</td>\n",
       "      <td>False</td>\n",
       "      <td>False</td>\n",
       "    </tr>\n",
       "    <tr>\n",
       "      <th>4</th>\n",
       "      <td>False</td>\n",
       "      <td>False</td>\n",
       "      <td>False</td>\n",
       "      <td>False</td>\n",
       "      <td>False</td>\n",
       "      <td>False</td>\n",
       "      <td>False</td>\n",
       "      <td>False</td>\n",
       "      <td>False</td>\n",
       "      <td>False</td>\n",
       "      <td>True</td>\n",
       "      <td>False</td>\n",
       "      <td>True</td>\n",
       "      <td>False</td>\n",
       "    </tr>\n",
       "    <tr>\n",
       "      <th>...</th>\n",
       "      <td>...</td>\n",
       "      <td>...</td>\n",
       "      <td>...</td>\n",
       "      <td>...</td>\n",
       "      <td>...</td>\n",
       "      <td>...</td>\n",
       "      <td>...</td>\n",
       "      <td>...</td>\n",
       "      <td>...</td>\n",
       "      <td>...</td>\n",
       "      <td>...</td>\n",
       "      <td>...</td>\n",
       "      <td>...</td>\n",
       "      <td>...</td>\n",
       "    </tr>\n",
       "    <tr>\n",
       "      <th>660674</th>\n",
       "      <td>False</td>\n",
       "      <td>False</td>\n",
       "      <td>False</td>\n",
       "      <td>False</td>\n",
       "      <td>False</td>\n",
       "      <td>False</td>\n",
       "      <td>False</td>\n",
       "      <td>False</td>\n",
       "      <td>False</td>\n",
       "      <td>False</td>\n",
       "      <td>False</td>\n",
       "      <td>False</td>\n",
       "      <td>False</td>\n",
       "      <td>False</td>\n",
       "    </tr>\n",
       "    <tr>\n",
       "      <th>660675</th>\n",
       "      <td>False</td>\n",
       "      <td>False</td>\n",
       "      <td>False</td>\n",
       "      <td>False</td>\n",
       "      <td>False</td>\n",
       "      <td>False</td>\n",
       "      <td>False</td>\n",
       "      <td>False</td>\n",
       "      <td>False</td>\n",
       "      <td>False</td>\n",
       "      <td>False</td>\n",
       "      <td>False</td>\n",
       "      <td>False</td>\n",
       "      <td>False</td>\n",
       "    </tr>\n",
       "    <tr>\n",
       "      <th>660676</th>\n",
       "      <td>False</td>\n",
       "      <td>False</td>\n",
       "      <td>False</td>\n",
       "      <td>False</td>\n",
       "      <td>False</td>\n",
       "      <td>False</td>\n",
       "      <td>False</td>\n",
       "      <td>False</td>\n",
       "      <td>False</td>\n",
       "      <td>False</td>\n",
       "      <td>False</td>\n",
       "      <td>False</td>\n",
       "      <td>False</td>\n",
       "      <td>False</td>\n",
       "    </tr>\n",
       "    <tr>\n",
       "      <th>660677</th>\n",
       "      <td>False</td>\n",
       "      <td>False</td>\n",
       "      <td>False</td>\n",
       "      <td>False</td>\n",
       "      <td>False</td>\n",
       "      <td>False</td>\n",
       "      <td>False</td>\n",
       "      <td>False</td>\n",
       "      <td>False</td>\n",
       "      <td>False</td>\n",
       "      <td>False</td>\n",
       "      <td>False</td>\n",
       "      <td>False</td>\n",
       "      <td>False</td>\n",
       "    </tr>\n",
       "    <tr>\n",
       "      <th>660678</th>\n",
       "      <td>False</td>\n",
       "      <td>False</td>\n",
       "      <td>False</td>\n",
       "      <td>False</td>\n",
       "      <td>False</td>\n",
       "      <td>False</td>\n",
       "      <td>False</td>\n",
       "      <td>False</td>\n",
       "      <td>False</td>\n",
       "      <td>False</td>\n",
       "      <td>False</td>\n",
       "      <td>False</td>\n",
       "      <td>False</td>\n",
       "      <td>False</td>\n",
       "    </tr>\n",
       "  </tbody>\n",
       "</table>\n",
       "<p>660679 rows × 14 columns</p>\n",
       "</div>"
      ],
      "text/plain": [
       "        Index  Accident_Severity  Accident Date  Latitude  Light_Conditions  \\\n",
       "0       False              False          False     False             False   \n",
       "1       False              False          False     False             False   \n",
       "2       False              False          False     False             False   \n",
       "3       False              False          False     False             False   \n",
       "4       False              False          False     False             False   \n",
       "...       ...                ...            ...       ...               ...   \n",
       "660674  False              False          False     False             False   \n",
       "660675  False              False          False     False             False   \n",
       "660676  False              False          False     False             False   \n",
       "660677  False              False          False     False             False   \n",
       "660678  False              False          False     False             False   \n",
       "\n",
       "        District Area  Longitude  Number_of_Casualties  Number_of_Vehicles  \\\n",
       "0               False      False                 False               False   \n",
       "1               False      False                 False               False   \n",
       "2               False      False                 False               False   \n",
       "3               False      False                 False               False   \n",
       "4               False      False                 False               False   \n",
       "...               ...        ...                   ...                 ...   \n",
       "660674          False      False                 False               False   \n",
       "660675          False      False                 False               False   \n",
       "660676          False      False                 False               False   \n",
       "660677          False      False                 False               False   \n",
       "660678          False      False                 False               False   \n",
       "\n",
       "        Road_Surface_Conditions  Road_Type  Urban_or_Rural_Area  \\\n",
       "0                         False      False                False   \n",
       "1                         False      False                False   \n",
       "2                         False       True                False   \n",
       "3                         False      False                False   \n",
       "4                         False       True                False   \n",
       "...                         ...        ...                  ...   \n",
       "660674                    False      False                False   \n",
       "660675                    False      False                False   \n",
       "660676                    False      False                False   \n",
       "660677                    False      False                False   \n",
       "660678                    False      False                False   \n",
       "\n",
       "        Weather_Conditions  Vehicle_Type  \n",
       "0                    False         False  \n",
       "1                    False         False  \n",
       "2                     True         False  \n",
       "3                    False         False  \n",
       "4                     True         False  \n",
       "...                    ...           ...  \n",
       "660674               False         False  \n",
       "660675               False         False  \n",
       "660676               False         False  \n",
       "660677               False         False  \n",
       "660678               False         False  \n",
       "\n",
       "[660679 rows x 14 columns]"
      ]
     },
     "execution_count": 8,
     "metadata": {},
     "output_type": "execute_result"
    }
   ],
   "source": [
    "accident.isnull()"
   ]
  },
  {
   "cell_type": "code",
   "execution_count": 9,
   "id": "c61cef38-7f88-4845-8d38-e27a1ceb4a37",
   "metadata": {},
   "outputs": [
    {
     "data": {
      "text/plain": [
       "Index                          0\n",
       "Accident_Severity              0\n",
       "Accident Date                  0\n",
       "Latitude                      25\n",
       "Light_Conditions               0\n",
       "District Area                  0\n",
       "Longitude                     26\n",
       "Number_of_Casualties           0\n",
       "Number_of_Vehicles             0\n",
       "Road_Surface_Conditions      726\n",
       "Road_Type                   4520\n",
       "Urban_or_Rural_Area           15\n",
       "Weather_Conditions         14128\n",
       "Vehicle_Type                   0\n",
       "dtype: int64"
      ]
     },
     "execution_count": 9,
     "metadata": {},
     "output_type": "execute_result"
    }
   ],
   "source": [
    "accident.isnull().sum()"
   ]
  },
  {
   "cell_type": "markdown",
   "id": "d91ccf1f-7e90-4eb1-8270-ec446cf72435",
   "metadata": {},
   "source": [
    "<h2>Filtering a column</h2>"
   ]
  },
  {
   "cell_type": "code",
   "execution_count": 10,
   "id": "02dc348b-9083-42c5-a0c5-3518661c7b8c",
   "metadata": {},
   "outputs": [
    {
     "data": {
      "text/plain": [
       "Index\n",
       "2.01E+12         239478\n",
       "2.01E+86              4\n",
       "2.01E+197             4\n",
       "2.01E+98              4\n",
       "2.01E+175             4\n",
       "                  ...  \n",
       "201091NM01760         1\n",
       "201091NM01881         1\n",
       "201091NM01935         1\n",
       "201091NM01964         1\n",
       "201091NM02142         1\n",
       "Name: count, Length: 421020, dtype: int64"
      ]
     },
     "execution_count": 10,
     "metadata": {},
     "output_type": "execute_result"
    }
   ],
   "source": [
    "accident['Index'].value_counts()"
   ]
  },
  {
   "cell_type": "code",
   "execution_count": 11,
   "id": "8732db0b-bbe8-43c6-84fa-ae0f4f2aa9bd",
   "metadata": {},
   "outputs": [
    {
     "data": {
      "text/plain": [
       "Accident_Severity\n",
       "Slight     563801\n",
       "Serious     88217\n",
       "Fatal        8661\n",
       "Name: count, dtype: int64"
      ]
     },
     "execution_count": 11,
     "metadata": {},
     "output_type": "execute_result"
    }
   ],
   "source": [
    "accident['Accident_Severity'].value_counts()"
   ]
  },
  {
   "cell_type": "code",
   "execution_count": 12,
   "id": "ef8aff8d-c8c4-491c-a535-c2dcfa32352d",
   "metadata": {},
   "outputs": [
    {
     "data": {
      "text/plain": [
       "Accident Date\n",
       "2019-11-30    704\n",
       "2019-01-31    697\n",
       "2019-07-13    692\n",
       "2021-11-13    692\n",
       "2019-08-14    688\n",
       "             ... \n",
       "2022-12-30    171\n",
       "2019-12-25    157\n",
       "2022-12-25    145\n",
       "2022-01-10    123\n",
       "2020-12-25    118\n",
       "Name: count, Length: 1461, dtype: int64"
      ]
     },
     "execution_count": 12,
     "metadata": {},
     "output_type": "execute_result"
    }
   ],
   "source": [
    "accident['Accident Date'].value_counts()"
   ]
  },
  {
   "cell_type": "code",
   "execution_count": 13,
   "id": "b92d4c10-afce-497e-b9aa-b49a4d5d7cf7",
   "metadata": {},
   "outputs": [
    {
     "data": {
      "text/plain": [
       "Latitude\n",
       "52.458798    50\n",
       "52.949719    45\n",
       "53.083165    33\n",
       "52.967634    31\n",
       "52.938860    29\n",
       "             ..\n",
       "56.880265     1\n",
       "56.865367     1\n",
       "57.528413     1\n",
       "57.194499     1\n",
       "51.493490     1\n",
       "Name: count, Length: 511618, dtype: int64"
      ]
     },
     "execution_count": 13,
     "metadata": {},
     "output_type": "execute_result"
    }
   ],
   "source": [
    "accident['Latitude'].value_counts()"
   ]
  },
  {
   "cell_type": "code",
   "execution_count": 14,
   "id": "bd6deee8-3077-4701-b301-4a84fd136ece",
   "metadata": {},
   "outputs": [
    {
     "data": {
      "text/plain": [
       "Light_Conditions\n",
       "Daylight                       484880\n",
       "Darkness - lights lit          129335\n",
       "Darkness - no lighting          37437\n",
       "Darkness - lighting unknown      6484\n",
       "Darkness - lights unlit          2543\n",
       "Name: count, dtype: int64"
      ]
     },
     "execution_count": 14,
     "metadata": {},
     "output_type": "execute_result"
    }
   ],
   "source": [
    "accident['Light_Conditions'].value_counts()"
   ]
  },
  {
   "cell_type": "code",
   "execution_count": 15,
   "id": "b8b84fa4-bbcb-4f35-9a02-37faac16b938",
   "metadata": {},
   "outputs": [
    {
     "data": {
      "text/plain": [
       "District Area\n",
       "Birmingham            13491\n",
       "Leeds                  8898\n",
       "Manchester             6720\n",
       "Bradford               6212\n",
       "Sheffield              5710\n",
       "                      ...  \n",
       "Berwick-upon-Tweed      153\n",
       "Teesdale                142\n",
       "Shetland Islands        133\n",
       "Orkney Islands          117\n",
       "Clackmannanshire         91\n",
       "Name: count, Length: 422, dtype: int64"
      ]
     },
     "execution_count": 15,
     "metadata": {},
     "output_type": "execute_result"
    }
   ],
   "source": [
    "accident['District Area'].value_counts()"
   ]
  },
  {
   "cell_type": "code",
   "execution_count": 16,
   "id": "31b53b24-d791-4f4f-a95f-fbd1793aaf2b",
   "metadata": {},
   "outputs": [
    {
     "data": {
      "text/plain": [
       "Longitude\n",
       "-0.977611    45\n",
       "-1.871043    36\n",
       "-0.816789    33\n",
       "-1.190861    31\n",
       "-1.216694    29\n",
       "             ..\n",
       "-4.169644     1\n",
       "-3.798648     1\n",
       "-3.630574     1\n",
       "-3.836563     1\n",
       "-3.924477     1\n",
       "Name: count, Length: 529766, dtype: int64"
      ]
     },
     "execution_count": 16,
     "metadata": {},
     "output_type": "execute_result"
    }
   ],
   "source": [
    "accident['Longitude'].value_counts()"
   ]
  },
  {
   "cell_type": "code",
   "execution_count": 17,
   "id": "8a4a07be-fa01-4646-ae94-66a2cb532d53",
   "metadata": {},
   "outputs": [
    {
     "data": {
      "text/plain": [
       "Number_of_Casualties\n",
       "1     504041\n",
       "2     107971\n",
       "3      30776\n",
       "4      11156\n",
       "5       4123\n",
       "6       1525\n",
       "7        539\n",
       "8        214\n",
       "9        112\n",
       "10        58\n",
       "11        36\n",
       "13        24\n",
       "12        21\n",
       "14        13\n",
       "15        11\n",
       "17         8\n",
       "19         7\n",
       "16         7\n",
       "18         6\n",
       "22         5\n",
       "21         4\n",
       "29         3\n",
       "40         2\n",
       "28         2\n",
       "24         2\n",
       "27         2\n",
       "42         2\n",
       "25         1\n",
       "32         1\n",
       "68         1\n",
       "45         1\n",
       "62         1\n",
       "47         1\n",
       "48         1\n",
       "26         1\n",
       "43         1\n",
       "Name: count, dtype: int64"
      ]
     },
     "execution_count": 17,
     "metadata": {},
     "output_type": "execute_result"
    }
   ],
   "source": [
    "accident['Number_of_Casualties'].value_counts()"
   ]
  },
  {
   "cell_type": "code",
   "execution_count": 18,
   "id": "61b26333-a576-4c84-b491-551a7c10a7ef",
   "metadata": {},
   "outputs": [
    {
     "data": {
      "text/plain": [
       "Number_of_Vehicles\n",
       "2     391995\n",
       "1     200787\n",
       "3      52806\n",
       "4      11300\n",
       "5       2464\n",
       "6        758\n",
       "7        296\n",
       "8        147\n",
       "9         57\n",
       "10        27\n",
       "11        12\n",
       "14         9\n",
       "12         7\n",
       "13         6\n",
       "16         4\n",
       "28         1\n",
       "15         1\n",
       "32         1\n",
       "19         1\n",
       "Name: count, dtype: int64"
      ]
     },
     "execution_count": 18,
     "metadata": {},
     "output_type": "execute_result"
    }
   ],
   "source": [
    "accident['Number_of_Vehicles'].value_counts()"
   ]
  },
  {
   "cell_type": "code",
   "execution_count": 19,
   "id": "9fb27c3e-b362-4a6c-8171-a406e2077794",
   "metadata": {},
   "outputs": [
    {
     "data": {
      "text/plain": [
       "Road_Surface_Conditions\n",
       "Dry                     447821\n",
       "Wet or damp             186708\n",
       "Frost or ice             18517\n",
       "Snow                      5890\n",
       "Flood over 3cm. deep      1017\n",
       "Name: count, dtype: int64"
      ]
     },
     "execution_count": 19,
     "metadata": {},
     "output_type": "execute_result"
    }
   ],
   "source": [
    "accident['Road_Surface_Conditions'].value_counts()"
   ]
  },
  {
   "cell_type": "code",
   "execution_count": 20,
   "id": "01152362-4172-419b-ba94-a2c74ae13854",
   "metadata": {},
   "outputs": [
    {
     "data": {
      "text/plain": [
       "Road_Type\n",
       "Single carriageway    492143\n",
       "Dual carriageway       99424\n",
       "Roundabout             43992\n",
       "One way street         13559\n",
       "Slip road               7041\n",
       "Name: count, dtype: int64"
      ]
     },
     "execution_count": 20,
     "metadata": {},
     "output_type": "execute_result"
    }
   ],
   "source": [
    "accident['Road_Type'].value_counts()"
   ]
  },
  {
   "cell_type": "code",
   "execution_count": 21,
   "id": "81095f47-f51d-4c12-ab27-7fa2e1ed504d",
   "metadata": {},
   "outputs": [
    {
     "data": {
      "text/plain": [
       "Urban_or_Rural_Area\n",
       "Urban          421663\n",
       "Rural          238990\n",
       "Unallocated        11\n",
       "Name: count, dtype: int64"
      ]
     },
     "execution_count": 21,
     "metadata": {},
     "output_type": "execute_result"
    }
   ],
   "source": [
    "accident['Urban_or_Rural_Area'].value_counts()"
   ]
  },
  {
   "cell_type": "code",
   "execution_count": 22,
   "id": "0a75f164-3a28-426d-8871-c4cec1cf6375",
   "metadata": {},
   "outputs": [
    {
     "data": {
      "text/plain": [
       "Weather_Conditions\n",
       "Fine no high winds       520885\n",
       "Raining no high winds     79696\n",
       "Other                     17150\n",
       "Raining + high winds       9615\n",
       "Fine + high winds          8554\n",
       "Snowing no high winds      6238\n",
       "Fog or mist                3528\n",
       "Snowing + high winds        885\n",
       "Name: count, dtype: int64"
      ]
     },
     "execution_count": 22,
     "metadata": {},
     "output_type": "execute_result"
    }
   ],
   "source": [
    "accident['Weather_Conditions'].value_counts()"
   ]
  },
  {
   "cell_type": "code",
   "execution_count": 23,
   "id": "04783304-3aa0-46cc-a2d6-d39be6bbaf99",
   "metadata": {},
   "outputs": [
    {
     "data": {
      "text/plain": [
       "Vehicle_Type\n",
       "Car                                      497992\n",
       "Van / Goods 3.5 tonnes mgw or under       34160\n",
       "Bus or coach (17 or more pass seats)      25878\n",
       "Motorcycle over 500cc                     25657\n",
       "Goods 7.5 tonnes mgw and over             17307\n",
       "Motorcycle 125cc and under                15269\n",
       "Taxi/Private hire car                     13294\n",
       "Motorcycle over 125cc and up to 500cc      7656\n",
       "Motorcycle 50cc and under                  7603\n",
       "Goods over 3.5t. and under 7.5t            6096\n",
       "Other vehicle                              5637\n",
       "Minibus (8 - 16 passenger seats)           1976\n",
       "Agricultural vehicle                       1947\n",
       "Pedal cycle                                 197\n",
       "Data missing or out of range                  6\n",
       "Ridden horse                                  4\n",
       "Name: count, dtype: int64"
      ]
     },
     "execution_count": 23,
     "metadata": {},
     "output_type": "execute_result"
    }
   ],
   "source": [
    "accident['Vehicle_Type'].value_counts()"
   ]
  },
  {
   "cell_type": "markdown",
   "id": "d70992e1-29c0-47d6-95f7-51e7f3f1408e",
   "metadata": {},
   "source": [
    "<h2>FILLING UP NULL VALUES</h2>"
   ]
  },
  {
   "cell_type": "code",
   "execution_count": 24,
   "id": "e6717a93-22e0-4f04-8c34-433ea1f48d91",
   "metadata": {},
   "outputs": [
    {
     "data": {
      "text/plain": [
       "Index                          0\n",
       "Accident_Severity              0\n",
       "Accident Date                  0\n",
       "Latitude                      25\n",
       "Light_Conditions               0\n",
       "District Area                  0\n",
       "Longitude                     26\n",
       "Number_of_Casualties           0\n",
       "Number_of_Vehicles             0\n",
       "Road_Surface_Conditions      726\n",
       "Road_Type                   4520\n",
       "Urban_or_Rural_Area           15\n",
       "Weather_Conditions         14128\n",
       "Vehicle_Type                   0\n",
       "dtype: int64"
      ]
     },
     "execution_count": 24,
     "metadata": {},
     "output_type": "execute_result"
    }
   ],
   "source": [
    "accident.isnull().sum()"
   ]
  },
  {
   "cell_type": "code",
   "execution_count": 25,
   "id": "3cce2de6-2153-4d96-9fe3-82ccedd8bf4e",
   "metadata": {},
   "outputs": [
    {
     "data": {
      "text/plain": [
       "np.float64(52.553865761110956)"
      ]
     },
     "execution_count": 25,
     "metadata": {},
     "output_type": "execute_result"
    }
   ],
   "source": [
    "accident['Latitude'].mean()"
   ]
  },
  {
   "cell_type": "code",
   "execution_count": 26,
   "id": "f3d68960-e94d-4405-a1cd-e5a6689ec7a0",
   "metadata": {},
   "outputs": [],
   "source": [
    "accident['Latitude'] = accident['Latitude'].fillna(accident['Latitude'].mean())\n",
    "accident['Longitude'] = accident['Longitude'].fillna(accident['Longitude'].mean())\n",
    "accident['Road_Surface_Conditions'] = accident['Road_Surface_Conditions'].fillna(accident['Road_Surface_Conditions'].mode()[0])\n",
    "accident['Road_Type'] = accident['Road_Type'].fillna(accident['Road_Type'].mode()[0])\n",
    "accident['Urban_or_Rural_Area'] = accident['Urban_or_Rural_Area'].fillna(accident['Urban_or_Rural_Area'].mode()[0])\n",
    "accident['Weather_Conditions'] = accident['Weather_Conditions'].fillna(accident['Weather_Conditions'].mode()[0])"
   ]
  },
  {
   "cell_type": "code",
   "execution_count": 27,
   "id": "62c054f3-6519-4d05-bfa7-ff4c569985bd",
   "metadata": {},
   "outputs": [
    {
     "data": {
      "text/plain": [
       "Index                      0\n",
       "Accident_Severity          0\n",
       "Accident Date              0\n",
       "Latitude                   0\n",
       "Light_Conditions           0\n",
       "District Area              0\n",
       "Longitude                  0\n",
       "Number_of_Casualties       0\n",
       "Number_of_Vehicles         0\n",
       "Road_Surface_Conditions    0\n",
       "Road_Type                  0\n",
       "Urban_or_Rural_Area        0\n",
       "Weather_Conditions         0\n",
       "Vehicle_Type               0\n",
       "dtype: int64"
      ]
     },
     "execution_count": 27,
     "metadata": {},
     "output_type": "execute_result"
    }
   ],
   "source": [
    "accident.isnull().sum()"
   ]
  },
  {
   "cell_type": "markdown",
   "id": "ae2e0c3d-48c5-44b6-aa21-aac49f6b95c8",
   "metadata": {},
   "source": [
    "<h1>Extracting date information using pandas date time</h1>\n",
    "<hr>"
   ]
  },
  {
   "cell_type": "code",
   "execution_count": 28,
   "id": "ee5da13a-0f48-4ecc-bdea-d882d09148fd",
   "metadata": {},
   "outputs": [],
   "source": [
    "accident['Year'] = accident['Accident Date'].dt.year\n",
    "accident['Month'] = accident['Accident Date'].dt.month\n",
    "accident['Day'] = accident['Accident Date'].dt.day\n",
    "accident['DayOfWeek']= accident['Accident Date'].dt.dayofweek #Monday=0, Sunday=6"
   ]
  },
  {
   "cell_type": "code",
   "execution_count": 29,
   "id": "fd876e83-aa7b-4c9a-8cc8-4486657cdcc6",
   "metadata": {},
   "outputs": [
    {
     "data": {
      "text/plain": [
       "Index                      0\n",
       "Accident_Severity          0\n",
       "Accident Date              0\n",
       "Latitude                   0\n",
       "Light_Conditions           0\n",
       "District Area              0\n",
       "Longitude                  0\n",
       "Number_of_Casualties       0\n",
       "Number_of_Vehicles         0\n",
       "Road_Surface_Conditions    0\n",
       "Road_Type                  0\n",
       "Urban_or_Rural_Area        0\n",
       "Weather_Conditions         0\n",
       "Vehicle_Type               0\n",
       "Year                       0\n",
       "Month                      0\n",
       "Day                        0\n",
       "DayOfWeek                  0\n",
       "dtype: int64"
      ]
     },
     "execution_count": 29,
     "metadata": {},
     "output_type": "execute_result"
    }
   ],
   "source": [
    "accident.isnull().sum()"
   ]
  },
  {
   "cell_type": "markdown",
   "id": "a7f09f54-1655-4b73-87af-6fa03e93505c",
   "metadata": {},
   "source": [
    "<h2>Changing the Data type</h2>"
   ]
  },
  {
   "cell_type": "code",
   "execution_count": 30,
   "id": "84bb2b24-3791-4fdc-8868-280a8701ea01",
   "metadata": {},
   "outputs": [
    {
     "name": "stdout",
     "output_type": "stream",
     "text": [
      "<class 'pandas.core.frame.DataFrame'>\n",
      "RangeIndex: 660679 entries, 0 to 660678\n",
      "Data columns (total 18 columns):\n",
      " #   Column                   Non-Null Count   Dtype         \n",
      "---  ------                   --------------   -----         \n",
      " 0   Index                    660679 non-null  object        \n",
      " 1   Accident_Severity        660679 non-null  object        \n",
      " 2   Accident Date            660679 non-null  datetime64[ns]\n",
      " 3   Latitude                 660679 non-null  float64       \n",
      " 4   Light_Conditions         660679 non-null  object        \n",
      " 5   District Area            660679 non-null  object        \n",
      " 6   Longitude                660679 non-null  float64       \n",
      " 7   Number_of_Casualties     660679 non-null  int64         \n",
      " 8   Number_of_Vehicles       660679 non-null  int64         \n",
      " 9   Road_Surface_Conditions  660679 non-null  object        \n",
      " 10  Road_Type                660679 non-null  object        \n",
      " 11  Urban_or_Rural_Area      660679 non-null  object        \n",
      " 12  Weather_Conditions       660679 non-null  object        \n",
      " 13  Vehicle_Type             660679 non-null  object        \n",
      " 14  Year                     660679 non-null  int32         \n",
      " 15  Month                    660679 non-null  int32         \n",
      " 16  Day                      660679 non-null  int32         \n",
      " 17  DayOfWeek                660679 non-null  int32         \n",
      "dtypes: datetime64[ns](1), float64(2), int32(4), int64(2), object(9)\n",
      "memory usage: 80.6+ MB\n"
     ]
    }
   ],
   "source": [
    "accident.info()"
   ]
  },
  {
   "cell_type": "code",
   "execution_count": 31,
   "id": "8742ae5c-b93b-4956-aeac-571677f99e38",
   "metadata": {},
   "outputs": [],
   "source": [
    "accident['Index'] = accident['Index'].astype('category')\n",
    "accident['Accident_Severity'] = accident['Accident_Severity'].astype('category')\n",
    "accident['Accident Date'] = accident['Accident Date'].astype('category')\n",
    "accident['Light_Conditions'] = accident['Light_Conditions'].astype('category')\n",
    "accident['District Area'] = accident['District Area'].astype('category')\n",
    "accident['Number_of_Casualties'] = accident['Number_of_Casualties'].astype('category')\n",
    "accident['Number_of_Vehicles'] = accident['Number_of_Vehicles'].astype('category')\n",
    "accident['Road_Surface_Conditions'] = accident['Road_Surface_Conditions'].astype('category')\n",
    "accident['Road_Type'] = accident['Road_Type'].astype('category')\n",
    "accident['Urban_or_Rural_Area'] = accident['Urban_or_Rural_Area'].astype('category')\n",
    "accident['Weather_Conditions'] = accident['Weather_Conditions'].astype('category')\n",
    "accident['Vehicle_Type'] = accident['Vehicle_Type'].astype('category')"
   ]
  },
  {
   "cell_type": "code",
   "execution_count": 32,
   "id": "3a7cf816-2379-45f6-9022-1fb449789ad7",
   "metadata": {},
   "outputs": [
    {
     "name": "stdout",
     "output_type": "stream",
     "text": [
      "<class 'pandas.core.frame.DataFrame'>\n",
      "RangeIndex: 660679 entries, 0 to 660678\n",
      "Data columns (total 18 columns):\n",
      " #   Column                   Non-Null Count   Dtype   \n",
      "---  ------                   --------------   -----   \n",
      " 0   Index                    660679 non-null  category\n",
      " 1   Accident_Severity        660679 non-null  category\n",
      " 2   Accident Date            660679 non-null  category\n",
      " 3   Latitude                 660679 non-null  float64 \n",
      " 4   Light_Conditions         660679 non-null  category\n",
      " 5   District Area            660679 non-null  category\n",
      " 6   Longitude                660679 non-null  float64 \n",
      " 7   Number_of_Casualties     660679 non-null  category\n",
      " 8   Number_of_Vehicles       660679 non-null  category\n",
      " 9   Road_Surface_Conditions  660679 non-null  category\n",
      " 10  Road_Type                660679 non-null  category\n",
      " 11  Urban_or_Rural_Area      660679 non-null  category\n",
      " 12  Weather_Conditions       660679 non-null  category\n",
      " 13  Vehicle_Type             660679 non-null  category\n",
      " 14  Year                     660679 non-null  int32   \n",
      " 15  Month                    660679 non-null  int32   \n",
      " 16  Day                      660679 non-null  int32   \n",
      " 17  DayOfWeek                660679 non-null  int32   \n",
      "dtypes: category(12), float64(2), int32(4)\n",
      "memory usage: 50.3 MB\n"
     ]
    }
   ],
   "source": [
    "accident.info()"
   ]
  },
  {
   "cell_type": "markdown",
   "id": "095fdaa1-6e1d-4a55-9c64-2ffddf39aa7f",
   "metadata": {},
   "source": [
    "<h2>Exploratory Data Analytics</h2>\n",
    "<hr>"
   ]
  },
  {
   "cell_type": "markdown",
   "id": "643e1b59-ba92-4daa-af21-51ea3cc03e26",
   "metadata": {},
   "source": [
    "<h3>Question 1</h3>\n",
    "<h4>1. How many accidents happened at night vs daytime?</p>"
   ]
  },
  {
   "cell_type": "code",
   "execution_count": 33,
   "id": "d2c9a42e-d164-4b8b-8a4e-2442a9081fa5",
   "metadata": {},
   "outputs": [
    {
     "data": {
      "text/plain": [
       "Light_Conditions\n",
       "Daylight                       484880\n",
       "Darkness - lights lit          129335\n",
       "Darkness - no lighting          37437\n",
       "Darkness - lighting unknown      6484\n",
       "Darkness - lights unlit          2543\n",
       "Name: count, dtype: int64"
      ]
     },
     "execution_count": 33,
     "metadata": {},
     "output_type": "execute_result"
    }
   ],
   "source": [
    "light_conditions_df = accident['Light_Conditions'].value_counts()\n",
    "light_conditions_df"
   ]
  },
  {
   "cell_type": "markdown",
   "id": "df3d791b-5f24-42e0-a926-1cfd8e497613",
   "metadata": {},
   "source": [
    "<h4>Insight No.1</h4>\n",
    "<p>In this code shows how many accident happened at night and daytime</p>"
   ]
  },
  {
   "cell_type": "markdown",
   "id": "8a5b033e-8e69-45e0-88a0-ff03b6dd82fc",
   "metadata": {},
   "source": [
    "<h3>Question 2</h3>\n",
    "<h4>2. How many accidents happened in fine weather vs bad weather?</p>"
   ]
  },
  {
   "cell_type": "code",
   "execution_count": 34,
   "id": "269d9bd8-2604-4e7b-ad0e-2ed45e317ac2",
   "metadata": {},
   "outputs": [
    {
     "data": {
      "text/plain": [
       "Weather_Conditions\n",
       "Fine no high winds       535013\n",
       "Raining no high winds     79696\n",
       "Other                     17150\n",
       "Raining + high winds       9615\n",
       "Fine + high winds          8554\n",
       "Snowing no high winds      6238\n",
       "Fog or mist                3528\n",
       "Snowing + high winds        885\n",
       "Name: count, dtype: int64"
      ]
     },
     "execution_count": 34,
     "metadata": {},
     "output_type": "execute_result"
    }
   ],
   "source": [
    "weather_conditions_df = accident['Weather_Conditions'].value_counts()\n",
    "weather_conditions_df"
   ]
  },
  {
   "cell_type": "markdown",
   "id": "c96f9346-de69-4b0c-b6b2-c1822d07ba2a",
   "metadata": {},
   "source": [
    "<h4>Insight No.2</h4>\n",
    "<p>In this code shows how many accidents happened in fine weather and bad weather</p>"
   ]
  },
  {
   "cell_type": "markdown",
   "id": "88ca6d97-c9f1-46f6-8574-34a1ae9474f1",
   "metadata": {},
   "source": [
    "<h3>Question 3</h3>\n",
    "<h4>3. How many accidents occurred in urban vs rural areas?</p>"
   ]
  },
  {
   "cell_type": "code",
   "execution_count": 35,
   "id": "2ccf5c27-e506-4ce2-b3cd-44ce30ee6881",
   "metadata": {},
   "outputs": [
    {
     "data": {
      "text/plain": [
       "Urban_or_Rural_Area\n",
       "Urban          421678\n",
       "Rural          238990\n",
       "Unallocated        11\n",
       "Name: count, dtype: int64"
      ]
     },
     "execution_count": 35,
     "metadata": {},
     "output_type": "execute_result"
    }
   ],
   "source": [
    "urban_or_rural_df = accident['Urban_or_Rural_Area'].value_counts()\n",
    "urban_or_rural_df"
   ]
  },
  {
   "cell_type": "markdown",
   "id": "02f997dc-f312-4cef-a91f-b1a29169d0db",
   "metadata": {},
   "source": [
    "<h4>Insight No.3</h4>\n",
    "<p>This shows how many accident in rural and urban areas</p>"
   ]
  },
  {
   "cell_type": "markdown",
   "id": "95b53b69-c965-43ae-8fdf-52ace40c1621",
   "metadata": {},
   "source": [
    "<h3>Question 4</h3>\n",
    "<h4>4. Which road type has the most accidents?</p>"
   ]
  },
  {
   "cell_type": "code",
   "execution_count": 36,
   "id": "2240a771-8ada-45c3-85fa-60b98a31bcc7",
   "metadata": {},
   "outputs": [
    {
     "data": {
      "text/plain": [
       "Road_Type\n",
       "Single carriageway    496663\n",
       "Dual carriageway       99424\n",
       "Roundabout             43992\n",
       "One way street         13559\n",
       "Slip road               7041\n",
       "Name: count, dtype: int64"
      ]
     },
     "execution_count": 36,
     "metadata": {},
     "output_type": "execute_result"
    }
   ],
   "source": [
    "accident['Road_Type'].value_counts()"
   ]
  },
  {
   "cell_type": "markdown",
   "id": "4b8e7cf3-5b06-4981-824f-e69eb8c90958",
   "metadata": {},
   "source": [
    "<h4>Insight No.4</h4>\n",
    "<p>The road type that has the most accidents is Single carriageway</p>"
   ]
  },
  {
   "cell_type": "markdown",
   "id": "9348eddf-3f82-4e54-ace9-0664acc7f6b6",
   "metadata": {},
   "source": [
    "<h3>Question 5</h3>\n",
    "<h4>5. How many accidents happened in each district area?</p>"
   ]
  },
  {
   "cell_type": "code",
   "execution_count": 37,
   "id": "72d02d11-e12d-4a39-8e32-4fbdb2b187ee",
   "metadata": {},
   "outputs": [
    {
     "data": {
      "text/plain": [
       "District Area\n",
       "Birmingham          13491\n",
       "Leeds                8898\n",
       "Manchester           6720\n",
       "Bradford             6212\n",
       "Sheffield            5710\n",
       "Westminster          5706\n",
       "Liverpool            5587\n",
       "Glasgow City         4942\n",
       "Bristol, City of     4819\n",
       "Kirklees             4690\n",
       "Name: count, dtype: int64"
      ]
     },
     "execution_count": 37,
     "metadata": {},
     "output_type": "execute_result"
    }
   ],
   "source": [
    "accident['District Area'].value_counts().head(10)"
   ]
  },
  {
   "cell_type": "markdown",
   "id": "d456bcea-fbbb-49d9-ba25-6ee58b21e098",
   "metadata": {},
   "source": [
    "<h4>Insight No.5</h4>\n",
    "<p>This shows the accidents happened in each district area</p>"
   ]
  },
  {
   "cell_type": "markdown",
   "id": "1a4d6338-91c7-4122-aa04-d3594cfdcc9e",
   "metadata": {},
   "source": [
    "<h3>Question 6</h3>\n",
    "<h4>6. What is the total number of casualties?</p>"
   ]
  },
  {
   "cell_type": "code",
   "execution_count": 38,
   "id": "d10ab591-8aac-43c6-b709-79c70f525e2a",
   "metadata": {},
   "outputs": [
    {
     "data": {
      "text/plain": [
       "np.int64(896568)"
      ]
     },
     "execution_count": 38,
     "metadata": {},
     "output_type": "execute_result"
    }
   ],
   "source": [
    "accident['Number_of_Casualties'] = pd.to_numeric(accident['Number_of_Casualties'], errors='coerce')\n",
    "accident['Number_of_Casualties'].sum()"
   ]
  },
  {
   "cell_type": "markdown",
   "id": "943a5708-8194-43cb-aaca-dc42e762f01e",
   "metadata": {},
   "source": [
    "<h4>Insight No.6</h4>\n",
    "<p>Total lives affected in the dataset</p>"
   ]
  },
  {
   "cell_type": "markdown",
   "id": "abdcb7f3-0d06-4aad-b82a-ea7c6df675ae",
   "metadata": {},
   "source": [
    "<h3>Question 7</h3>\n",
    "<h4>7. What is the average number of casualties per accident?</p>"
   ]
  },
  {
   "cell_type": "code",
   "execution_count": 39,
   "id": "7e5fdf16-3042-442d-a830-bf37c49a4c26",
   "metadata": {},
   "outputs": [
    {
     "data": {
      "text/plain": [
       "np.float64(1.357040257068864)"
      ]
     },
     "execution_count": 39,
     "metadata": {},
     "output_type": "execute_result"
    }
   ],
   "source": [
    "accident['Number_of_Casualties'].mean()"
   ]
  },
  {
   "cell_type": "markdown",
   "id": "244c39f9-5b5a-497e-9f39-c44e71f4f00a",
   "metadata": {},
   "source": [
    "<h4>Insight No.7</h4>\n",
    "<p>Shows how severe accidents are on average</p>"
   ]
  },
  {
   "cell_type": "markdown",
   "id": "1094be5a-40a4-4a08-9743-b7bc1645e2af",
   "metadata": {},
   "source": [
    "<h3>Question 8</h3>\n",
    "<h4>8. How many accidents involved only 1 vehicle vs multiple vehicles?</p>"
   ]
  },
  {
   "cell_type": "code",
   "execution_count": 40,
   "id": "aba0b7ab-be74-4aa1-bdb2-a7fa0e7bedae",
   "metadata": {},
   "outputs": [
    {
     "data": {
      "text/plain": [
       "Number_of_Vehicles\n",
       "2     391995\n",
       "1     200787\n",
       "3      52806\n",
       "4      11300\n",
       "5       2464\n",
       "6        758\n",
       "7        296\n",
       "8        147\n",
       "9         57\n",
       "10        27\n",
       "11        12\n",
       "14         9\n",
       "12         7\n",
       "13         6\n",
       "16         4\n",
       "15         1\n",
       "19         1\n",
       "28         1\n",
       "32         1\n",
       "Name: count, dtype: int64"
      ]
     },
     "execution_count": 40,
     "metadata": {},
     "output_type": "execute_result"
    }
   ],
   "source": [
    "accident['Number_of_Vehicles'].value_counts()"
   ]
  },
  {
   "cell_type": "markdown",
   "id": "f0609970-f1f5-4ecf-ac0e-6a181c53add5",
   "metadata": {},
   "source": [
    "<h4>Insight No.8</h4>\n",
    "<p>Distinguishes between single-vehicle crashes (often driver error) vs multi-vehicle collisions</p>"
   ]
  },
  {
   "cell_type": "markdown",
   "id": "4b725c25-4e0d-43ba-b1f7-c67fc9ab2bd6",
   "metadata": {},
   "source": [
    "<h3>Question 9</h3>\n",
    "<h4>9. What is the distribution of accident severity?</p>"
   ]
  },
  {
   "cell_type": "code",
   "execution_count": 41,
   "id": "0d633f47-9131-4258-8b0d-8c197a680fab",
   "metadata": {},
   "outputs": [
    {
     "data": {
      "text/plain": [
       "Accident_Severity\n",
       "Slight     563801\n",
       "Serious     88217\n",
       "Fatal        8661\n",
       "Name: count, dtype: int64"
      ]
     },
     "execution_count": 41,
     "metadata": {},
     "output_type": "execute_result"
    }
   ],
   "source": [
    "accident['Accident_Severity'].value_counts()"
   ]
  },
  {
   "cell_type": "markdown",
   "id": "d294b11f-d3ad-4108-b990-e7e95fa5237b",
   "metadata": {},
   "source": [
    "<h4>Insight No.9</h4>\n",
    "<p>Most accidents are usually slight, fewer are serious or fatal</p>"
   ]
  },
  {
   "cell_type": "markdown",
   "id": "f0d15abe-fa4a-4e9d-9a40-6a40662d183b",
   "metadata": {},
   "source": [
    "<h3>Question 10</h3>\n",
    "<h4>10. Which road surface conditions are most common in accidents?</p>"
   ]
  },
  {
   "cell_type": "code",
   "execution_count": 42,
   "id": "6aeab8cd-d0cd-404a-a36a-5f5653e2f099",
   "metadata": {},
   "outputs": [
    {
     "data": {
      "text/plain": [
       "Road_Surface_Conditions\n",
       "Dry                     448547\n",
       "Wet or damp             186708\n",
       "Frost or ice             18517\n",
       "Snow                      5890\n",
       "Flood over 3cm. deep      1017\n",
       "Name: count, dtype: int64"
      ]
     },
     "execution_count": 42,
     "metadata": {},
     "output_type": "execute_result"
    }
   ],
   "source": [
    "accident['Road_Surface_Conditions'].value_counts()"
   ]
  },
  {
   "cell_type": "markdown",
   "id": "0eb205a1-2453-49ea-8bbb-3f5e06b838bf",
   "metadata": {},
   "source": [
    "<h4>Insight No.10</h4>\n",
    "<p>Shows whether dry, wet, or icy surfaces are linked to accidents. Dry is the most common accidents</p>"
   ]
  },
  {
   "cell_type": "markdown",
   "id": "d5020370-b147-4585-ab06-3d2757f3ddbb",
   "metadata": {},
   "source": [
    "<h3>Question 11</h3>\n",
    "<h4>11. Which year recorded the most accidents?</p>"
   ]
  },
  {
   "cell_type": "code",
   "execution_count": 43,
   "id": "de625075-e767-4d1e-8899-fa9c930e3810",
   "metadata": {},
   "outputs": [
    {
     "data": {
      "text/plain": [
       "np.int32(2019)"
      ]
     },
     "execution_count": 43,
     "metadata": {},
     "output_type": "execute_result"
    }
   ],
   "source": [
    "accident['Accident Date'].dt.year.value_counts().idxmax()"
   ]
  },
  {
   "cell_type": "markdown",
   "id": "fa9ef13f-d729-4700-a240-acaffb2cb33d",
   "metadata": {},
   "source": [
    "<h4>Insight No.11</h4>\n",
    "<p>In 2019 recorded the most accidents in this datasets.</p>"
   ]
  },
  {
   "cell_type": "markdown",
   "id": "33ae1c36-2734-454e-96c5-6cf2a1e5f0a4",
   "metadata": {},
   "source": [
    "<h3>Question 12</h3>\n",
    "<h4>12. Which day of the week has the highest number of accidents?</p>"
   ]
  },
  {
   "cell_type": "code",
   "execution_count": 44,
   "id": "fbbacd5f-17d0-47e0-b426-70224ac340b7",
   "metadata": {},
   "outputs": [
    {
     "data": {
      "text/plain": [
       "Accident Date\n",
       "Saturday    107178\n",
       "Name: count, dtype: int64"
      ]
     },
     "execution_count": 44,
     "metadata": {},
     "output_type": "execute_result"
    }
   ],
   "source": [
    "accident['Accident Date'].dt.day_name().value_counts().head(1)"
   ]
  },
  {
   "cell_type": "markdown",
   "id": "c9743235-a09d-4464-8242-1f4a26221909",
   "metadata": {},
   "source": [
    "<h4>Insight No.12</h4>\n",
    "<p>The day of the week that has the highest number of accidents is Tuesday</p>"
   ]
  },
  {
   "cell_type": "markdown",
   "id": "25171b2d-7d90-4da2-89df-b8252cb432b7",
   "metadata": {},
   "source": [
    "<h3>Question 13</h3>\n",
    "<h4>13. Which vehicle type is most often involved in fatal accidents?</p>"
   ]
  },
  {
   "cell_type": "code",
   "execution_count": 45,
   "id": "31ae606d-f5b5-4a5a-adf3-5c25164c008f",
   "metadata": {},
   "outputs": [
    {
     "data": {
      "text/plain": [
       "Vehicle_Type\n",
       "Car    6577\n",
       "Name: count, dtype: int64"
      ]
     },
     "execution_count": 45,
     "metadata": {},
     "output_type": "execute_result"
    }
   ],
   "source": [
    "accident[accident['Accident_Severity']=='Fatal']['Vehicle_Type'].value_counts().head(1)"
   ]
  },
  {
   "cell_type": "markdown",
   "id": "7d0b3e2d-095e-457b-bf21-db9a999ab498",
   "metadata": {},
   "source": [
    "<h4>Insight No.13</h4>\n",
    "<p>The vehicle type that most often involved in fatal accidents is Car</p>"
   ]
  },
  {
   "cell_type": "markdown",
   "id": "fff74e01-c413-4a00-b71d-56f04ded781a",
   "metadata": {},
   "source": [
    "<h3>Question 14</h3>\n",
    "<h4>14. Which district area has the highest average casualties per accident?</p>"
   ]
  },
  {
   "cell_type": "code",
   "execution_count": 46,
   "id": "ec0e091c-9717-4548-9b82-ff5a02edddad",
   "metadata": {},
   "outputs": [
    {
     "data": {
      "text/plain": [
       "District Area\n",
       "Blaeu Gwent    1.693694\n",
       "Name: Number_of_Casualties, dtype: float64"
      ]
     },
     "execution_count": 46,
     "metadata": {},
     "output_type": "execute_result"
    }
   ],
   "source": [
    "accident.groupby('District Area')['Number_of_Casualties'].mean().sort_values(ascending=False).head(1)"
   ]
  },
  {
   "cell_type": "markdown",
   "id": "f1effbdd-b450-40d6-99c0-ecc745d88806",
   "metadata": {},
   "source": [
    "<h4>Insight No.14</h4>\n",
    "<p>The district area that has the highest average casualties per accident is Blaeu Gwent</p>"
   ]
  },
  {
   "cell_type": "markdown",
   "id": "baba6014-4959-4b3c-b7b5-a015e2ce2ec8",
   "metadata": {},
   "source": [
    "<h3>Question 15</h3>\n",
    "<h4>15. Which road surface condition has the highest percentage of fatal accidents?</p>"
   ]
  },
  {
   "cell_type": "code",
   "execution_count": 47,
   "id": "a92ec674-9210-4cac-9263-d47c35d849cc",
   "metadata": {},
   "outputs": [
    {
     "data": {
      "text/plain": [
       "Road_Surface_Conditions\n",
       "Flood over 3cm. deep    2.261554\n",
       "dtype: float64"
      ]
     },
     "execution_count": 47,
     "metadata": {},
     "output_type": "execute_result"
    }
   ],
   "source": [
    "fatal_ratio = (\n",
    "    accident[accident['Accident_Severity']=='Fatal']\n",
    "    .groupby('Road_Surface_Conditions').size() \n",
    "    / accident.groupby('Road_Surface_Conditions').size()\n",
    ") * 100\n",
    "fatal_ratio.sort_values(ascending=False).head(1)"
   ]
  },
  {
   "cell_type": "markdown",
   "id": "a7c54075-8692-42d5-874d-084fad9f5da4",
   "metadata": {},
   "source": [
    "<h4>Insight No.15</h4>\n",
    "<p>The road surface condition that has the highest percentage of fatal accidents is Flood over 3cm. deep 2.2</p>"
   ]
  },
  {
   "cell_type": "markdown",
   "id": "43636b83-525b-47af-b360-66e75f62aea8",
   "metadata": {},
   "source": [
    "<h3>Question 16</h3>\n",
    "<h4>16. Accidents per year</p>"
   ]
  },
  {
   "cell_type": "code",
   "execution_count": 48,
   "id": "3afb70f5-6fb1-464d-be6b-8dc84402abf7",
   "metadata": {},
   "outputs": [
    {
     "data": {
      "text/plain": [
       "Accident Date\n",
       "2019    182115\n",
       "2020    170591\n",
       "2021    163554\n",
       "2022    144419\n",
       "dtype: int64"
      ]
     },
     "execution_count": 48,
     "metadata": {},
     "output_type": "execute_result"
    }
   ],
   "source": [
    "accident.groupby(accident['Accident Date'].dt.year).size()"
   ]
  },
  {
   "cell_type": "markdown",
   "id": "f77b8f60-cefd-47c9-a07e-0ba7cc385613",
   "metadata": {},
   "source": [
    "<h4>Insight No.16</h4>\n",
    "<p>This show the accidents per year</p>"
   ]
  },
  {
   "cell_type": "markdown",
   "id": "3e30027a-c084-4bd0-9b37-cf5fab8e4a11",
   "metadata": {},
   "source": [
    "<h3>Question 17</h3>\n",
    "<h4>17. Fatal accidents per year</p>"
   ]
  },
  {
   "cell_type": "code",
   "execution_count": 49,
   "id": "72d05cbb-c714-4939-97a7-a9bd30f3732a",
   "metadata": {},
   "outputs": [
    {
     "data": {
      "text/plain": [
       "Accident Date\n",
       "2019    2714\n",
       "2020    2341\n",
       "2021    2057\n",
       "2022    1549\n",
       "dtype: int64"
      ]
     },
     "execution_count": 49,
     "metadata": {},
     "output_type": "execute_result"
    }
   ],
   "source": [
    "accident[accident['Accident_Severity']=='Fatal'].groupby(accident['Accident Date'].dt.year).size()"
   ]
  },
  {
   "cell_type": "markdown",
   "id": "a548237c-dd9b-4473-a598-1e1a80d68163",
   "metadata": {},
   "source": [
    "<h4>Insight No.17</h4>\n",
    "<p>This shows the Fatal accidents per year in 2019-2022</p>"
   ]
  },
  {
   "cell_type": "markdown",
   "id": "6b520cb9-36c2-4d2d-b70c-1f6fa2d50544",
   "metadata": {},
   "source": [
    "<h3>Question 18</h3>\n",
    "<h4>18. Average casualties per accident by road type</p>"
   ]
  },
  {
   "cell_type": "code",
   "execution_count": 50,
   "id": "02cd4635-b9ed-485f-9fc6-fa8fb7f912fb",
   "metadata": {},
   "outputs": [
    {
     "data": {
      "text/plain": [
       "Road_Type\n",
       "Dual carriageway      1.477279\n",
       "One way street        1.192713\n",
       "Roundabout            1.274891\n",
       "Single carriageway    1.343788\n",
       "Slip road             1.423661\n",
       "Name: Number_of_Casualties, dtype: float64"
      ]
     },
     "execution_count": 50,
     "metadata": {},
     "output_type": "execute_result"
    }
   ],
   "source": [
    "accident.groupby('Road_Type')['Number_of_Casualties'].mean()"
   ]
  },
  {
   "cell_type": "markdown",
   "id": "72834c78-81c5-4645-bc0a-ab381f777e50",
   "metadata": {},
   "source": [
    "<h4>Insight No.18</h4>\n",
    "<p>This is the average casualties per accident by road type</p>"
   ]
  },
  {
   "cell_type": "markdown",
   "id": "c4e94294-eadb-4454-a349-4d244dc01ee0",
   "metadata": {},
   "source": [
    "<h3>Question 19</h3>\n",
    "<h4>19. Severity distribution by district area</p>"
   ]
  },
  {
   "cell_type": "code",
   "execution_count": 51,
   "id": "f4535d1f-38c2-46cc-a473-8aba218a0fc2",
   "metadata": {},
   "outputs": [
    {
     "data": {
      "text/html": [
       "<div>\n",
       "<style scoped>\n",
       "    .dataframe tbody tr th:only-of-type {\n",
       "        vertical-align: middle;\n",
       "    }\n",
       "\n",
       "    .dataframe tbody tr th {\n",
       "        vertical-align: top;\n",
       "    }\n",
       "\n",
       "    .dataframe thead th {\n",
       "        text-align: right;\n",
       "    }\n",
       "</style>\n",
       "<table border=\"1\" class=\"dataframe\">\n",
       "  <thead>\n",
       "    <tr style=\"text-align: right;\">\n",
       "      <th>Accident_Severity</th>\n",
       "      <th>Fatal</th>\n",
       "      <th>Serious</th>\n",
       "      <th>Slight</th>\n",
       "    </tr>\n",
       "    <tr>\n",
       "      <th>District Area</th>\n",
       "      <th></th>\n",
       "      <th></th>\n",
       "      <th></th>\n",
       "    </tr>\n",
       "  </thead>\n",
       "  <tbody>\n",
       "    <tr>\n",
       "      <th>Aberdeen City</th>\n",
       "      <td>12</td>\n",
       "      <td>239</td>\n",
       "      <td>1072</td>\n",
       "    </tr>\n",
       "    <tr>\n",
       "      <th>Aberdeenshire</th>\n",
       "      <td>66</td>\n",
       "      <td>463</td>\n",
       "      <td>1401</td>\n",
       "    </tr>\n",
       "    <tr>\n",
       "      <th>Adur</th>\n",
       "      <td>8</td>\n",
       "      <td>101</td>\n",
       "      <td>510</td>\n",
       "    </tr>\n",
       "    <tr>\n",
       "      <th>Allerdale</th>\n",
       "      <td>24</td>\n",
       "      <td>143</td>\n",
       "      <td>961</td>\n",
       "    </tr>\n",
       "    <tr>\n",
       "      <th>Alnwick</th>\n",
       "      <td>6</td>\n",
       "      <td>33</td>\n",
       "      <td>193</td>\n",
       "    </tr>\n",
       "    <tr>\n",
       "      <th>Amber Valley</th>\n",
       "      <td>19</td>\n",
       "      <td>173</td>\n",
       "      <td>1155</td>\n",
       "    </tr>\n",
       "    <tr>\n",
       "      <th>Angus</th>\n",
       "      <td>32</td>\n",
       "      <td>163</td>\n",
       "      <td>601</td>\n",
       "    </tr>\n",
       "    <tr>\n",
       "      <th>Argyll and Bute</th>\n",
       "      <td>27</td>\n",
       "      <td>184</td>\n",
       "      <td>625</td>\n",
       "    </tr>\n",
       "    <tr>\n",
       "      <th>Arun</th>\n",
       "      <td>15</td>\n",
       "      <td>253</td>\n",
       "      <td>1108</td>\n",
       "    </tr>\n",
       "    <tr>\n",
       "      <th>Ashfield</th>\n",
       "      <td>11</td>\n",
       "      <td>201</td>\n",
       "      <td>1183</td>\n",
       "    </tr>\n",
       "  </tbody>\n",
       "</table>\n",
       "</div>"
      ],
      "text/plain": [
       "Accident_Severity  Fatal  Serious  Slight\n",
       "District Area                            \n",
       "Aberdeen City         12      239    1072\n",
       "Aberdeenshire         66      463    1401\n",
       "Adur                   8      101     510\n",
       "Allerdale             24      143     961\n",
       "Alnwick                6       33     193\n",
       "Amber Valley          19      173    1155\n",
       "Angus                 32      163     601\n",
       "Argyll and Bute       27      184     625\n",
       "Arun                  15      253    1108\n",
       "Ashfield              11      201    1183"
      ]
     },
     "execution_count": 51,
     "metadata": {},
     "output_type": "execute_result"
    }
   ],
   "source": [
    "accident.groupby('District Area')['Accident_Severity'].value_counts().unstack().fillna(0).head(10)"
   ]
  },
  {
   "cell_type": "markdown",
   "id": "fda450ce-562b-4d75-9b18-628827369712",
   "metadata": {},
   "source": [
    "<h4>Insight No.19</h4>\n",
    "<p>This is the Severity distribution by district area</p>"
   ]
  },
  {
   "cell_type": "markdown",
   "id": "464fef9c-4fb5-45f7-9bd9-4c2984ae3f4e",
   "metadata": {},
   "source": [
    "<h3>Question 20</h3>\n",
    "<h4>20. Weather conditions vs severity</p>"
   ]
  },
  {
   "cell_type": "code",
   "execution_count": 52,
   "id": "26f4b68b-6f38-415b-bd40-446f43436ee6",
   "metadata": {},
   "outputs": [
    {
     "data": {
      "text/html": [
       "<div>\n",
       "<style scoped>\n",
       "    .dataframe tbody tr th:only-of-type {\n",
       "        vertical-align: middle;\n",
       "    }\n",
       "\n",
       "    .dataframe tbody tr th {\n",
       "        vertical-align: top;\n",
       "    }\n",
       "\n",
       "    .dataframe thead th {\n",
       "        text-align: right;\n",
       "    }\n",
       "</style>\n",
       "<table border=\"1\" class=\"dataframe\">\n",
       "  <thead>\n",
       "    <tr style=\"text-align: right;\">\n",
       "      <th>Accident_Severity</th>\n",
       "      <th>Fatal</th>\n",
       "      <th>Serious</th>\n",
       "      <th>Slight</th>\n",
       "    </tr>\n",
       "    <tr>\n",
       "      <th>Weather_Conditions</th>\n",
       "      <th></th>\n",
       "      <th></th>\n",
       "      <th></th>\n",
       "    </tr>\n",
       "  </thead>\n",
       "  <tbody>\n",
       "    <tr>\n",
       "      <th>Fine + high winds</th>\n",
       "      <td>175</td>\n",
       "      <td>1245</td>\n",
       "      <td>7134</td>\n",
       "    </tr>\n",
       "    <tr>\n",
       "      <th>Fine no high winds</th>\n",
       "      <td>7207</td>\n",
       "      <td>73285</td>\n",
       "      <td>454521</td>\n",
       "    </tr>\n",
       "    <tr>\n",
       "      <th>Fog or mist</th>\n",
       "      <td>82</td>\n",
       "      <td>483</td>\n",
       "      <td>2963</td>\n",
       "    </tr>\n",
       "    <tr>\n",
       "      <th>Other</th>\n",
       "      <td>165</td>\n",
       "      <td>1801</td>\n",
       "      <td>15184</td>\n",
       "    </tr>\n",
       "    <tr>\n",
       "      <th>Raining + high winds</th>\n",
       "      <td>145</td>\n",
       "      <td>1261</td>\n",
       "      <td>8209</td>\n",
       "    </tr>\n",
       "    <tr>\n",
       "      <th>Raining no high winds</th>\n",
       "      <td>848</td>\n",
       "      <td>9468</td>\n",
       "      <td>69380</td>\n",
       "    </tr>\n",
       "    <tr>\n",
       "      <th>Snowing + high winds</th>\n",
       "      <td>3</td>\n",
       "      <td>109</td>\n",
       "      <td>773</td>\n",
       "    </tr>\n",
       "    <tr>\n",
       "      <th>Snowing no high winds</th>\n",
       "      <td>36</td>\n",
       "      <td>565</td>\n",
       "      <td>5637</td>\n",
       "    </tr>\n",
       "  </tbody>\n",
       "</table>\n",
       "</div>"
      ],
      "text/plain": [
       "Accident_Severity      Fatal  Serious  Slight\n",
       "Weather_Conditions                           \n",
       "Fine + high winds        175     1245    7134\n",
       "Fine no high winds      7207    73285  454521\n",
       "Fog or mist               82      483    2963\n",
       "Other                    165     1801   15184\n",
       "Raining + high winds     145     1261    8209\n",
       "Raining no high winds    848     9468   69380\n",
       "Snowing + high winds       3      109     773\n",
       "Snowing no high winds     36      565    5637"
      ]
     },
     "execution_count": 52,
     "metadata": {},
     "output_type": "execute_result"
    }
   ],
   "source": [
    "accident.groupby('Weather_Conditions')['Accident_Severity'].value_counts().unstack().fillna(0).head(10)"
   ]
  },
  {
   "cell_type": "markdown",
   "id": "f18be17e-d38a-44d9-80f7-a8cd91b8f0ce",
   "metadata": {},
   "source": [
    "<h4>Insight No.20</h4>\n",
    "<p>Compares how different weather affects severity levels</p>"
   ]
  },
  {
   "cell_type": "markdown",
   "id": "eb00ce72-f826-41b7-86d7-8c2bf0b394c9",
   "metadata": {},
   "source": [
    "<h3>Question 21</h3>\n",
    "<h4>21. How many accidents occurred each year?</p>"
   ]
  },
  {
   "cell_type": "code",
   "execution_count": 53,
   "id": "939e7b33-0bda-4d16-849e-36b3f99fb888",
   "metadata": {},
   "outputs": [
    {
     "data": {
      "image/png": "[encoded data removed]",
      "text/plain": [
       "<Figure size 1000x600 with 1 Axes>"
      ]
     },
     "metadata": {},
     "output_type": "display_data"
    }
   ],
   "source": [
    "# Extract year from Date column\n",
    "accident['Year'] = accident['Accident Date'].dt.year\n",
    "\n",
    "# Group by Year and count accidents\n",
    "accidents_per_year = accident.groupby('Year').size()\n",
    "\n",
    "# Plot the result\n",
    "plt.figure(figsize=(10, 6))\n",
    "accidents_per_year.plot(kind='bar', color='skyblue')\n",
    "plt.title('Number of Road Accidents in the UK by Year')\n",
    "plt.xlabel('Year')\n",
    "plt.ylabel('Number of Accidents')\n",
    "plt.xticks(rotation=45)\n",
    "plt.show()"
   ]
  },
  {
   "cell_type": "markdown",
   "id": "fd159074-d15c-498a-a3bd-7a0607a19247",
   "metadata": {},
   "source": [
    "<h4>Insight No.21</h4>\n",
    "<p>This graph shows the trend of road accidents in the UK over the years. From the visualization, we can observe whether accidents have been increasing, decreasing, or stable over time.</p>"
   ]
  },
  {
   "cell_type": "markdown",
   "id": "ba7b86d1-55f6-45c5-b496-22d56c3c62e0",
   "metadata": {},
   "source": [
    "<h3>Question 22</h3>\n",
    "<h4>22. What is the distribution of accidents across different weather conditions?</p>"
   ]
  },
  {
   "cell_type": "code",
   "execution_count": 54,
   "id": "cbdca513-8731-42e2-a2c9-40655ab04b2b",
   "metadata": {},
   "outputs": [
    {
     "data": {
      "image/png": "[encoded data removed]",
      "text/plain": [
       "<Figure size 1000x600 with 1 Axes>"
      ]
     },
     "metadata": {},
     "output_type": "display_data"
    }
   ],
   "source": [
    "weather_accidents = accident['Weather_Conditions'].value_counts()\n",
    "\n",
    "plt.figure(figsize=(10, 6))\n",
    "weather_accidents.plot(kind='bar', color='orange')\n",
    "plt.title('Accidents by Weather Condition')\n",
    "plt.xlabel('Weather Condition')\n",
    "plt.ylabel('Number of Accidents')\n",
    "plt.xticks(rotation=45)\n",
    "plt.show()"
   ]
  },
  {
   "cell_type": "markdown",
   "id": "d81e6dcd-3d3b-4a26-87e5-0e9272024a58",
   "metadata": {},
   "source": [
    "<h4>Insight No.22</h4>\n",
    "<p>This graph shows the distribution of accidents across different weather conditions</p>"
   ]
  },
  {
   "cell_type": "markdown",
   "id": "cd4a1db5-e55b-418f-9060-3198b0164cf9",
   "metadata": {},
   "source": [
    "<h3>Question 23</h3>\n",
    "<h4>23. How do accidents vary by time of day?</p>"
   ]
  },
  {
   "cell_type": "code",
   "execution_count": 55,
   "id": "baa4a350-4173-4ef0-a570-325c7520e4d3",
   "metadata": {},
   "outputs": [
    {
     "data": {
      "image/png": "[encoded data removed]",
      "text/plain": [
       "<Figure size 1000x600 with 1 Axes>"
      ]
     },
     "metadata": {},
     "output_type": "display_data"
    }
   ],
   "source": [
    "accident['Hour'] = accident['Accident Date'].dt.hour\n",
    "\n",
    "accidents_by_hour = accident.groupby('Hour').size()\n",
    "\n",
    "plt.figure(figsize=(10, 6))\n",
    "accidents_by_hour.plot(kind='line', marker='o', color='green')\n",
    "plt.title('Number of Road Accidents by Hour of the Day')\n",
    "plt.xlabel('Hour of the Day')\n",
    "plt.ylabel('Number of Accidents')\n",
    "plt.xticks(range(0, 24, 1))\n",
    "plt.grid(True)\n",
    "plt.show()"
   ]
  },
  {
   "cell_type": "markdown",
   "id": "1320c6cc-d65f-4691-9e14-ba1e8c82d96a",
   "metadata": {},
   "source": [
    "<h4>Insight No.23</h4>\n",
    "<p>This line chart shows how the number of accidents fluctuates throughout the day.</p>"
   ]
  },
  {
   "cell_type": "markdown",
   "id": "b82e5bc9-1a58-4425-a1a1-8037787da7e9",
   "metadata": {},
   "source": [
    "<h3>Question 24</h3>\n",
    "<h4>24. What is the distribution of accidents by road type?</p>"
   ]
  },
  {
   "cell_type": "code",
   "execution_count": 56,
   "id": "18a56a99-6737-4c24-a85e-162839269e81",
   "metadata": {},
   "outputs": [
    {
     "data": {
      "image/png": "[encoded data removed]",
      "text/plain": [
       "<Figure size 1000x600 with 1 Axes>"
      ]
     },
     "metadata": {},
     "output_type": "display_data"
    }
   ],
   "source": [
    "road_type_accidents = accident['Road_Type'].value_counts()\n",
    "\n",
    "plt.figure(figsize=(10, 6))\n",
    "road_type_accidents.plot(kind='bar', color='teal')\n",
    "plt.title('Accidents by Road Type')\n",
    "plt.xlabel('Road Type')\n",
    "plt.ylabel('Number of Accidents')\n",
    "plt.xticks(rotation=45)\n",
    "plt.show()"
   ]
  },
  {
   "cell_type": "markdown",
   "id": "b485311c-e850-436b-be70-932c01e90066",
   "metadata": {},
   "source": [
    "<h4>Insight No.24</h4>\n",
    "<p>This bar chart shows the distribution of accidents across different types of roads.</p>"
   ]
  },
  {
   "cell_type": "markdown",
   "id": "f90a58d0-c78f-46c4-b764-f214af32a00f",
   "metadata": {},
   "source": [
    "<h3>Question 25</h3>\n",
    "<h4>25. How do accidents vary by day of the week?</p>"
   ]
  },
  {
   "cell_type": "code",
   "execution_count": 57,
   "id": "bac8e094-dc72-494a-8121-ad520eb589c4",
   "metadata": {},
   "outputs": [
    {
     "data": {
      "image/png": "[encoded data removed]",
      "text/plain": [
       "<Figure size 1000x600 with 1 Axes>"
      ]
     },
     "metadata": {},
     "output_type": "display_data"
    }
   ],
   "source": [
    "accident['Day_of_Week'] = accident['Accident Date'].dt.day_name()\n",
    "\n",
    "accidents_by_day = accident['Day_of_Week'].value_counts()\n",
    "\n",
    "plt.figure(figsize=(10, 6))\n",
    "accidents_by_day.plot(kind='bar', color='pink')\n",
    "plt.title('Accidents by Day of the Week')\n",
    "plt.xlabel('Day of the Week')\n",
    "plt.ylabel('Number of Accidents')\n",
    "plt.xticks(rotation=45)\n",
    "plt.show()"
   ]
  },
  {
   "cell_type": "markdown",
   "id": "c4c41e5e-b53f-4cb9-90ae-2cee5fc71c1e",
   "metadata": {},
   "source": [
    "<h4>Insight No.25</h4>\n",
    "<p>This bar chart reveals how accident numbers vary across the days of the week.</p>"
   ]
  },
  {
   "cell_type": "markdown",
   "id": "29fe5044-caaa-44ea-8908-d527a65c5970",
   "metadata": {},
   "source": [
    "<h1>6 DATA VISUALIZATION OF DATAS IN DISTRICT AREAS</h1>\n",
    "<HR></HR>"
   ]
  },
  {
   "cell_type": "code",
   "execution_count": 58,
   "id": "d68afc67-1ce1-4cd1-985a-97de00a6fe60",
   "metadata": {},
   "outputs": [
    {
     "data": {
      "text/plain": [
       "['Kensington and Chelsea', 'Westminster', 'Richmond upon Thames', 'Hammersmith and Fulham', 'Hounslow', ..., 'County Durham', 'Shropshire', 'Central Bedfordshire', 'Cornwall', 'Wiltshire']\n",
       "Length: 422\n",
       "Categories (422, object): ['Aberdeen City', 'Aberdeenshire', 'Adur', 'Allerdale', ..., 'Wycombe', 'Wyre', 'Wyre Forest', 'York']"
      ]
     },
     "execution_count": 58,
     "metadata": {},
     "output_type": "execute_result"
    }
   ],
   "source": [
    "accident['District Area'].unique()"
   ]
  },
  {
   "cell_type": "code",
   "execution_count": 59,
   "id": "53c8ed37-0c5d-4f60-8175-b1feb78e7021",
   "metadata": {},
   "outputs": [],
   "source": [
    "warwick_df = accident[accident['District Area'] == 'Warwick']\n",
    "lincoln_df = accident[accident['District Area'] == 'Lincoln']\n",
    "cornwall_df = accident[accident['District Area'] == 'Cornwall']\n",
    "greenwich_df = accident[accident['District Area'] == 'Greenwich']\n",
    "fife_df = accident[accident['District Area'] == 'Fife']\n",
    "richmondshire_df = accident[accident['District Area'] == 'Richmondshire']"
   ]
  },
  {
   "cell_type": "markdown",
   "id": "f14dfcd5-5408-4380-93cc-72d2731f9f0f",
   "metadata": {},
   "source": [
    "<h1>Visualization 1: Monthly Accidents in 2020 by District</h1>"
   ]
  },
  {
   "cell_type": "code",
   "execution_count": 60,
   "id": "bc234b9b-78e3-438d-8205-582938f72f60",
   "metadata": {},
   "outputs": [
    {
     "data": {
      "image/png": "[encoded data removed]",
      "text/plain": [
       "<Figure size 1000x600 with 1 Axes>"
      ]
     },
     "metadata": {},
     "output_type": "display_data"
    }
   ],
   "source": [
    "greenwich_data = accident[(accident['Year'] == 2020) & (accident['District Area'] == 'Greenwich')]\n",
    "\n",
    "monthly_greenwich = greenwich_data.groupby('Month').size()\n",
    "\n",
    "monthly_greenwich.plot(kind='bar', figsize=(10, 6), color='blue', title='Monthly Road Accidents in Greenwich (2020)')\n",
    "plt.xlabel('Month')\n",
    "plt.ylabel('Number of Accidents')\n",
    "plt.xticks(range(0, 12), ['Jan', 'Feb', 'Mar', 'Apr', 'May', 'Jun', 'Jul', 'Aug', 'Sep', 'Oct', 'Nov', 'Dec'])\n",
    "plt.grid(axis='y', alpha=0.3)\n",
    "plt.show()"
   ]
  },
  {
   "cell_type": "markdown",
   "id": "5df3f740-3e97-413d-b0a9-5161add35a12",
   "metadata": {},
   "source": [
    "<h2>Insight Visualization 1:</h2>\n",
    "<p>The bar chart displays the number of road accidents in Greenwich for each month of 2020. The chart shows that April and July had the highest number of accidents, while September and December had the fewest. This could suggest that accidents are more frequent in months with higher traffic or adverse weather conditions, and fewer accidents occur during the winter months when road usage might be lower.</p>"
   ]
  },
  {
   "cell_type": "markdown",
   "id": "a93bcb80-4e51-4a64-8d85-60bc3fae3831",
   "metadata": {},
   "source": [
    "<h1>Visualization 2: Top 5 Districts with Most Accidents</h1>"
   ]
  },
  {
   "cell_type": "code",
   "execution_count": 61,
   "id": "114505f4-1b60-4b68-b0a5-652dd2d39a7f",
   "metadata": {},
   "outputs": [
    {
     "data": {
      "image/png": "[encoded data removed]",
      "text/plain": [
       "<Figure size 640x480 with 1 Axes>"
      ]
     },
     "metadata": {},
     "output_type": "display_data"
    }
   ],
   "source": []
  },
  {
   "cell_type": "markdown",
   "id": "be53c020-9147-415d-93b9-03fa52c6ff18",
   "metadata": {},
   "source": [
    "<h2>Insight Visualization 2:</h2>\n",
    "<p>The bar chart shows that Birmingham has the highest number of road accidents, followed by Leeds, Manchester, Bradford, and Sheffield. This suggests that these cities may have higher traffic volumes, larger populations, or more complex urban infrastructures that contribute to the increased number of accidents. Focusing on these high-accident districts could help local authorities implement targeted road safety initiatives to reduce accident rates and improve overall traffic management.</p>"
   ]
  },
  {
   "cell_type": "markdown",
   "id": "8203db3e-f416-4352-8600-17433ed24de0",
   "metadata": {},
   "source": [
    "<h1>Visualization 3: Monthly Accident Trend for All Districts (2020)</h1>"
   ]
  },
  {
   "cell_type": "code",
   "execution_count": 62,
   "id": "4c646c66-7427-4a43-82c1-f46b0a5efc27",
   "metadata": {},
   "outputs": [
    {
     "data": {
      "image/png": "[encoded data removed]",
      "text/plain": [
       "<Figure size 800x500 with 1 Axes>"
      ]
     },
     "metadata": {},
     "output_type": "display_data"
    }
   ],
   "source": [
    "accident_2020 = accident[accident['Year'] == 2020]\n",
    "\n",
    "monthly_total_2020 = accident_2020.groupby('Month').size()\n",
    "\n",
    "monthly_total_2020.plot(marker='o', figsize=(8,5), title='Monthly Accident Trend (All Districts, 2020)')\n",
    "plt.xlabel('Month')\n",
    "plt.ylabel('Number of Accidents')\n",
    "plt.xticks(range(1, 13), ['Jan','Feb','Mar','Apr','May','Jun','Jul','Aug','Sep','Oct','Nov','Dec'])\n",
    "plt.grid(alpha=0.3)\n",
    "plt.show()"
   ]
  },
  {
   "cell_type": "markdown",
   "id": "be347c92-1a9f-4fd0-a5df-e10ab3446ed9",
   "metadata": {},
   "source": [
    "<h2>Insight Visualization 3:</h2>\n",
    "<p>The line chart displays the monthly accident trend across all districts in 2020. The data reveals that October had the highest number of accidents, while April and August saw the lowest. The trend suggests that accidents were more frequent in the latter part of the year, especially in October, which could be linked to factors like weather conditions, seasonal traffic patterns, or increased road usage. The lower accident counts in April and August may be due to reduced traffic or better weather conditions during these months, leading to safer driving conditions.</p>"
   ]
  },
  {
   "cell_type": "markdown",
   "id": "cfd0c17c-1665-4b7e-becd-cd5049eca882",
   "metadata": {},
   "source": [
    "<h1>Visualization 4: Accidents by Day of the Week</h1>"
   ]
  },
  {
   "cell_type": "code",
   "execution_count": 63,
   "id": "73f4f936-3920-4952-9152-66d60a6db127",
   "metadata": {
    "scrolled": true
   },
   "outputs": [
    {
     "data": {
      "image/png": "[encoded data removed]",
      "text/plain": [
       "<Figure size 700x700 with 1 Axes>"
      ]
     },
     "metadata": {},
     "output_type": "display_data"
    }
   ],
   "source": [
    "day_counts = accident['Day_of_Week'].value_counts()\n",
    "\n",
    "day_counts.plot(kind='pie', autopct='%1.1f%%', figsize=(7, 7), startangle=90, title='Accidents by Day of the Week')\n",
    "plt.ylabel('')\n",
    "plt.show()"
   ]
  },
  {
   "cell_type": "markdown",
   "id": "ee876797-07b3-4e9e-a4c4-a7f6acd00b02",
   "metadata": {},
   "source": [
    "<h2>Insight Visualization 4:</h2>\n",
    "<p>The pie chart shows the distribution of road accidents across different days of the week. From the chart, we can observe that Saturday, Wednesday and Thursday have the highest accident rates, indicating that accidents are more likely to occur at the start and end of the workweek. This could be due to increased traffic as people commute to and from work, along with potential higher stress levels or rushed driving during these days. The chart suggests that weekends (Monday and Sunday) might see fewer accidents, possibly due to different driving patterns, such as more leisure driving or fewer commuters on the roads.</p>"
   ]
  },
  {
   "cell_type": "markdown",
   "id": "51a85eed-a442-4e01-af66-dc8ae68ec364",
   "metadata": {},
   "source": [
    "<h1>Visualization 5: Monthly Night-Time Accidents in Warwick (2019–2022)</h1>"
   ]
  },
  {
   "cell_type": "code",
   "execution_count": 64,
   "id": "4ae46a58-2b2f-45a8-9f89-26d94dba0237",
   "metadata": {},
   "outputs": [
    {
     "data": {
      "image/png": "[encoded data removed]",
      "text/plain": [
       "<Figure size 1000x500 with 1 Axes>"
      ]
     },
     "metadata": {},
     "output_type": "display_data"
    }
   ],
   "source": [
    "import matplotlib.pyplot as plt\n",
    "\n",
    "night_conditions = ['Darkness - lights lit', 'Darkness - lights unlit', 'Darkness - no lighting']\n",
    "warwick_night = accident[\n",
    "    (accident['District Area'] == 'Warwick') &\n",
    "    (accident['Light_Conditions'].isin(night_conditions))\n",
    "]\n",
    "\n",
    "monthly_warwick_night = warwick_night.groupby(['Year', 'Month']).size()\n",
    "\n",
    "monthly_warwick_night = monthly_warwick_night.unstack(level=0)\n",
    "\n",
    "monthly_warwick_night.plot(\n",
    "    marker='>', \n",
    "    figsize=(10, 5),\n",
    "    title='Monthly Night-Time Accidents in Warwick (2019–2022)'\n",
    ")\n",
    "plt.xticks(range(1, 13), ['Jan','Feb','Mar','Apr','May','Jun','Jul','Aug','Sep','Oct','Nov','Dec'])\n",
    "plt.grid(alpha=0.5)\n",
    "plt.show()"
   ]
  },
  {
   "cell_type": "markdown",
   "id": "a876d4c0-d46a-42d0-a90c-046c12a94cb4",
   "metadata": {},
   "source": [
    "<h2>Insight Visualization 5:</h2>\n",
    "<p>The line chart displays the monthly trend of night-time accidents in Warwick from 2019 to 2022. The data reveals fluctuations in accident frequency across different years, with some months consistently showing higher accident rates, particularly in the winter months (e.g., November, December). This could be due to factors like shorter daylight hours and poorer visibility during the evenings and nights.</p>"
   ]
  },
  {
   "cell_type": "markdown",
   "id": "66e9be28-5ee4-4442-ba83-4c2f014f88f5",
   "metadata": {},
   "source": [
    "<h1>Visualization 6: Accident Severity Distribution in Cornwall (2019–2022)</h1>"
   ]
  },
  {
   "cell_type": "code",
   "execution_count": 65,
   "id": "642ae93c-1ac3-4b1e-ac2d-014259867fb6",
   "metadata": {},
   "outputs": [
    {
     "data": {
      "image/png": "[encoded data removed]",
      "text/plain": [
       "<Figure size 600x600 with 1 Axes>"
      ]
     },
     "metadata": {},
     "output_type": "display_data"
    }
   ],
   "source": [
    "cornwall_df = accident[accident['District Area'] == 'Cornwall']\n",
    "\n",
    "severity_counts = cornwall_df['Accident_Severity'].value_counts()\n",
    "\n",
    "severity_counts.plot(\n",
    "    kind='pie',\n",
    "    autopct='%1.1f%%',\n",
    "    figsize=(6, 6),\n",
    "    startangle=90,\n",
    "    title='Accident Severity Distribution in Cornwall (2019–2022)',\n",
    "    legend=False\n",
    ")\n",
    "plt.ylabel('')\n",
    "plt.tight_layout()\n",
    "plt.show()"
   ]
  },
  {
   "cell_type": "markdown",
   "id": "a79f0c1e-4a4f-4bd6-acee-1de177aba952",
   "metadata": {},
   "source": [
    "<h2>Insight Visualization 6:</h2>\n",
    "<p>The pie chart shows the distribution of accident severity in Cornwall from 2019 to 2022. From the chart, we can observe the proportion of slight, serious, and fatal accidents in the area. The majority of accidents appear to be slight, with a smaller percentage classified as serious and an even smaller portion being fatal.</p>"
   ]
  },
  {
   "cell_type": "markdown",
   "id": "1a70ad46-e379-4f6b-b1d8-1267768c323a",
   "metadata": {},
   "source": [
    "<h1 style=\"text-align: center; font-family: Arial; color: white;\">\n",
    "        Heat Map of Road Accidents in Cornwall by Severity\n",
    "    </h1>\n",
    "<hr>"
   ]
  },
  {
   "cell_type": "code",
   "execution_count": 66,
   "id": "5604b979-6530-410c-b60b-357721f15b94",
   "metadata": {},
   "outputs": [
    {
     "data": {
      "text/html": [
       "<div style=\"width:100%;\"><div style=\"position:relative;width:100%;height:0;padding-bottom:60%;\"><span style=\"color:#565656\">Make this Notebook Trusted to load map: File -> Trust Notebook</span><iframe srcdoc=\"&lt;!DOCTYPE html&gt;\n",
       "&lt;html&gt;\n",
       "&lt;head&gt;\n",
       "    \n",
       "    &lt;meta http-equiv=&quot;content-type&quot; content=&quot;text/html; charset=UTF-8&quot; /&gt;\n",
       "    &lt;script src=&quot;https://cdn.jsdelivr.net/npm/leaflet@1.9.3/dist/leaflet.js&quot;&gt;&lt;/script&gt;\n",
       "    &lt;script src=&quot;https://code.jquery.com/jquery-3.7.1.min.js&quot;&gt;&lt;/script&gt;\n",
       "    &lt;script src=&quot;https://cdn.jsdelivr.net/npm/bootstrap@5.2.2/dist/js/bootstrap.bundle.min.js&quot;&gt;&lt;/script&gt;\n",
       "    &lt;script src=&quot;https://cdnjs.cloudflare.com/ajax/libs/Leaflet.awesome-markers/2.0.2/leaflet.awesome-markers.js&quot;&gt;&lt;/script&gt;\n",
       "    &lt;link rel=&quot;stylesheet&quot; href=&quot;https://cdn.jsdelivr.net/npm/leaflet@1.9.3/dist/leaflet.css&quot;/&gt;\n",
       "    &lt;link rel=&quot;stylesheet&quot; href=&quot;https://cdn.jsdelivr.net/npm/bootstrap@5.2.2/dist/css/bootstrap.min.css&quot;/&gt;\n",
       "    &lt;link rel=&quot;stylesheet&quot; href=&quot;https://netdna.bootstrapcdn.com/bootstrap/3.0.0/css/bootstrap-glyphicons.css&quot;/&gt;\n",
       "    &lt;link rel=&quot;stylesheet&quot; href=&quot;https://cdn.jsdelivr.net/npm/@fortawesome/fontawesome-free@6.2.0/css/all.min.css&quot;/&gt;\n",
       "    &lt;link rel=&quot;stylesheet&quot; href=&quot;https://cdnjs.cloudflare.com/ajax/libs/Leaflet.awesome-markers/2.0.2/leaflet.awesome-markers.css&quot;/&gt;\n",
       "    &lt;link rel=&quot;stylesheet&quot; href=&quot;https://cdn.jsdelivr.net/gh/python-visualization/folium/folium/templates/leaflet.awesome.rotate.min.css&quot;/&gt;\n",
       "    \n",
       "            &lt;meta name=&quot;viewport&quot; content=&quot;width=device-width,\n",
       "                initial-scale=1.0, maximum-scale=1.0, user-scalable=no&quot; /&gt;\n",
       "            &lt;style&gt;\n",
       "                #map_9655a0456ba2ca2f79c27cc7368d47be {\n",
       "                    position: relative;\n",
       "                    width: 100.0%;\n",
       "                    height: 100.0%;\n",
       "                    left: 0.0%;\n",
       "                    top: 0.0%;\n",
       "                }\n",
       "                .leaflet-container { font-size: 1rem; }\n",
       "            &lt;/style&gt;\n",
       "\n",
       "            &lt;style&gt;html, body {\n",
       "                width: 100%;\n",
       "                height: 100%;\n",
       "                margin: 0;\n",
       "                padding: 0;\n",
       "            }\n",
       "            &lt;/style&gt;\n",
       "\n",
       "            &lt;style&gt;#map {\n",
       "                position:absolute;\n",
       "                top:0;\n",
       "                bottom:0;\n",
       "                right:0;\n",
       "                left:0;\n",
       "                }\n",
       "            &lt;/style&gt;\n",
       "\n",
       "            &lt;script&gt;\n",
       "                L_NO_TOUCH = false;\n",
       "                L_DISABLE_3D = false;\n",
       "            &lt;/script&gt;\n",
       "\n",
       "        \n",
       "    &lt;script src=&quot;https://cdn.jsdelivr.net/gh/python-visualization/folium@main/folium/templates/leaflet_heat.min.js&quot;&gt;&lt;/script&gt;\n",
       "&lt;/head&gt;\n",
       "&lt;body&gt;\n",
       "    \n",
       "    \n",
       "            &lt;div class=&quot;folium-map&quot; id=&quot;map_9655a0456ba2ca2f79c27cc7368d47be&quot; &gt;&lt;/div&gt;\n",
       "        \n",
       "&lt;/body&gt;\n",
       "&lt;script&gt;\n",
       "    \n",
       "    \n",
       "            var map_9655a0456ba2ca2f79c27cc7368d47be = L.map(\n",
       "                &quot;map_9655a0456ba2ca2f79c27cc7368d47be&quot;,\n",
       "                {\n",
       "                    center: [50.34943569071373, -4.918246721412126],\n",
       "                    crs: L.CRS.EPSG3857,\n",
       "                    ...{\n",
       "  &quot;zoom&quot;: 10,\n",
       "  &quot;zoomControl&quot;: true,\n",
       "  &quot;preferCanvas&quot;: false,\n",
       "}\n",
       "\n",
       "                }\n",
       "            );\n",
       "\n",
       "            \n",
       "\n",
       "        \n",
       "    \n",
       "            var tile_layer_61bd6bc69dbe3b8436bf7dc46b17f2fb = L.tileLayer(\n",
       "                &quot;https://tile.openstreetmap.org/{z}/{x}/{y}.png&quot;,\n",
       "                {\n",
       "  &quot;minZoom&quot;: 0,\n",
       "  &quot;maxZoom&quot;: 19,\n",
       "  &quot;maxNativeZoom&quot;: 19,\n",
       "  &quot;noWrap&quot;: false,\n",
       "  &quot;attribution&quot;: &quot;\\u0026copy; \\u003ca href=\\&quot;https://www.openstreetmap.org/copyright\\&quot;\\u003eOpenStreetMap\\u003c/a\\u003e contributors&quot;,\n",
       "  &quot;subdomains&quot;: &quot;abc&quot;,\n",
       "  &quot;detectRetina&quot;: false,\n",
       "  &quot;tms&quot;: false,\n",
       "  &quot;opacity&quot;: 1,\n",
       "}\n",
       "\n",
       "            );\n",
       "        \n",
       "    \n",
       "            tile_layer_61bd6bc69dbe3b8436bf7dc46b17f2fb.addTo(map_9655a0456ba2ca2f79c27cc7368d47be);\n",
       "        \n",
       "    \n",
       "            var heat_map_8f7af31336d88e232f62d9ddd7c4fdd7 = L.heatLayer(\n",
       "                [[50.180885, -5.281875], [50.21139, -5.291119], [50.208114, -5.292436], [50.212727, -5.288407], [50.19452, -5.308597], [50.1948, -5.276524], [50.213584, -5.283559], [50.214053, -5.298733], [50.224067, -5.297742], [50.22287, -5.28602], [50.224337, -5.288225], [50.223387, -5.299518], [50.222048, -5.2833], [50.214151, -5.298459], [50.225173, -5.277765], [50.222236, -5.289342], [50.223262, -5.2817], [50.214284, -5.296926], [50.225181, -5.277485], [50.212719, -5.304529], [50.211379, -5.297847], [50.211645, -5.298006], [50.216114, -5.324252], [50.213996, -5.303916], [50.211379, -5.297847], [50.214, -5.303776], [50.216617, -5.31924], [50.211379, -5.297847], [50.216617, -5.31924], [50.213914, -5.30363], [50.213674, -5.299408], [50.21374, -5.306562], [50.211379, -5.297847], [50.218896, -5.308742], [50.215664, -5.308518], [50.217206, -5.320683], [50.225276, -5.299508], [50.217014, -5.32109], [50.216617, -5.31924], [50.212916, -5.300757], [50.233239, -5.259665], [50.225646, -5.26097], [50.228712, -5.270295], [50.226752, -5.272825], [50.227076, -5.270884], [50.200209, -5.240874], [50.233399, -5.260377], [50.230578, -5.255135], [50.211959, -5.254989], [50.230283, -5.278396], [50.230928, -5.274654], [50.216459, -5.264549], [50.235363, -5.260932], [50.226472, -5.241113], [50.202255, -5.23849], [50.230402, -5.283734], [50.230125, -5.283995], [50.240306, -5.283433], [50.234447, -5.290183], [50.234625, -5.293421], [50.234385, -5.289197], [50.274561, -5.239326], [50.226994, -5.222357], [50.22931, -5.229665], [50.229316, -5.219709], [50.246075, -5.212281], [50.232241, -5.224534], [50.227619, -5.222539], [50.227517, -5.222953], [50.234937, -5.214898], [50.2315, -5.228551], [50.234251, -5.220182], [50.254871, -5.196737], [50.244997, -5.186115], [50.239917, -5.184374], [50.234843, -5.211806], [50.207891, -5.217004], [50.217222, -5.204873], [50.220152, -5.212782], [50.21717, -5.200243], [50.215504, -5.201954], [50.259066, -5.246554], [50.247539, -5.211398], [50.247444, -5.247166], [50.236332, -5.252021], [50.237817, -5.243987], [50.234893, -5.229482], [50.236765, -5.220351], [50.245167, -5.219094], [50.240788, -5.231003], [50.244438, -5.232372], [50.233838, -5.225343], [50.250946, -5.24095], [50.235474, -5.23443], [50.24934, -5.221059], [50.086683, -5.304375], [50.08302, -5.319223], [50.08145, -5.314361], [50.084724, -5.309973], [50.097668, -5.319816], [50.113062, -5.394052], [50.142111, -5.360412], [50.106025, -5.332704], [50.113754, -5.41033], [50.136346, -5.323195], [50.127321, -5.383306], [50.116108, -5.304163], [50.184449, -5.247933], [50.164945, -5.182326], [50.184538, -5.247939], [50.180041, -5.247914], [50.164604, -5.188185], [50.149749, -5.2502], [50.121328, -5.240297], [50.125133, -5.261825], [50.131438, -5.226145], [50.142113, -5.253041], [50.18031, -5.247932], [50.173978, -5.249183], [50.098696, -5.213035], [50.075745, -5.219887], [50.073296, -5.239991], [50.048309, -5.235932], [50.047449, -5.224837], [50.056379, -5.240109], [50.055411, -5.239345], [49.995483, -5.187863], [50.021855, -5.216699], [50.062091, -5.069859], [50.021463, -5.129123], [50.035688, -5.138708], [50.042131, -5.163155], [50.049243, -5.089576], [50.043324, -5.078719], [50.065759, -5.157723], [50.108228, -5.261515], [50.110626, -5.253004], [50.107545, -5.263426], [50.110439, -5.253271], [50.100741, -5.274992], [50.112451, -5.268097], [50.107974, -5.267372], [50.105663, -5.291834], [50.091956, -5.264324], [50.103761, -5.266806], [50.105822, -5.267086], [50.096569, -5.269813], [50.100536, -5.269523], [50.099641, -5.272539], [50.10801, -5.259681], [50.105284, -5.267049], [50.09531, -5.288886], [50.098601, -5.277503], [50.082855, -5.264824], [50.103538, -5.268329], [50.178547, -5.128735], [50.184232, -5.124763], [50.190049, -5.129207], [50.186174, -5.122788], [50.187345, -5.122725], [50.184232, -5.124763], [50.184232, -5.124763], [50.187143, -5.126915], [50.178008, -5.1287], [50.185616, -5.123453], [50.192223, -5.132012], [50.18633, -5.308731], [50.160858, -5.356125], [50.173733, -5.311922], [50.190972, -5.30681], [50.147518, -5.34455], [50.162899, -5.36019], [50.14887, -5.366206], [50.143676, -5.368501], [50.143676, -5.368501], [50.198305, -5.212295], [50.165526, -5.167659], [50.165771, -5.171877], [50.165754, -5.169214], [50.185588, -5.177534], [50.166597, -5.151483], [50.164214, -5.136481], [50.146341, -5.128731], [50.155065, -5.112079], [50.150638, -5.122852], [50.136559, -5.193877], [50.116097, -5.099196], [50.107374, -5.122553], [50.216631, -5.478517], [50.207906, -5.478443], [50.21196, -5.481262], [50.207906, -5.478443], [50.215429, -5.476607], [50.21161, -5.480956], [50.214896, -5.479373], [50.211046, -5.481756], [50.211079, -5.480637], [50.210398, -5.485354], [50.211131, -5.481902], [50.204814, -5.500506], [50.193391, -5.497428], [50.205848, -5.49904], [50.195503, -5.498984], [50.19304, -5.497122], [50.189134, -5.462364], [50.174085, -5.454131], [50.193402, -5.464075], [50.189038, -5.495568], [50.173259, -5.511645], [50.189108, -5.499216], [50.176153, -5.502192], [50.160664, -5.637186], [50.124978, -5.681779], [50.08357, -5.676784], [50.06273, -5.687069], [50.051736, -5.64207], [50.059944, -5.669945], [50.051949, -5.643902], [50.073284, -5.614766], [50.087734, -5.601451], [50.088986, -5.65916], [50.12906, -5.609174], [50.09623, -5.594397], [50.128977, -5.611827], [50.099323, -5.587495], [50.09623, -5.594397], [50.106708, -5.575597], [50.150925, -5.620623], [50.102594, -5.548434], [50.10521, -5.551145], [50.10633, -5.549829], [50.107886, -5.548965], [50.104752, -5.551391], [50.10686, -5.550148], [50.123522, -5.451186], [50.123955, -5.475847], [50.12371, -5.45092], [50.124982, -5.465565], [50.124719, -5.468345], [50.132245, -5.502341], [50.166962, -5.451656], [50.129064, -5.512325], [50.15134, -5.471673], [50.141282, -5.486063], [50.156212, -5.513056], [50.129034, -5.513303], [50.144383, -5.481668], [50.129034, -5.513303], [50.129427, -5.512212], [50.159545, -5.509939], [50.128888, -5.509233], [50.172149, -5.443625], [50.181956, -5.479779], [50.153545, -5.470152], [50.128714, -5.503063], [50.133418, -5.508165], [50.138686, -5.464597], [50.129248, -5.512199], [50.128608, -5.503615], [50.168874, -5.447872], [50.161267, -5.461609], [50.148559, -5.474411], [50.119554, -5.535136], [50.127817, -5.541484], [50.1292, -5.525631], [50.127437, -5.518504], [50.129318, -5.518782], [50.118892, -5.536207], [50.11439, -5.536295], [50.113917, -5.554728], [50.111771, -5.542537], [50.118208, -5.540914], [50.118473, -5.541073], [50.125232, -5.549549], [50.125586, -5.549716], [50.125541, -5.434678], [50.120659, -5.438527], [50.120101, -5.436108], [49.917703, -6.304744], [49.914488, -6.316163], [49.917913, -6.303927], [50.183127, -5.419196], [50.18444, -5.423493], [50.184027, -5.425285], [50.183004, -5.420308], [50.187944, -5.411413], [50.189909, -5.399642], [50.191079, -5.408834], [50.189788, -5.416028], [50.188837, -5.417782], [50.194774, -5.396344], [50.194656, -5.415675], [50.225699, -5.384799], [50.19894, -5.35207], [50.204819, -5.360332], [50.202356, -5.398564], [50.206672, -5.361584], [50.203853, -5.368815], [50.206758, -5.349254], [50.227409, -5.38478], [50.222994, -5.385028], [50.206184, -5.353559], [50.1529, -5.419137], [50.1743, -5.431733], [50.170838, -5.445352], [50.169528, -5.41052], [50.149839, -5.43446], [50.131038, -5.422196], [50.192734, -5.392275], [50.197871, -5.398105], [50.19732, -5.398487], [50.172077, -5.388009], [50.568743, -4.734193], [50.54528, -4.725918], [50.518738, -4.671903], [50.531964, -4.632289], [50.553047, -4.574448], [50.525615, -4.634617], [50.511758, -4.654581], [50.507481, -4.664638], [50.512793, -4.672273], [50.549645, -4.577792], [50.550193, -4.577398], [50.511476, -4.65513], [50.526775, -4.766761], [50.503866, -4.696592], [50.505117, -4.704703], [50.507886, -4.717133], [50.449376, -4.668415], [50.520655, -4.643088], [50.515471, -4.64957], [50.498946, -4.68376], [50.492559, -4.691577], [50.519507, -4.646128], [50.458177, -4.680747], [50.506479, -4.669095], [50.469099, -4.729425], [50.474509, -4.732696], [50.471411, -4.726739], [50.467822, -4.737807], [50.472222, -4.726645], [50.471294, -4.72786], [50.456345, -4.693888], [50.45143, -4.707979], [50.450264, -4.696219], [50.436452, -4.76346], [50.447064, -4.767319], [50.498055, -4.775376], [50.438546, -4.728089], [50.444345, -4.775753], [50.437351, -4.75971], [50.457566, -4.753137], [50.458411, -4.751636], [50.441918, -4.764342], [50.439284, -4.750244], [50.429519, -4.756156], [50.433317, -4.732435], [50.439401, -4.827861], [50.472748, -4.704123], [50.459237, -4.704902], [50.462957, -4.71512], [50.463969, -4.717996], [50.469512, -4.707885], [50.463836, -4.716016], [50.479352, -4.702526], [50.461293, -4.713192], [50.473665, -4.699524], [50.469087, -4.710679], [50.465846, -4.699219], [50.470873, -4.718956], [50.471253, -4.721938], [50.459379, -4.694906], [50.463883, -4.71785], [50.459379, -4.694906], [50.475203, -4.702995], [50.465846, -4.699219], [50.470956, -4.719243], [50.67783, -4.61369], [50.675943, -4.613585], [50.688972, -4.693179], [50.638556, -4.675584], [50.667128, -4.680888], [50.689816, -4.691669], [50.663068, -4.750851], [50.662342, -4.724344], [50.663354, -4.742518], [50.63825, -4.704421], [50.625713, -4.729013], [50.594201, -4.737929], [50.612196, -4.745336], [50.637941, -4.706101], [50.638944, -4.701632], [50.608537, -4.744134], [50.609719, -4.689638], [50.623264, -4.679523], [50.615226, -4.684862], [50.637148, -4.674231], [50.612395, -4.68668], [50.568854, -4.710189], [50.571143, -4.720066], [50.661378, -4.576974], [50.657288, -4.599107], [50.651316, -4.636694], [50.660979, -4.627047], [50.651316, -4.636694], [50.661381, -4.576832], [50.641461, -4.650853], [50.458263, -4.593672], [50.455789, -4.56733], [50.455792, -4.56719], [50.454778, -4.58052], [50.454792, -4.559527], [50.456517, -4.587236], [50.456517, -4.587236], [50.499195, -4.426686], [50.48535, -4.469117], [50.496125, -4.427234], [50.513774, -4.426305], [50.442141, -4.578423], [50.456725, -4.606128], [50.441742, -4.576148], [50.441742, -4.576148], [50.458035, -4.59986], [50.449286, -4.552186], [50.457422, -4.521485], [50.455633, -4.52928], [50.448893, -4.553715], [50.460254, -4.515295], [50.423559, -4.434784], [50.457435, -4.508382], [50.454246, -4.531038], [50.456206, -4.54016], [50.455909, -4.529013], [50.42211, -4.435273], [50.457879, -4.504461], [50.424027, -4.489157], [50.464792, -4.445921], [50.459418, -4.457621], [50.454274, -4.449887], [50.470602, -4.460456], [50.462631, -4.450319], [50.455214, -4.465011], [50.459631, -4.460309], [50.463735, -4.461931], [50.461966, -4.451975], [50.437208, -4.409993], [50.432773, -4.437229], [50.432773, -4.437229], [50.449079, -4.45314], [50.427432, -4.425971], [50.467749, -4.429303], [50.432414, -4.43721], [50.424599, -4.415126], [50.423336, -4.410978], [50.492576, -4.390109], [50.473339, -4.3983], [50.477635, -4.390624], [50.445436, -4.47225], [50.451459, -4.485102], [50.45404, -4.465232], [50.45513, -4.464725], [50.450228, -4.466865], [50.4543, -4.461441], [50.449563, -4.468521], [50.449611, -4.474722], [50.454348, -4.463416], [50.449886, -4.461775], [50.451194, -4.455222], [50.4543, -4.461441], [50.449838, -4.468253], [50.451036, -4.483812], [50.45492, -4.461896], [50.552277, -4.386916], [50.449326, -4.658833], [50.418345, -4.644707], [50.360634, -4.587079], [50.342872, -4.609025], [50.386982, -4.563048], [50.407277, -4.568648], [50.396504, -4.4849], [50.404345, -4.467296], [50.401062, -4.469377], [50.356509, -4.516836], [50.353344, -4.500922], [50.367003, -4.526532], [50.350513, -4.507099], [50.356532, -4.461159], [50.350157, -4.485994], [50.368979, -4.446755], [50.356271, -4.460724], [50.35678, -4.457938], [50.354701, -4.454176], [50.353074, -4.454513], [50.363381, -4.456311], [50.357468, -4.455162], [50.356439, -4.461295], [50.355545, -4.452532], [50.358638, -4.450864], [50.355275, -4.452518], [50.402168, -4.425384], [50.410081, -4.425507], [50.387296, -4.456843], [50.38041, -4.433558], [50.369841, -4.435689], [50.370728, -4.436297], [50.380703, -4.432448], [50.720756, -4.451294], [50.662882, -4.503893], [50.661977, -4.470448], [50.686821, -4.369954], [50.666346, -4.368356], [50.669548, -4.378991], [50.647299, -4.349574], [50.649337, -4.390843], [50.661678, -4.38114], [50.652393, -4.346715], [50.636458, -4.507155], [50.63146, -4.467433], [50.630181, -4.359891], [50.646762, -4.371615], [50.626506, -4.363667], [50.626506, -4.363667], [50.644913, -4.356386], [50.64694, -4.362853], [50.639178, -4.364161], [50.629014, -4.3686], [50.644271, -4.365831], [50.639631, -4.364042], [50.625837, -4.338888], [50.646565, -4.372454], [50.638738, -4.363715], [50.62898, -4.374679], [50.64088, -4.364529], [50.616814, -4.353709], [50.579894, -4.539748], [50.595838, -4.476026], [50.595992, -4.494122], [50.594485, -4.522305], [50.595662, -4.475876], [50.589759, -4.528693], [50.608876, -4.446462], [50.591713, -4.454191], [50.595042, -4.466941], [50.612675, -4.462492], [50.615148, -4.439012], [50.622229, -4.422977], [50.612529, -4.443824], [50.619683, -4.385097], [50.612161, -4.379062], [50.615475, -4.339788], [50.626971, -4.313633], [50.621061, -4.339358], [50.606313, -4.316718], [50.55852, -4.437216], [50.550268, -4.436085], [50.568023, -4.43008], [50.597468, -4.336209], [50.581048, -4.369865], [50.597912, -4.336514], [50.572099, -4.331988], [50.529187, -4.327895], [50.552937, -4.332171], [50.537567, -4.340587], [50.538211, -4.335396], [50.532317, -4.333271], [50.545976, -4.320394], [50.564056, -4.33385], [50.531879, -4.332685], [50.522826, -4.281163], [50.52046, -4.341433], [50.515251, -4.367696], [50.509911, -4.28844], [50.507162, -4.300154], [50.496431, -4.319657], [50.498947, -4.31978], [50.500047, -4.30968], [50.510246, -4.303407], [50.502636, -4.310653], [50.509199, -4.315346], [50.505188, -4.299917], [50.504035, -4.317208], [50.520426, -4.316177], [50.50014, -4.309544], [50.508244, -4.313606], [50.504351, -4.301287], [50.505463, -4.299649], [50.518572, -4.314394], [50.527694, -4.238926], [50.516494, -4.241358], [50.516667, -4.269581], [50.516396, -4.246432], [50.526937, -4.236209], [50.515985, -4.22102], [50.5269, -4.214619], [50.510982, -4.261268], [50.413463, -4.330522], [50.409444, -4.360305], [50.388682, -4.323819], [50.413994, -4.326466], [50.40872, -4.347179], [50.41551, -4.322598], [50.406829, -4.35173], [50.408799, -4.356613], [50.415322, -4.323011], [50.406256, -4.353391], [50.407189, -4.351748], [50.407189, -4.351748], [50.415322, -4.323011], [50.413578, -4.329261], [50.407189, -4.351748], [50.423447, -4.289759], [50.425236, -4.281116], [50.422731, -4.289584], [50.422224, -4.292516], [50.416574, -4.314345], [50.422691, -4.318867], [50.424803, -4.28025], [50.407474, -4.208764], [50.412593, -4.213928], [50.408205, -4.203449], [50.408186, -4.204434], [50.412668, -4.219422], [50.408115, -4.203445], [50.408563, -4.208251], [50.40769, -4.211589], [50.409831, -4.212533], [50.409386, -4.217016], [50.412593, -4.213928], [50.409332, -4.210398], [50.439019, -4.256991], [50.432532, -4.257527], [50.435563, -4.254291], [50.448223, -4.255457], [50.40552, -4.221621], [50.410381, -4.221426], [50.401601, -4.219608], [50.429101, -4.258209], [50.423546, -4.243161], [50.420999, -4.263173], [50.424627, -4.275455], [50.422592, -4.264516], [50.413158, -4.231409], [50.417508, -4.234429], [50.416379, -4.255633], [50.420999, -4.263173], [50.418654, -4.235609], [50.405753, -4.228247], [50.492818, -4.279435], [50.478304, -4.308479], [50.466717, -4.271133], [50.459891, -4.261366], [50.451455, -4.255751], [50.364403, -4.38999], [50.390595, -4.340515], [50.365452, -4.38709], [50.363944, -4.314876], [50.359848, -4.280932], [50.380395, -4.209053], [50.353795, -4.259272], [50.358255, -4.265811], [50.357084, -4.265896], [50.371135, -4.19934], [50.376754, -4.201851], [50.378503, -4.204464], [50.376619, -4.199453], [50.376606, -4.200156], [50.359989, -4.236648], [50.361354, -4.240508], [50.382013, -4.218553], [50.369264, -4.236099], [50.375866, -4.215453], [50.875395, -4.484137], [50.872558, -4.486403], [50.868556, -4.492728], [50.868463, -4.492865], [50.868525, -4.523428], [50.858026, -4.522293], [50.828757, -4.544715], [50.826353, -4.54359], [50.830043, -4.543507], [50.829206, -4.544739], [50.826266, -4.543443], [50.829844, -4.544348], [50.81765, -4.530196], [50.819697, -4.468258], [50.819697, -4.468258], [50.799236, -4.51657], [50.752435, -4.551064], [50.79428, -4.537732], [50.778382, -4.540843], [50.785987, -4.534445], [50.776743, -4.541748], [50.747527, -4.55746], [50.772967, -4.562253], [50.740414, -4.561892], [50.742311, -4.490977], [50.730632, -4.44359], [50.727003, -4.449353], [50.843113, -4.508987], [50.815707, -4.52853], [50.815707, -4.52853], [50.812652, -4.524248], [50.837714, -4.513242], [50.826639, -4.522162], [50.822996, -4.503364], [50.830931, -4.519127], [50.81765, -4.530196], [50.830931, -4.519127], [50.821207, -4.498724], [50.513567, -4.984513], [50.509667, -5.017136], [50.5397, -4.972189], [50.537549, -4.943542], [50.533405, -4.950905], [50.529777, -4.95209], [50.539011, -4.992048], [50.541626, -4.938855], [50.524359, -4.95288], [50.541522, -4.939413], [50.541529, -4.939131], [50.538896, -4.940097], [50.547311, -4.898691], [50.545279, -4.915225], [50.550858, -4.907945], [50.566788, -4.918389], [50.566207, -4.898439], [50.534075, -4.84453], [50.576674, -4.879022], [50.534079, -4.844389], [50.56958, -4.871245], [50.566968, -4.871369], [50.553376, -4.864471], [50.533612, -4.841397], [50.553376, -4.864471], [50.576156, -4.878143], [50.571498, -4.862745], [50.575187, -4.829632], [50.573675, -4.843667], [50.594011, -4.828642], [50.500769, -4.943087], [50.500484, -4.889898], [50.496475, -4.895576], [50.500111, -4.890439], [50.509571, -4.918666], [50.498556, -4.829279], [50.513474, -4.870236], [50.517006, -4.858317], [50.516557, -4.854622], [50.52773, -4.890293], [50.504319, -4.832726], [50.511191, -4.838639], [50.51675, -4.839396], [50.516925, -4.83588], [50.519292, -4.819937], [50.52301, -4.822417], [50.522751, -4.821978], [50.508044, -4.801493], [50.528795, -4.806392], [50.507368, -4.784668], [50.509416, -4.811731], [50.533784, -4.793422], [50.545936, -4.778047], [50.533276, -4.799602], [50.510432, -4.814331], [50.511995, -4.816681], [50.476124, -5.009782], [50.729958, -4.441429], [50.393679, -5.025381], [50.424828, -4.824176], [50.414739, -4.80992], [50.414099, -4.86197], [50.392759, -4.826068], [50.421535, -4.833836], [50.419176, -4.838341], [50.424342, -4.825696], [50.3924, -4.848139], [50.417577, -4.874147], [50.393923, -4.848371], [50.405712, -4.833454], [50.387201, -4.887504], [50.387115, -4.8837], [50.382104, -4.875377], [50.38516, -4.882737], [50.356892, -4.872728], [50.341376, -4.881771], [50.276612, -4.848799], [50.343876, -4.900618], [50.357221, -4.866701], [50.326802, -4.845337], [50.367666, -4.781119], [50.391637, -4.794341], [50.370309, -4.805887], [50.396511, -4.793643], [50.353931, -4.772442], [50.364778, -4.762668], [50.365335, -4.806999], [50.367503, -4.780406], [50.369286, -4.78487], [50.374288, -4.778834], [50.37736, -4.797019], [50.342962, -4.824515], [50.343014, -4.826065], [50.310858, -4.801822], [50.316837, -4.800066], [50.305711, -4.776378], [50.290735, -4.870705], [50.309339, -4.867752], [50.30045, -4.910474], [50.309149, -4.868162], [50.308924, -4.862671], [50.271591, -4.785058], [50.27319, -4.789643], [50.322313, -4.837622], [50.316835, -4.851907], [50.290811, -4.786321], [50.33433, -4.802079], [50.33828, -4.806106], [50.340566, -4.797105], [50.33854, -4.806543], [50.339224, -4.80054], [50.33433, -4.802079], [50.335114, -4.803109], [50.353335, -4.797293], [50.338087, -4.799208], [50.335114, -4.803109], [50.351214, -4.780719], [50.347498, -4.781908], [50.344729, -4.784839], [50.35487, -4.782058], [50.342708, -4.779098], [50.338662, -4.790246], [50.342736, -4.785425], [50.339148, -4.788729], [50.344183, -4.785088], [50.341896, -4.775396], [50.341379, -4.793217], [50.339202, -4.786483], [50.337396, -4.786799], [50.338169, -4.7808], [50.340571, -4.7555], [50.333548, -4.79346], [50.336487, -4.772129], [50.33847, -4.771963], [50.339306, -4.785927], [50.338233, -4.778134], [50.336111, -4.776604], [50.333953, -4.784068], [50.351749, -4.765848], [50.342138, -4.757699], [50.340381, -4.75591], [50.350398, -4.76591], [50.344366, -4.739554], [50.342384, -4.751107], [50.343063, -4.749037], [50.332679, -4.758275], [50.340702, -4.734705], [50.342712, -4.721888], [50.347178, -4.753774], [50.349743, -4.748017], [50.401672, -4.952422], [50.40068, -4.948983], [50.398053, -4.931931], [50.378156, -4.939707], [50.377363, -4.942612], [50.394579, -4.923414], [50.394687, -4.922717], [50.376349, -4.957741], [50.392757, -4.931464], [50.365569, -4.967759], [50.402078, -4.954136], [50.366291, -4.974696], [50.439414, -4.932657], [50.461332, -4.923162], [50.458088, -4.923385], [50.434469, -4.975026], [50.458742, -5.031365], [50.450316, -5.019837], [50.418978, -4.893802], [50.43355, -4.975813], [50.432612, -4.977304], [50.409344, -4.901379], [50.404966, -4.903786], [50.320389, -4.96157], [50.334039, -4.951879], [50.338765, -4.925045], [50.282665, -4.952207], [50.282356, -4.953733], [50.296693, -4.927517], [50.281626, -4.971797], [50.296368, -4.996731], [50.282665, -4.952207], [50.286284, -4.944288], [50.196995, -4.974524], [50.228396, -4.931885], [50.316439, -5.082289], [50.305579, -5.077935], [50.30962, -5.078196], [50.308662, -5.07701], [50.311194, -5.093469], [50.341508, -5.042445], [50.338215, -5.051371], [50.328881, -5.026461], [50.41047, -5.084731], [50.41535, -5.087301], [50.412386, -5.080351], [50.4108, -5.092636], [50.411163, -5.08914], [50.414039, -5.07905], [50.414661, -5.089509], [50.411754, -5.087208], [50.415098, -5.076444], [50.414601, -5.088379], [50.414151, -5.078213], [50.413243, -5.081955], [50.41086, -5.087009], [50.412532, -5.085006], [50.4148, -5.091066], [50.407846, -5.075129], [50.398636, -5.069607], [50.404725, -5.074083], [50.404033, -5.073053], [50.409874, -5.07329], [50.412696, -5.078822], [50.405556, -5.07667], [50.403641, -5.064019], [50.412696, -5.078822], [50.411682, -5.083121], [50.4187, -5.069497], [50.415749, -5.075641], [50.41308, -5.071104], [50.416332, -5.07399], [50.414817, -5.076848], [50.418322, -5.056519], [50.418311, -5.056941], [50.418126, -5.063969], [50.41385, -5.065804], [50.417622, -5.069427], [50.417664, -5.07126], [50.407512, -5.05709], [50.415472, -5.075905], [50.412696, -5.078822], [50.414053, -5.058074], [50.444381, -5.040449], [50.426018, -5.054621], [50.428821, -5.054097], [50.416832, -5.044738], [50.417339, -5.03224], [50.432703, -5.050122], [50.416521, -5.042887], [50.404947, -5.027929], [50.401632, -5.017021], [50.41263, -5.002235], [50.399754, -5.064753], [50.401899, -5.05504], [50.402531, -5.044665], [50.427218, -5.005129], [50.400135, -5.063934], [50.419523, -5.031253], [50.149506, -5.057256], [50.148262, -5.073697], [50.149914, -5.082623], [50.145796, -5.075078], [50.149453, -5.055853], [50.154862, -5.07244], [50.1612, -5.081109], [50.161403, -5.087003], [50.154483, -5.079976], [50.15438, -5.073669], [50.155067, -5.081694], [50.160957, -5.086835], [50.154483, -5.079976], [50.153981, -5.078544], [50.154215, -5.073098], [50.151511, -5.076705], [50.140435, -5.077114], [50.145774, -5.075917], [50.146974, -5.088314], [50.164411, -5.12585], [50.172587, -5.126244], [50.168873, -5.100371], [50.168501, -5.127658], [50.169211, -5.127985], [50.164393, -5.119827], [50.172921, -5.093629], [50.166336, -5.101047], [50.170123, -5.100732], [50.155926, -5.100093], [50.154797, -5.081677], [50.161758, -5.087166], [50.15722, -5.092055], [50.216139, -5.149141], [50.248717, -5.184961], [50.206516, -5.155656], [50.207903, -5.183923], [50.211411, -5.100886], [50.20414, -5.147089], [50.205958, -5.116371], [50.203006, -5.145753], [50.206246, -5.115689], [50.274236, -5.215441], [50.269136, -5.211167], [50.285891, -5.242764], [50.284645, -5.239029], [50.262525, -5.206231], [50.275652, -5.170475], [50.275481, -5.212717], [50.269841, -5.234374], [50.287105, -5.231473], [50.276941, -5.179265], [50.284744, -5.15704], [50.342922, -5.154713], [50.293207, -5.150158], [50.344647, -5.154125], [50.28513, -5.156082], [50.347193, -5.139813], [50.325782, -5.133201], [50.282408, -5.160254], [50.284756, -5.156619], [50.283726, -5.158095], [50.342723, -5.16201], [50.346445, -5.157477], [50.314967, -5.137266], [50.347572, -5.139135], [50.312725, -5.156927], [50.34159, -5.160669], [50.344995, -5.154569], [50.311238, -5.178463], [50.309116, -5.203326], [50.291028, -5.219803], [50.308093, -5.204521], [50.333854, -5.066692], [50.340008, -5.116005], [50.343306, -5.039046], [50.328759, -5.072266], [50.34897, -5.130651], [50.348436, -5.096874], [50.342162, -5.041503], [50.345867, -5.118919], [50.319878, -5.0849], [50.298623, -5.146162], [50.346196, -5.028265], [50.348454, -5.024473], [50.364552, -5.003839], [50.35413, -5.003321], [50.349403, -5.022565], [50.397802, -5.070538], [50.387327, -5.082243], [50.391626, -5.079567], [50.372174, -5.090544], [50.374883, -5.100286], [50.379473, -5.113668], [50.373779, -5.094446], [50.387069, -5.112196], [50.374886, -5.100145], [50.362183, -5.097489], [50.37199, -5.090673], [50.365327, -5.056908], [50.368279, -5.05752], [50.279087, -5.163263], [50.24992, -5.187005], [50.256957, -5.159972], [50.257718, -5.155111], [50.246104, -5.115484], [50.252759, -5.138928], [50.244475, -5.125899], [50.230354, -5.119084], [50.27002, -5.139362], [50.278848, -5.162124], [50.279926, -5.162196], [50.296913, -5.122877], [50.279641, -5.162738], [50.29592, -5.129693], [50.279087, -5.163263], [50.279087, -5.163263], [50.263861, -5.124221], [50.27671, -5.16465], [50.275808, -5.151535], [50.295807, -5.130528], [50.302524, -5.108216], [50.279641, -5.162738], [50.295897, -5.130534], [50.27552, -5.165413], [50.277287, -5.156686], [50.264342, -5.116394], [50.296778, -5.124553], [50.296798, -5.117111], [50.287502, -5.07775], [50.263635, -5.105822], [50.277807, -5.164021], [50.263523, -5.106657], [50.280022, -4.992194], [50.278046, -4.995579], [50.294742, -5.035106], [50.27607, -4.998964], [50.255955, -5.014959], [50.275747, -5.021825], [50.290948, -5.042587], [50.231537, -5.071338], [50.232621, -5.067761], [50.237045, -5.07057], [50.249701, -5.061423], [50.230527, -5.089084], [50.214292, -5.097427], [50.216981, -5.091012], [50.218437, -5.059841], [50.218437, -5.059841], [50.218509, -5.101206], [50.223798, -5.0578], [50.220558, -5.085074], [50.224052, -5.082215], [50.225238, -5.08159], [50.222644, -5.104699], [50.224507, -5.061632], [50.21336, -5.098629], [50.26444, -5.092542], [50.264563, -5.091287], [50.26753, -5.040251], [50.267051, -5.041344], [50.266301, -5.052804], [50.27334, -5.038236], [50.259617, -5.050412], [50.263137, -5.049935], [50.254777, -5.056557], [50.265294, -5.053442], [50.263776, -5.046187], [50.254418, -5.056534], [50.260611, -5.067315], [50.265384, -5.053447], [50.261274, -5.069463], [50.263508, -5.049538], [50.263529, -5.055574], [50.262167, -5.056048], [50.263776, -5.046187], [50.263311, -5.053595], [50.26339, -5.054021], [50.260562, -5.048648], [50.263597, -5.05642], [50.259522, -5.047179], [50.263118, -5.067757], [50.263413, -5.066794], [50.263165, -5.052323], [50.261012, -5.069165], [50.262164, -5.049312], [50.260457, -5.066323], [50.263529, -5.055574], [50.262335, -5.039359], [50.266267, -5.036943], [50.263277, -5.044612], [50.262782, -5.042896], [50.260803, -5.029158], [50.266581, -5.062646], [50.26271, -5.083168], [50.261492, -5.074809], [50.263002, -5.085713], [50.271847, -5.064248], [50.270956, -5.06391], [50.263002, -5.085713], [50.26292, -5.085427], [50.266024, -5.063312], [50.265371, -5.094708], [50.264743, -5.094667], [50.265731, -5.094731], [50.271762, -5.094561], [50.26258, -5.101543], [50.430879, -4.793413], [50.433752, -4.774851], [50.393241, -4.745889], [50.431684, -4.763464], [50.388058, -4.698315], [50.416433, -4.645727], [50.348913, -4.73363], [50.344924, -4.708098], [50.349531, -4.707236], [50.350246, -4.715149], [50.345577, -4.741592], [50.342796, -4.722174], [50.351823, -4.724659], [50.349466, -4.721572], [50.349965, -4.719491], [50.353149, -4.721782], [50.350999, -4.694385], [50.36699, -4.703026], [50.350846, -4.693252], [50.350768, -4.704354], [50.353111, -4.700269], [50.37545, -4.66778], [50.33682, -4.642003], [50.337999, -4.680859], [50.348015, -4.683392], [50.335359, -4.635035], [50.342558, -4.662562], [50.67941, -3.398952], [50.193408, -5.271664], [50.19322, -5.275154], [50.195858, -5.277297], [50.214831, -5.277616], [50.209046, -5.294462], [50.215601, -5.275847], [50.202814, -5.304826], [50.194344, -5.308444], [50.200406, -5.304098], [50.194812, -5.276104], [50.222209, -5.290322], [50.22804, -5.3004], [50.223926, -5.280484], [50.216269, -5.293558], [50.219689, -5.293513], [50.222887, -5.282236], [50.224337, -5.288225], [50.225545, -5.293216], [50.215313, -5.292371], [50.230967, -5.27648], [50.216173, -5.290607], [50.221773, -5.286646], [50.218098, -5.289338], [50.217727, -5.289733], [50.213251, -5.295313], [50.21727, -5.289982], [50.216685, -5.288399], [50.218545, -5.302128], [50.209863, -5.300547], [50.211569, -5.300664], [50.218842, -5.313786], [50.209863, -5.300547], [50.215915, -5.31863], [50.211649, -5.341886], [50.214175, -5.29762], [50.215664, -5.308518], [50.211379, -5.297847], [50.231306, -5.377623], [50.211645, -5.298006], [50.212149, -5.296078], [50.217058, -5.300623], [50.212536, -5.295123], [50.217816, -5.318201], [50.215664, -5.308518], [50.230494, -5.296362], [50.234203, -5.263798], [50.224747, -5.264134], [50.230403, -5.248532], [50.195954, -5.24507], [50.224184, -5.268162], [50.229634, -5.269516], [50.22884, -5.256139], [50.209876, -5.245875], [50.202255, -5.23849], [50.202521, -5.238648], [50.188692, -5.253826], [50.236678, -5.262144], [50.216347, -5.274916], [50.227514, -5.268109], [50.228196, -5.253431], [50.22554, -5.261523], [50.23609, -5.254249], [50.227315, -5.268797], [50.221502, -5.267558], [50.230485, -5.245592], [50.226164, -5.264932], [50.227122, -5.256443], [50.215369, -5.239238], [50.22861, -5.28347], [50.23213, -5.263937], [50.228856, -5.255579], [50.224955, -5.294998], [50.244475, -5.256784], [50.23379, -5.275271], [50.233, -5.277741], [50.230402, -5.283734], [50.234625, -5.293421], [50.229492, -5.284092], [50.236739, -5.269582], [50.243189, -5.280124], [50.238588, -5.283735], [50.260832, -5.286108], [50.25335, -5.299344], [50.260065, -5.249428], [50.260065, -5.249428], [50.258679, -5.269962], [50.233779, -5.224217], [50.229407, -5.226166], [50.234501, -5.217674], [50.23107, -5.227821], [50.235863, -5.217205], [50.24956, -5.206623], [50.220295, -5.227093], [50.234688, -5.217406], [50.246821, -5.211349], [50.220295, -5.227093], [50.225631, -5.222826], [50.21716, -5.226601], [50.232424, -5.217955], [50.231308, -5.225733], [50.251479, -5.199035], [50.239161, -5.179133], [50.251479, -5.199035], [50.2522, -5.195716], [50.253206, -5.191855], [50.252018, -5.18925], [50.233372, -5.180291], [50.253206, -5.191855], [50.216914, -5.206255], [50.228247, -5.183455], [50.23369, -5.230663], [50.248346, -5.240634], [50.237333, -5.229086], [50.250082, -5.21704], [50.254735, -5.198411], [50.23369, -5.24034], [50.234963, -5.230188], [50.241042, -5.238034], [50.243739, -5.23485], [50.245836, -5.240323], [50.255382, -5.197753], [50.244251, -5.23264], [50.241211, -5.215741], [50.250655, -5.212589], [50.254735, -5.198411], [50.234115, -5.225081], [50.240386, -5.232519], [50.230829, -5.242951], [50.248436, -5.24064], [50.243239, -5.243093], [50.240979, -5.227369], [50.086275, -5.309241], [50.092468, -5.319177], [50.088351, -5.302672], [50.112867, -5.391519], [50.112654, -5.380312], [50.100595, -5.321278], [50.10739, -5.347767], [50.108051, -5.337322], [50.123738, -5.307908], [50.110375, -5.300131], [50.113895, -5.302892], [50.103386, -5.314897], [50.15059, -5.200553], [50.15564, -5.25186], [50.119146, -5.241129], [50.131088, -5.251593], [50.176026, -5.220885], [50.147403, -5.21168], [50.15059, -5.200553], [50.154514, -5.191994], [50.187669, -5.248572], [50.182653, -5.247811], [50.142098, -5.247161], [50.17073, -5.197698], [50.113468, -5.209128], [50.078818, -5.206392], [50.079968, -5.25554], [50.072472, -5.214635], [50.081841, -5.259302], [50.043763, -5.221517], [50.054476, -5.22447], [50.02171, -5.215432], [50.022364, -5.221061], [50.049962, -5.079423], [50.056903, -5.145962], [50.042131, -5.163155], [50.04523, -5.168249], [50.110533, -5.253138], [50.114927, -5.266447], [50.116178, -5.244287], [50.099807, -5.279404], [50.099116, -5.278378], [50.110529, -5.253277], [50.1152, -5.266326], [50.105463, -5.267062], [50.096835, -5.282697], [50.099786, -5.270591], [50.091956, -5.264324], [50.10159, -5.267218], [50.091874, -5.264039], [50.099807, -5.279404], [50.098935, -5.272072], [50.101879, -5.266538], [50.099038, -5.277953], [50.089234, -5.268334], [50.10353, -5.268608], [50.089706, -5.267527], [50.096565, -5.273169], [50.099888, -5.270179], [50.09503, -5.273344], [50.195823, -5.141917], [50.196501, -5.123463], [50.195539, -5.142459], [50.190491, -5.129516], [50.189256, -5.128595], [50.184232, -5.124763], [50.183207, -5.122735], [50.193483, -5.135317], [50.186946, -5.114152], [50.178547, -5.128735], [50.186806, -5.12269], [50.187215, -5.309212], [50.154578, -5.358626], [50.178149, -5.311667], [50.170486, -5.327946], [50.171263, -5.310211], [50.16069, -5.355694], [50.150896, -5.37699], [50.165748, -5.172715], [50.205914, -5.154635], [50.199883, -5.213802], [50.165771, -5.171877], [50.179951, -5.179681], [50.189117, -5.193181], [50.163817, -5.157742], [50.180404, -5.179571], [50.164142, -5.125833], [50.153442, -5.132275], [50.184232, -5.124763], [50.162879, -5.132613], [50.164545, -5.12754], [50.164331, -5.132147], [50.170938, -5.137342], [50.163426, -5.155616], [50.16606, -5.13142], [50.149278, -5.129903], [50.160173, -5.112831], [50.161262, -5.10912], [50.157954, -5.104985], [50.146341, -5.128731], [50.160476, -5.118312], [50.107726, -5.182445], [50.121543, -5.147542], [50.145993, -5.197586], [50.21196, -5.481262], [50.21066, -5.479625], [50.212841, -5.481887], [50.212904, -5.479788], [50.214994, -5.479099], [50.211344, -5.480796], [50.214802, -5.479506], [50.214189, -5.484929], [50.210406, -5.485074], [50.213173, -5.479808], [50.211562, -5.47955], [50.212148, -5.480995], [50.204301, -5.475658], [50.215408, -5.477307], [50.214994, -5.479099], [50.212467, -5.485364], [50.210398, -5.485354], [50.213443, -5.479828], [50.210938, -5.479365], [50.206316, -5.495429], [50.206927, -5.493091], [50.210707, -5.487059], [50.211322, -5.487524], [50.20512, -5.508238], [50.209373, -5.486541], [50.206448, -5.494037], [50.196537, -5.497518], [50.194533, -5.468361], [50.19147, -5.45945], [50.180698, -5.44354], [50.189781, -5.458768], [50.193372, -5.47108], [50.191972, -5.460748], [50.183956, -5.439851], [50.17631, -5.445886], [50.190061, -5.568372], [50.185882, -5.501783], [50.170268, -5.617744], [50.167156, -5.625213], [50.121462, -5.676331], [50.153347, -5.669537], [50.149979, -5.656537], [50.120815, -5.674043], [50.12514, -5.682351], [50.077906, -5.699279], [50.066068, -5.700883], [50.08357, -5.676784], [50.067507, -5.632642], [50.091295, -5.642973], [50.096465, -5.650219], [50.091058, -5.627572], [50.088402, -5.657717], [50.129593, -5.618032], [50.09623, -5.594397], [50.129091, -5.613935], [50.098433, -5.590086], [50.09422, -5.595365], [50.128881, -5.606222], [50.078907, -5.569751], [50.145206, -5.555369], [50.119735, -5.579087], [50.111681, -5.560158], [50.105359, -5.549198], [50.10986, -5.5638], [50.102846, -5.549012], [50.103769, -5.551178], [50.099384, -5.550434], [50.111587, -5.560291], [50.109172, -5.559832], [50.107582, -5.558875], [50.123632, -5.471625], [50.124053, -5.469556], [50.123627, -5.453713], [50.173917, -5.441651], [50.146369, -5.478453], [50.152908, -5.470386], [50.129661, -5.498513], [50.12876, -5.510483], [50.149741, -5.5039], [50.173917, -5.441651], [50.163898, -5.457878], [50.172247, -5.443352], [50.134308, -5.490594], [50.170838, -5.445352], [50.140394, -5.46766], [50.127965, -5.483135], [50.145596, -5.480217], [50.129461, -5.490241], [50.126704, -5.524887], [50.127169, -5.524362], [50.126673, -5.522926], [50.11908, -5.535941], [50.121772, -5.533201], [50.11908, -5.535941], [50.12196, -5.532935], [50.121987, -5.537974], [50.126528, -5.524735], [50.128127, -5.525412], [50.121093, -5.537768], [50.12672, -5.524329], [50.119101, -5.538181], [50.121841, -5.533905], [50.126704, -5.524887], [50.12317, -5.531624], [50.121772, -5.533201], [50.11934, -5.533301], [50.126528, -5.524735], [50.11908, -5.535941], [50.117741, -5.532624], [50.121037, -5.533706], [50.124948, -5.535254], [50.113404, -5.542098], [50.115117, -5.536068], [50.117741, -5.532624], [50.115907, -5.53081], [50.111194, -5.543754], [50.112638, -5.540642], [50.117477, -5.544218], [50.115075, -5.552155], [50.119008, -5.541253], [50.116088, -5.554329], [50.125599, -5.549297], [50.124509, -5.549636], [50.126356, -5.551032], [50.11619, -5.568608], [50.118523, -5.431657], [50.124678, -5.439514], [50.124691, -5.439096], [49.91573, -6.311815], [50.180127, -5.423324], [50.184049, -5.421503], [50.184428, -5.42083], [50.183638, -5.41713], [50.184049, -5.421503], [50.177883, -5.43227], [50.184428, -5.423912], [50.178908, -5.431083], [50.185414, -5.411793], [50.186506, -5.39912], [50.190915, -5.411344], [50.188573, -5.411457], [50.188735, -5.418195], [50.191642, -5.408033], [50.196704, -5.398023], [50.188122, -5.420674], [50.196704, -5.398023], [50.18931, -5.416975], [50.196504, -5.398709], [50.216146, -5.391553], [50.206624, -5.366346], [50.179577, -5.355897], [50.205466, -5.393739], [50.204917, -5.360059], [50.209517, -5.350289], [50.205242, -5.38293], [50.196218, -5.35286], [50.188672, -5.34], [50.174633, -5.365076], [50.152402, -5.380876], [50.171013, -5.412027], [50.174212, -5.428645], [50.162927, -5.420834], [50.174425, -5.436645], [50.149436, -5.393128], [50.167823, -5.407317], [50.132345, -5.417531], [50.111581, -5.419968], [50.129347, -5.454964], [50.176092, -5.416732], [50.199263, -5.396663], [50.196851, -5.399154], [50.196704, -5.398023], [50.540433, -4.729308], [50.556061, -4.572353], [50.5379, -4.608343], [50.530273, -4.698239], [50.558335, -4.571206], [50.537875, -4.601426], [50.511785, -4.731181], [50.512142, -4.74277], [50.490174, -4.693556], [50.500814, -4.680764], [50.492559, -4.691577], [50.455536, -4.634947], [50.45093, -4.655541], [50.506193, -4.669785], [50.455536, -4.634947], [50.506386, -4.669231], [50.465657, -4.74191], [50.472222, -4.726645], [50.476723, -4.753264], [50.471162, -4.73349], [50.459883, -4.731148], [50.468381, -4.733189], [50.471629, -4.744229], [50.472618, -4.725117], [50.475112, -4.752888], [50.473712, -4.751256], [50.467093, -4.734383], [50.452809, -4.695096], [50.452436, -4.695638], [50.442073, -4.704205], [50.429905, -4.758854], [50.438349, -4.755542], [50.459352, -4.749859], [50.433314, -4.732576], [50.439533, -4.747301], [50.479454, -4.751872], [50.420661, -4.832798], [50.472344, -4.721437], [50.462307, -4.712123], [50.473747, -4.715315], [50.461272, -4.721787], [50.456642, -4.704331], [50.469224, -4.712519], [50.471265, -4.717569], [50.469074, -4.711242], [50.47382, -4.704466], [50.459469, -4.710411], [50.465725, -4.715983], [50.460011, -4.694801], [50.465846, -4.699219], [50.475203, -4.702995], [50.460011, -4.694801], [50.468309, -4.724728], [50.463435, -4.710074], [50.470989, -4.717835], [50.459102, -4.718422], [50.459379, -4.694906], [50.464887, -4.697896], [50.473749, -4.703616], [50.461452, -4.694742], [50.703847, -4.640632], [50.705419, -4.634772], [50.675764, -4.613575], [50.698284, -4.604064], [50.638443, -4.688308], [50.689697, -4.692937], [50.638798, -4.69243], [50.661673, -4.722183], [50.661644, -4.750201], [50.653852, -4.733475], [50.672136, -4.720948], [50.66508, -4.753233], [50.593118, -4.726562], [50.637157, -4.708885], [50.592752, -4.726823], [50.621644, -4.733727], [50.587576, -4.728926], [50.618989, -4.685501], [50.637225, -4.659101], [50.601707, -4.697661], [50.614764, -4.685402], [50.624322, -4.672655], [50.623774, -4.680825], [50.623217, -4.677682], [50.623204, -4.678247], [50.627115, -4.688085], [50.572457, -4.709972], [50.644108, -4.645202], [50.647614, -4.641297], [50.621801, -4.56067], [50.664139, -4.574153], [50.661663, -4.576282], [50.458263, -4.593672], [50.458096, -4.5931], [50.455426, -4.571538], [50.532467, -4.589838], [50.458263, -4.593672], [50.467492, -4.579098], [50.493765, -4.462505], [50.502001, -4.425843], [50.512875, -4.456306], [50.47764, -4.459412], [50.52196, -4.426302], [50.441166, -4.573722], [50.449558, -4.600804], [50.455522, -4.627619], [50.457456, -4.613636], [50.458129, -4.595638], [50.457247, -4.610948], [50.45635, -4.62682], [50.45349, -4.569601], [50.448893, -4.553715], [50.442136, -4.562366], [50.455843, -4.515484], [50.449497, -4.550789], [50.4511, -4.539182], [50.457926, -4.531375], [50.458309, -4.526182], [50.464829, -4.520047], [50.457381, -4.494149], [50.457643, -4.502898], [50.458405, -4.525906], [50.450768, -4.454073], [50.459227, -4.458174], [50.471191, -4.453862], [50.456493, -4.464091], [50.460611, -4.460782], [50.458532, -4.457011], [50.47124, -4.460066], [50.452328, -4.452604], [50.455214, -4.465011], [50.432773, -4.437229], [50.422895, -4.410534], [50.422559, -4.40939], [50.445061, -4.447439], [50.445061, -4.447439], [50.430421, -4.433587], [50.448105, -4.452386], [50.432773, -4.437229], [50.437994, -4.4413], [50.447437, -4.449956], [50.423078, -4.410402], [50.486644, -4.372328], [50.503474, -4.406879], [50.453681, -4.465213], [50.454669, -4.465264], [50.450485, -4.467442], [50.455628, -4.466723], [50.453681, -4.465213], [50.450114, -4.467986], [50.45431, -4.465246], [50.422423, -4.643386], [50.418255, -4.644702], [50.448559, -4.660903], [50.413203, -4.548697], [50.396322, -4.555531], [50.386514, -4.567947], [50.407328, -4.475051], [50.353279, -4.495576], [50.353285, -4.495295], [50.353686, -4.501784], [50.353279, -4.499794], [50.353344, -4.500922], [50.356603, -4.520777], [50.349671, -4.508601], [50.331434, -4.520007], [50.337603, -4.521739], [50.347972, -4.512307], [50.35678, -4.457938], [50.355849, -4.463655], [50.368542, -4.44617], [50.365798, -4.456858], [50.369257, -4.446348], [50.35678, -4.457938], [50.348554, -4.451328], [50.362932, -4.44771], [50.354701, -4.454176], [50.359013, -4.441603], [50.364625, -4.4485], [50.390798, -4.405528], [50.388303, -4.447469], [50.390923, -4.421152], [50.394498, -4.413595], [50.367951, -4.435733], [50.372272, -4.439893], [50.697774, -4.427719], [50.673588, -4.3925], [50.673852, -4.392797], [50.640904, -4.341051], [50.636738, -4.510847], [50.63578, -4.501037], [50.634787, -4.492782], [50.636461, -4.507014], [50.632181, -4.475815], [50.622122, -4.42382], [50.622687, -4.439826], [50.629984, -4.36073], [50.627055, -4.340928], [50.63438, -4.356849], [50.644156, -4.358187], [50.633513, -4.332905], [50.632119, -4.339624], [50.631466, -4.354158], [50.638157, -4.361281], [50.635636, -4.361438], [50.635255, -4.358024], [50.627881, -4.37123], [50.629293, -4.36819], [50.636818, -4.36079], [50.628716, -4.356707], [50.63682, -4.356264], [50.626213, -4.3604], [50.628201, -4.37761], [50.633024, -4.334861], [50.629014, -4.3686], [50.596984, -4.502371], [50.595662, -4.475876], [50.595662, -4.475876], [50.575827, -4.544755], [50.595662, -4.475876], [50.592051, -4.526696], [50.610429, -4.517079], [50.568461, -4.556646], [50.595662, -4.475876], [50.607555, -4.512685], [50.595662, -4.475876], [50.619716, -4.540904], [50.595662, -4.475876], [50.608876, -4.446462], [50.613274, -4.459696], [50.602501, -4.45447], [50.616605, -4.386072], [50.617574, -4.408883], [50.631004, -4.394438], [50.623089, -4.416235], [50.622191, -4.424813], [50.616856, -4.430477], [50.640556, -4.32703], [50.633967, -4.332645], [50.63399, -4.331515], [50.584483, -4.421462], [50.574204, -4.334634], [50.595315, -4.335961], [50.575488, -4.333426], [50.601907, -4.339114], [50.583356, -4.331272], [50.552484, -4.33229], [50.549682, -4.332999], [50.535029, -4.337074], [50.521203, -4.281367], [50.548688, -4.355537], [50.567399, -4.31961], [50.536828, -4.314582], [50.522916, -4.281168], [50.516638, -4.361417], [50.507335, -4.295931], [50.497933, -4.320999], [50.503987, -4.315091], [50.504717, -4.314562], [50.506291, -4.298702], [50.503246, -4.31167], [50.504258, -4.301424], [50.519263, -4.315838], [50.50014, -4.309544], [50.488295, -4.330678], [50.510007, -4.288162], [50.504245, -4.306641], [50.522931, -4.316864], [50.497432, -4.300951], [50.491214, -4.319683], [50.502993, -4.315324], [50.488818, -4.313503], [50.50064, -4.30703], [50.514909, -4.276691], [50.510771, -4.225571], [50.498201, -4.20552], [50.516628, -4.271554], [50.524191, -4.229307], [50.498565, -4.252214], [50.507344, -4.22132], [50.516398, -4.264912], [50.516238, -4.235985], [50.498619, -4.211885], [50.519414, -4.215679], [50.516309, -4.236976], [50.389257, -4.331023], [50.40711, -4.351181], [50.416053, -4.393434], [50.414974, -4.326936], [50.409444, -4.360305], [50.407394, -4.350492], [50.405868, -4.354779], [50.409453, -4.359883], [50.408338, -4.348286], [50.40711, -4.351181], [50.414569, -4.324664], [50.415757, -4.328241], [50.405975, -4.35394], [50.407787, -4.353326], [50.416179, -4.32066], [50.416193, -4.319957], [50.418421, -4.302891], [50.425236, -4.281116], [50.429164, -4.300877], [50.416007, -4.315725], [50.425149, -4.280971], [50.425526, -4.275498], [50.425236, -4.281116], [50.425236, -4.281116], [50.411887, -4.213192], [50.40889, -4.214741], [50.410381, -4.221426], [50.408181, -4.204715], [50.410119, -4.211561], [50.408336, -4.205989], [50.408513, -4.210923], [50.408816, -4.213893], [50.408513, -4.210923], [50.408181, -4.204715], [50.414287, -4.214711], [50.44254, -4.256313], [50.431533, -4.258043], [50.419128, -4.234365], [50.413511, -4.241139], [50.425605, -4.248327], [50.420999, -4.263173], [50.424491, -4.245458], [50.425607, -4.248186], [50.420825, -4.262883], [50.413158, -4.231409], [50.413158, -4.231409], [50.418654, -4.235609], [50.411853, -4.229096], [50.411262, -4.227097], [50.413158, -4.231409], [50.410779, -4.224119], [50.417509, -4.257657], [50.400154, -4.262039], [50.492518, -4.290137], [50.483901, -4.257014], [50.493931, -4.291474], [50.475593, -4.277197], [50.475593, -4.277197], [50.361768, -4.369328], [50.377398, -4.334802], [50.374461, -4.390777], [50.391889, -4.378709], [50.391569, -4.394311], [50.391446, -4.342949], [50.400165, -4.387426], [50.391889, -4.378709], [50.374817, -4.306404], [50.364624, -4.298738], [50.388746, -4.311582], [50.376979, -4.306228], [50.385012, -4.300287], [50.363889, -4.322186], [50.364543, -4.298312], [50.370278, -4.253445], [50.364022, -4.2374], [50.354506, -4.255088], [50.353877, -4.259698], [50.377079, -4.203694], [50.375293, -4.193485], [50.377079, -4.203694], [50.37584, -4.19787], [50.376785, -4.204946], [50.376754, -4.201851], [50.354426, -4.240604], [50.348495, -4.216849], [50.346097, -4.219971], [50.352582, -4.233628], [50.340732, -4.218315], [50.377908, -4.20739], [50.91578, -4.479885], [50.882632, -4.519925], [50.893069, -4.465026], [50.871937, -4.473292], [50.863538, -4.496013], [50.886471, -4.475058], [50.862262, -4.496798], [50.824562, -4.534972], [50.81765, -4.530196], [50.829562, -4.544901], [50.825163, -4.536283], [50.828757, -4.544715], [50.821123, -4.498436], [50.819691, -4.468542], [50.816262, -4.464812], [50.83527, -4.46766], [50.819382, -4.470371], [50.820461, -4.466169], [50.809595, -4.503357], [50.786381, -4.557594], [50.789791, -4.533232], [50.752431, -4.551206], [50.752524, -4.551069], [50.796938, -4.531348], [50.730687, -4.578793], [50.729956, -4.579319], [50.712599, -4.5506], [50.735644, -4.478859], [50.745342, -4.45839], [50.766592, -4.392421], [50.731854, -4.445354], [50.73686, -4.394874], [50.838814, -4.512307], [50.830971, -4.517283], [50.826253, -4.506662], [50.823619, -4.503681], [50.827094, -4.521903], [50.841303, -4.517839], [50.847338, -4.509071], [50.841881, -4.511904], [50.825751, -4.504931], [50.830971, -4.517283], [50.827094, -4.521903], [50.827506, -4.511132], [50.827345, -4.510271], [50.82919, -4.516477], [50.529072, -4.983234], [50.530572, -5.015788], [50.525809, -4.991213], [50.537139, -5.005339], [50.541446, -4.938844], [50.524711, -4.953185], [50.537033, -4.953249], [50.542294, -4.937344], [50.539049, -4.955351], [50.535248, -4.977414], [50.551217, -4.900766], [50.548496, -4.905258], [50.557179, -4.863431], [50.564315, -4.887731], [50.576094, -4.877009], [50.55135, -4.873666], [50.573271, -4.914552], [50.594029, -4.83161], [50.592187, -4.833337], [50.592229, -4.831644], [50.591945, -4.832192], [50.513667, -4.948827], [50.510925, -4.929189], [50.507782, -4.882162], [50.494973, -4.76885], [50.496709, -4.77149], [50.533439, -4.841104], [50.496792, -4.771777], [50.533014, -4.840091], [50.533459, -4.780701], [50.532806, -4.800421], [50.565175, -4.763361], [50.532527, -4.800827], [50.543889, -4.780891], [50.532806, -4.800421], [50.581345, -4.760494], [50.514131, -4.821322], [50.51519, -4.829568], [50.519992, -4.831831], [50.516653, -4.821191], [50.477496, -4.963349], [50.499792, -5.023276], [50.478911, -4.981905], [50.481224, -5.028152], [50.405177, -4.833282], [50.428435, -4.812702], [50.39337, -4.826808], [50.419915, -4.83388], [50.408697, -4.832788], [50.400454, -4.831452], [50.406068, -4.833616], [50.416047, -4.844912], [50.422757, -4.831656], [50.425224, -4.818989], [50.405622, -4.833449], [50.416047, -4.844912], [50.410206, -4.829922], [50.473712, -4.751256], [50.415353, -4.851205], [50.422664, -4.831791], [50.420664, -4.832657], [50.39762, -4.829594], [50.422059, -4.83077], [50.392759, -4.826068], [50.378841, -4.88362], [50.386269, -4.881538], [50.377253, -4.882398], [50.385422, -4.886693], [50.374787, -4.876622], [50.382244, -4.884249], [50.383619, -4.883207], [50.392853, -4.898964], [50.392856, -4.898824], [50.354147, -4.860048], [50.365083, -4.890661], [50.343689, -4.857311], [50.343046, -4.890587], [50.34357, -4.90566], [50.343948, -4.890501], [50.371668, -4.868135], [50.36118, -4.863003], [50.343633, -4.848593], [50.357864, -4.862522], [50.343163, -4.903948], [50.394525, -4.793948], [50.380491, -4.793967], [50.374101, -4.779104], [50.361518, -4.782447], [50.369545, -4.785307], [50.364823, -4.805844], [50.374005, -4.775582], [50.374738, -4.771264], [50.390735, -4.794429], [50.371219, -4.783014], [50.377823, -4.76638], [50.397692, -4.79315], [50.373083, -4.78031], [50.38625, -4.793884], [50.357717, -4.7721], [50.367247, -4.760983], [50.373712, -4.780347], [50.377575, -4.799282], [50.341972, -4.831907], [50.343124, -4.825228], [50.331304, -4.811878], [50.300116, -4.799645], [50.32985, -4.771321], [50.312335, -4.800223], [50.328803, -4.781237], [50.298544, -4.900386], [50.30054, -4.863431], [50.299358, -4.903806], [50.310109, -4.862039], [50.269708, -4.82944], [50.289275, -4.816419], [50.310824, -4.851266], [50.282751, -4.792308], [50.270149, -4.788904], [50.386109, -4.85156], [50.391405, -4.848361], [50.386292, -4.851431], [50.385829, -4.851966], [50.317348, -4.83831], [50.31422, -4.852172], [50.327227, -4.82049], [50.293104, -4.780698], [50.338395, -4.793885], [50.335114, -4.803109], [50.33433, -4.802079], [50.335114, -4.803109], [50.335114, -4.803109], [50.334558, -4.79633], [50.339224, -4.80054], [50.333889, -4.805426], [50.347447, -4.79526], [50.338365, -4.795148], [50.337905, -4.795543], [50.335065, -4.793971], [50.334509, -4.794641], [50.335317, -4.794688], [50.335114, -4.803109], [50.339083, -4.79519], [50.356219, -4.77834], [50.340285, -4.782611], [50.349421, -4.780474], [50.339702, -4.784404], [50.359073, -4.7906], [50.352019, -4.780907], [50.349421, -4.780474], [50.341896, -4.775396], [50.345469, -4.780243], [50.355579, -4.782521], [50.338976, -4.773398], [50.340393, -4.774324], [50.336591, -4.786611], [50.338236, -4.777993], [50.338807, -4.761582], [50.341299, -4.76271], [50.338744, -4.764249], [50.338248, -4.769982], [50.338886, -4.773393], [50.339502, -4.785235], [50.335043, -4.77612], [50.335049, -4.77584], [50.337931, -4.786971], [50.33416, -4.779161], [50.341284, -4.778452], [50.336487, -4.772129], [50.338517, -4.769998], [50.333956, -4.783927], [50.338091, -4.76899], [50.339217, -4.759497], [50.343398, -4.769017], [50.341915, -4.755718], [50.351573, -4.765697], [50.352057, -4.775567], [50.344886, -4.759404], [50.344473, -4.76922], [50.341915, -4.763308], [50.348448, -4.768468], [50.342683, -4.749859], [50.342683, -4.749859], [50.345082, -4.758713], [50.342181, -4.763464], [50.336978, -4.751497], [50.34411, -4.738977], [50.343159, -4.748762], [50.400707, -4.940821], [50.395132, -4.922886], [50.384367, -4.939528], [50.400996, -4.950691], [50.39469, -4.922577], [50.394798, -4.92188], [50.382403, -4.93181], [50.380034, -4.936587], [50.396281, -4.920142], [50.40107, -4.940703], [50.366291, -4.978211], [50.363514, -4.981272], [50.394708, -4.921874], [50.400707, -4.940821], [50.401255, -4.951129], [50.358253, -4.989942], [50.380325, -4.935761], [50.392977, -4.9084], [50.429813, -4.956567], [50.474691, -4.910596], [50.430698, -4.942962], [50.445018, -4.931595], [50.458925, -4.922309], [50.434369, -4.971921], [50.468564, -4.932488], [50.430004, -4.941933], [50.457155, -4.924736], [50.456466, -4.919903], [50.43175, -4.961758], [50.456781, -4.925277], [50.433431, -4.96637], [50.471705, -5.027543], [50.461982, -5.031291], [50.457427, -5.030013], [50.448239, -5.020127], [50.453016, -5.002397], [50.449522, -4.973857], [50.412627, -4.942545], [50.408203, -4.911022], [50.430876, -4.988884], [50.431836, -4.961904], [50.401989, -4.961168], [50.433176, -4.96579], [50.401393, -4.963383], [50.419679, -4.883707], [50.423663, -4.940132], [50.414311, -4.911396], [50.429547, -4.938666], [50.280062, -4.990652], [50.274076, -4.943254], [50.261233, -4.92464], [50.352271, -4.93881], [50.32033, -4.928408], [50.348092, -4.92618], [50.315404, -4.927543], [50.320389, -4.96157], [50.348092, -4.92618], [50.276411, -4.939889], [50.292241, -4.961226], [50.285728, -4.944956], [50.290298, -4.970372], [50.282665, -4.952207], [50.29295, -4.936836], [50.287233, -4.92455], [50.282665, -4.952207], [50.304553, -4.965221], [50.282665, -4.952207], [50.225107, -4.937432], [50.217012, -4.9124], [50.224537, -4.899257], [50.216879, -4.906924], [50.345762, -5.027675], [50.310327, -5.023877], [50.345047, -5.027489], [50.419211, -5.094311], [50.411245, -5.089427], [50.41691, -5.089514], [50.413505, -5.082254], [50.411754, -5.087208], [50.410841, -5.087712], [50.411387, -5.084087], [50.413853, -5.086077], [50.411245, -5.089427], [50.411245, -5.089427], [50.41285, -5.086575], [50.413135, -5.089409], [50.414287, -5.086669], [50.409133, -5.074087], [50.410548, -5.078401], [50.413307, -5.06591], [50.415378, -5.07604], [50.418287, -5.064683], [50.411075, -5.075479], [50.418408, -5.070323], [50.418408, -5.070323], [50.413443, -5.070987], [50.413443, -5.070987], [50.418099, -5.061573], [50.413156, -5.07843], [50.434745, -5.047718], [50.416521, -5.042887], [50.438634, -5.04008], [50.416702, -5.056556], [50.418277, -5.030751], [50.401787, -5.055877], [50.404991, -5.040037], [50.401787, -5.055877], [50.399967, -4.969908], [50.401646, -5.019978], [50.421428, -5.03067], [50.401787, -5.055877], [50.398453, -5.069736], [50.402953, -5.028506], [50.417731, -5.030998], [50.401135, -5.029234], [50.15302, -5.067281], [50.154533, -5.071299], [50.153985, -5.068183], [50.154161, -5.068334], [50.15181, -5.065384], [50.154071, -5.068329], [50.150526, -5.062921], [50.154582, -5.072842], [50.151511, -5.076705], [50.154769, -5.072574], [50.154618, -5.081665], [50.162911, -5.087801], [50.153981, -5.078544], [50.160126, -5.080899], [50.143663, -5.09104], [50.142892, -5.09295], [50.147543, -5.08723], [50.153467, -5.097833], [50.150537, -5.096384], [50.128681, -5.096231], [50.171933, -5.117097], [50.169032, -5.127973], [50.167672, -5.101553], [50.168184, -5.099205], [50.172031, -5.113462], [50.164411, -5.12585], [50.168084, -5.102981], [50.164235, -5.125699], [50.164629, -5.090853], [50.169477, -5.128142], [50.170497, -5.103557], [50.166246, -5.097679], [50.166246, -5.097679], [50.172472, -5.117132], [50.167664, -5.101833], [50.168574, -5.104833], [50.171808, -5.067784], [50.19157, -5.072275], [50.174885, -5.090814], [50.184885, -5.076749], [50.19157, -5.072275], [50.177007, -5.0719], [50.160961, -5.086695], [50.156984, -5.090779], [50.154169, -5.081636], [50.157134, -5.091909], [50.155978, -5.091414], [50.161758, -5.087166], [50.150969, -5.080171], [50.156056, -5.088479], [50.158222, -5.088199], [50.161758, -5.087166], [50.160171, -5.085944], [50.154618, -5.081665], [50.150572, -5.078185], [50.154716, -5.084752], [50.162993, -5.088086], [50.157224, -5.095276], [50.153809, -5.081613], [50.220312, -5.154463], [50.21529, -5.176984], [50.206261, -5.115129], [50.206257, -5.115269], [50.205389, -5.117455], [50.205288, -5.121233], [50.205389, -5.117455], [50.208284, -5.123532], [50.276808, -5.170973], [50.280904, -5.172509], [50.286839, -5.182452], [50.271775, -5.197027], [50.2813, -5.194156], [50.280904, -5.172509], [50.287007, -5.238206], [50.288006, -5.202188], [50.287019, -5.237786], [50.280736, -5.172077], [50.279954, -5.210351], [50.275176, -5.197676], [50.279636, -5.202328], [50.280736, -5.172077], [50.298257, -5.146418], [50.295876, -5.147947], [50.316699, -5.136397], [50.29668, -5.128198], [50.342425, -5.159741], [50.281378, -5.161731], [50.303856, -5.105493], [50.289373, -5.148921], [50.289369, -5.149061], [50.298257, -5.146418], [50.348309, -5.138481], [50.298817, -5.148983], [50.314173, -5.156602], [50.314173, -5.156602], [50.282228, -5.160243], [50.298257, -5.146418], [50.33149, -5.138355], [50.343856, -5.156743], [50.326156, -5.132664], [50.304676, -5.188138], [50.292407, -5.192654], [50.31052, -5.201313], [50.322734, -5.175858], [50.309299, -5.203198], [50.292407, -5.192654], [50.310318, -5.202142], [50.312142, -5.194679], [50.314778, -5.177294], [50.311441, -5.177633], [50.292407, -5.192654], [50.312251, -5.203818], [50.324086, -5.075477], [50.346214, -5.027564], [50.345837, -5.028242], [50.345762, -5.027675], [50.349475, -5.13195], [50.328923, -5.072839], [50.346214, -5.027564], [50.336802, -5.091198], [50.3363, -5.062633], [50.341962, -5.110229], [50.354299, -5.003754], [50.372174, -5.090544], [50.373285, -5.08935], [50.376484, -5.107705], [50.383256, -5.083105], [50.372174, -5.090544], [50.384715, -5.112746], [50.395058, -5.085841], [50.36817, -5.092253], [50.382821, -5.01048], [50.367642, -5.054385], [50.365753, -5.091814], [50.37199, -5.090673], [50.349472, -5.088366], [50.246513, -5.17345], [50.264751, -5.184206], [50.250783, -5.142166], [50.256263, -5.175501], [50.270128, -5.171793], [50.269992, -5.180065], [50.261162, -5.190422], [50.260192, -5.146855], [50.256379, -5.181122], [50.260386, -5.146306], [50.249616, -5.125393], [50.277761, -5.071928], [50.279001, -5.163117], [50.273684, -5.146903], [50.29644, -5.127059], [50.27552, -5.165413], [50.271632, -5.142977], [50.303856, -5.105493], [50.274455, -5.148357], [50.266962, -5.129337], [50.26688, -5.129051], [50.267882, -5.131923], [50.279349, -5.163561], [50.277761, -5.071928], [50.279009, -5.162837], [50.284853, -5.123069], [50.266543, -5.128186], [50.296572, -5.125523], [50.270439, -5.140513], [50.276977, -5.154841], [50.263403, -5.114508], [50.263451, -5.119423], [50.29644, -5.127059], [50.26418, -5.11905], [50.303474, -5.106311], [50.278813, -5.072978], [50.272488, -5.144578], [50.268708, -5.134644], [50.277945, -5.013401], [50.294098, -5.035627], [50.235788, -5.070489], [50.232884, -5.071425], [50.240789, -5.06506], [50.234776, -5.081504], [50.23272, -5.070853], [50.230868, -5.072838], [50.249701, -5.061423], [50.225141, -5.081865], [50.264657, -5.094521], [50.275275, -5.039903], [50.272991, -5.037792], [50.262994, -5.055399], [50.263157, -5.052603], [50.250337, -5.061183], [50.261081, -5.052891], [50.260401, -5.047936], [50.263292, -5.061172], [50.260372, -5.049057], [50.262941, -5.053993], [50.263292, -5.061172], [50.262497, -5.057192], [50.263049, -5.053298], [50.259496, -5.048159], [50.256938, -5.073534], [50.26133, -5.070729], [50.262783, -5.063385], [50.261196, -5.062161], [50.263834, -5.050822], [50.262471, -5.058173], [50.260562, -5.048648], [50.263312, -5.046719], [50.261731, -5.052091], [50.26445, -5.047914], [50.254777, -5.056557], [50.25562, -5.058716], [50.263597, -5.05642], [50.263843, -5.05391], [50.261638, -5.052225], [50.263597, -5.05642], [50.254777, -5.056557], [50.259578, -5.048445], [50.263585, -5.046596], [50.257524, -5.047893], [50.263292, -5.061172], [50.263291, -5.050928], [50.264628, -5.044557], [50.267152, -5.040929], [50.262392, -5.040626], [50.272084, -5.034647], [50.258263, -5.04373], [50.262955, -5.036311], [50.259686, -5.027122], [50.264811, -5.044429], [50.262357, -5.079496], [50.262204, -5.078504], [50.265422, -5.082641], [50.263313, -5.087557], [50.258375, -5.076994], [50.262642, -5.082321], [50.26265, -5.082041], [50.262125, -5.078078], [50.264679, -5.059718], [50.266094, -5.06065], [50.262852, -5.08458], [50.261889, -5.0768], [50.264507, -5.096757], [50.264249, -5.103055], [50.264556, -5.094935], [50.264429, -5.09633], [50.264518, -5.096336], [50.263976, -5.103178], [50.414054, -4.782287], [50.371978, -4.751131], [50.435973, -4.7647], [50.41924, -4.772313], [50.432817, -4.776346], [50.427944, -4.76564], [50.405907, -4.780684], [50.435373, -4.7672], [50.432261, -4.788284], [50.389112, -4.737912], [50.400785, -4.700305], [50.416081, -4.688505], [50.410471, -4.666509], [50.406868, -4.662788], [50.429385, -4.700524], [50.410272, -4.667343], [50.421075, -4.682593], [50.400398, -4.689869], [50.400398, -4.689869], [50.342677, -4.715701], [50.359705, -4.714564], [50.345577, -4.741592], [50.346455, -4.73869], [50.355752, -4.714339], [50.348837, -4.721536], [50.349621, -4.707241], [50.353622, -4.720825], [50.367438, -4.706989], [50.351354, -4.698482], [50.376535, -4.702584], [50.350849, -4.693111], [50.353734, -4.700586], [50.350131, -4.689134], [50.334243, -4.63666], [50.343975, -4.671356], [50.334272, -4.639331], [50.343758, -4.661223], [50.390923, -4.421152]],\n",
       "                {\n",
       "  &quot;minOpacity&quot;: 0.5,\n",
       "  &quot;maxZoom&quot;: 13,\n",
       "  &quot;radius&quot;: 12,\n",
       "  &quot;blur&quot;: 10,\n",
       "  &quot;gradient&quot;: {\n",
       "  0.3: &quot;green&quot;,\n",
       "  0.5: &quot;orange&quot;,\n",
       "  0.8: &quot;red&quot;,\n",
       "},\n",
       "}\n",
       "            );\n",
       "        \n",
       "    \n",
       "            heat_map_8f7af31336d88e232f62d9ddd7c4fdd7.addTo(map_9655a0456ba2ca2f79c27cc7368d47be);\n",
       "        \n",
       "    \n",
       "            tile_layer_61bd6bc69dbe3b8436bf7dc46b17f2fb.addTo(map_9655a0456ba2ca2f79c27cc7368d47be);\n",
       "        \n",
       "    \n",
       "            heat_map_8f7af31336d88e232f62d9ddd7c4fdd7.addTo(map_9655a0456ba2ca2f79c27cc7368d47be);\n",
       "        \n",
       "&lt;/script&gt;\n",
       "&lt;/html&gt;\" style=\"position:absolute;width:100%;height:100%;left:0;top:0;border:none !important;\" allowfullscreen webkitallowfullscreen mozallowfullscreen></iframe></div></div>"
      ],
      "text/plain": [
       "<folium.folium.Map at 0x27830fa6a50>"
      ]
     },
     "execution_count": 66,
     "metadata": {},
     "output_type": "execute_result"
    }
   ],
   "source": [
    "import folium\n",
    "from folium.plugins import HeatMap\n",
    "\n",
    "cornwall_df = accident[accident['District Area'] == 'Cornwall']\n",
    "\n",
    "cornwall_df = cornwall_df.dropna(subset=['Latitude', 'Longitude'])\n",
    "\n",
    "cornwall_locations = list(zip(cornwall_df['Latitude'], cornwall_df['Longitude']))\n",
    "\n",
    "cornwall_map = folium.Map(\n",
    "    location=[cornwall_df['Latitude'].mean(), cornwall_df['Longitude'].mean()],\n",
    "    zoom_start=10\n",
    ")\n",
    "\n",
    "HeatMap(\n",
    "    cornwall_locations,\n",
    "    radius=12,\n",
    "    blur=10,\n",
    "    max_zoom=13,\n",
    "    gradient={0.3: 'green', 0.5: 'orange', 0.8: 'red'}\n",
    ").add_to(cornwall_map)\n",
    "\n",
    "cornwall_map.save('Cornwall_accidents_heatmap.html')\n",
    "\n",
    "cornwall_map"
   ]
  },
  {
   "cell_type": "markdown",
   "id": "1e8d11c2-74fc-4fc2-8817-bd6ae76edf13",
   "metadata": {},
   "source": [
    "<h2>Insight Heat Map 6:</h2>\n",
    "<p>The heatmap shows the distribution of road accidents across Cornwall. Areas with higher accident density are marked in red, indicating hot spots where accidents are more frequent. These high-risk areas should be prioritized for safety improvements, such as better road design, lighting, or traffic control measures. Conversely, regions with fewer accidents, shown in green, may reflect safer or less trafficked zones.</p>"
   ]
  },
  {
   "cell_type": "code",
   "execution_count": null,
   "id": "0671a5a0-a755-4ecc-af25-c274170c94c8",
   "metadata": {},
   "outputs": [],
   "source": []
  }
 ],
 "metadata": {
  "kernelspec": {
   "display_name": "Python 3 (ipykernel)",
   "language": "python",
   "name": "python3"
  },
  "language_info": {
   "codemirror_mode": {
    "name": "ipython",
    "version": 3
   },
   "file_extension": ".py",
   "mimetype": "text/x-python",
   "name": "python",
   "nbconvert_exporter": "python",
   "pygments_lexer": "ipython3",
   "version": "3.13.6"
  }
 },
 "nbformat": 4,
 "nbformat_minor": 5
}
