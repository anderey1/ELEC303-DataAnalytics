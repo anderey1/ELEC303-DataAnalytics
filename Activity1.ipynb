{
 "cells": [
  {
   "cell_type": "markdown",
   "id": "6a5925c1-98fc-4943-83bf-2c2875ad139d",
   "metadata": {},
   "source": [
    "<h1>Activity 1 - PALMER PENGUINS DATA ANALYTICS PROJECT </h1>\n",
    "<hr>\n",
    "<h3>Analyst : Andrei Miguel P. Moralina </h3>"
   ]
  },
  {
   "cell_type": "code",
   "execution_count": 1,
   "id": "afc2db14-6d7d-4cc8-938b-e5f83e26ab03",
   "metadata": {},
   "outputs": [],
   "source": [
    "#import libraries\n",
    "import numpy as np\n",
    "import pandas as pd"
   ]
  },
  {
   "cell_type": "markdown",
   "id": "d5c2e217-5795-4ed6-b6cc-9e9454cfe61c",
   "metadata": {},
   "source": [
    "<h3>Converting Dataset(s) into DataFrame</h3>\n",
    "<h2>Requirements</h2>\n",
    "<ul>\n",
    "    <li>Name of the DataFrame</li>\n",
    "    <li>File Path</li>\n",
    "</ul>"
   ]
  },
  {
   "cell_type": "code",
   "execution_count": 2,
   "id": "e6dea3c9-ab7f-4399-84fd-4249fe27c4d6",
   "metadata": {},
   "outputs": [],
   "source": [
    "penguins = pd.read_csv('datasets\\\\penguins.csv')"
   ]
  },
  {
   "cell_type": "code",
   "execution_count": 3,
   "id": "13103ea0-8858-48b6-a258-90abae9d16dc",
   "metadata": {},
   "outputs": [
    {
     "data": {
      "text/html": [
       "<div>\n",
       "<style scoped>\n",
       "    .dataframe tbody tr th:only-of-type {\n",
       "        vertical-align: middle;\n",
       "    }\n",
       "\n",
       "    .dataframe tbody tr th {\n",
       "        vertical-align: top;\n",
       "    }\n",
       "\n",
       "    .dataframe thead th {\n",
       "        text-align: right;\n",
       "    }\n",
       "</style>\n",
       "<table border=\"1\" class=\"dataframe\">\n",
       "  <thead>\n",
       "    <tr style=\"text-align: right;\">\n",
       "      <th></th>\n",
       "      <th>rowid</th>\n",
       "      <th>species</th>\n",
       "      <th>island</th>\n",
       "      <th>bill_length_mm</th>\n",
       "      <th>bill_depth_mm</th>\n",
       "      <th>flipper_length_mm</th>\n",
       "      <th>body_mass_g</th>\n",
       "      <th>sex</th>\n",
       "      <th>year</th>\n",
       "    </tr>\n",
       "  </thead>\n",
       "  <tbody>\n",
       "    <tr>\n",
       "      <th>0</th>\n",
       "      <td>1</td>\n",
       "      <td>Adelie</td>\n",
       "      <td>Torgersen</td>\n",
       "      <td>39.1</td>\n",
       "      <td>18.7</td>\n",
       "      <td>181.0</td>\n",
       "      <td>3750.0</td>\n",
       "      <td>male</td>\n",
       "      <td>2007</td>\n",
       "    </tr>\n",
       "    <tr>\n",
       "      <th>1</th>\n",
       "      <td>2</td>\n",
       "      <td>Adelie</td>\n",
       "      <td>Torgersen</td>\n",
       "      <td>39.5</td>\n",
       "      <td>17.4</td>\n",
       "      <td>186.0</td>\n",
       "      <td>3800.0</td>\n",
       "      <td>female</td>\n",
       "      <td>2007</td>\n",
       "    </tr>\n",
       "    <tr>\n",
       "      <th>2</th>\n",
       "      <td>3</td>\n",
       "      <td>Adelie</td>\n",
       "      <td>Torgersen</td>\n",
       "      <td>40.3</td>\n",
       "      <td>18.0</td>\n",
       "      <td>195.0</td>\n",
       "      <td>3250.0</td>\n",
       "      <td>female</td>\n",
       "      <td>2007</td>\n",
       "    </tr>\n",
       "    <tr>\n",
       "      <th>3</th>\n",
       "      <td>4</td>\n",
       "      <td>Adelie</td>\n",
       "      <td>Torgersen</td>\n",
       "      <td>NaN</td>\n",
       "      <td>NaN</td>\n",
       "      <td>NaN</td>\n",
       "      <td>NaN</td>\n",
       "      <td>NaN</td>\n",
       "      <td>2007</td>\n",
       "    </tr>\n",
       "    <tr>\n",
       "      <th>4</th>\n",
       "      <td>5</td>\n",
       "      <td>Adelie</td>\n",
       "      <td>Torgersen</td>\n",
       "      <td>36.7</td>\n",
       "      <td>19.3</td>\n",
       "      <td>193.0</td>\n",
       "      <td>3450.0</td>\n",
       "      <td>female</td>\n",
       "      <td>2007</td>\n",
       "    </tr>\n",
       "    <tr>\n",
       "      <th>...</th>\n",
       "      <td>...</td>\n",
       "      <td>...</td>\n",
       "      <td>...</td>\n",
       "      <td>...</td>\n",
       "      <td>...</td>\n",
       "      <td>...</td>\n",
       "      <td>...</td>\n",
       "      <td>...</td>\n",
       "      <td>...</td>\n",
       "    </tr>\n",
       "    <tr>\n",
       "      <th>339</th>\n",
       "      <td>340</td>\n",
       "      <td>Chinstrap</td>\n",
       "      <td>Dream</td>\n",
       "      <td>55.8</td>\n",
       "      <td>19.8</td>\n",
       "      <td>207.0</td>\n",
       "      <td>4000.0</td>\n",
       "      <td>male</td>\n",
       "      <td>2009</td>\n",
       "    </tr>\n",
       "    <tr>\n",
       "      <th>340</th>\n",
       "      <td>341</td>\n",
       "      <td>Chinstrap</td>\n",
       "      <td>Dream</td>\n",
       "      <td>43.5</td>\n",
       "      <td>18.1</td>\n",
       "      <td>202.0</td>\n",
       "      <td>3400.0</td>\n",
       "      <td>female</td>\n",
       "      <td>2009</td>\n",
       "    </tr>\n",
       "    <tr>\n",
       "      <th>341</th>\n",
       "      <td>342</td>\n",
       "      <td>Chinstrap</td>\n",
       "      <td>Dream</td>\n",
       "      <td>49.6</td>\n",
       "      <td>18.2</td>\n",
       "      <td>193.0</td>\n",
       "      <td>3775.0</td>\n",
       "      <td>male</td>\n",
       "      <td>2009</td>\n",
       "    </tr>\n",
       "    <tr>\n",
       "      <th>342</th>\n",
       "      <td>343</td>\n",
       "      <td>Chinstrap</td>\n",
       "      <td>Dream</td>\n",
       "      <td>50.8</td>\n",
       "      <td>19.0</td>\n",
       "      <td>210.0</td>\n",
       "      <td>4100.0</td>\n",
       "      <td>male</td>\n",
       "      <td>2009</td>\n",
       "    </tr>\n",
       "    <tr>\n",
       "      <th>343</th>\n",
       "      <td>344</td>\n",
       "      <td>Chinstrap</td>\n",
       "      <td>Dream</td>\n",
       "      <td>50.2</td>\n",
       "      <td>18.7</td>\n",
       "      <td>198.0</td>\n",
       "      <td>3775.0</td>\n",
       "      <td>female</td>\n",
       "      <td>2009</td>\n",
       "    </tr>\n",
       "  </tbody>\n",
       "</table>\n",
       "<p>344 rows × 9 columns</p>\n",
       "</div>"
      ],
      "text/plain": [
       "     rowid    species     island  bill_length_mm  bill_depth_mm  \\\n",
       "0        1     Adelie  Torgersen            39.1           18.7   \n",
       "1        2     Adelie  Torgersen            39.5           17.4   \n",
       "2        3     Adelie  Torgersen            40.3           18.0   \n",
       "3        4     Adelie  Torgersen             NaN            NaN   \n",
       "4        5     Adelie  Torgersen            36.7           19.3   \n",
       "..     ...        ...        ...             ...            ...   \n",
       "339    340  Chinstrap      Dream            55.8           19.8   \n",
       "340    341  Chinstrap      Dream            43.5           18.1   \n",
       "341    342  Chinstrap      Dream            49.6           18.2   \n",
       "342    343  Chinstrap      Dream            50.8           19.0   \n",
       "343    344  Chinstrap      Dream            50.2           18.7   \n",
       "\n",
       "     flipper_length_mm  body_mass_g     sex  year  \n",
       "0                181.0       3750.0    male  2007  \n",
       "1                186.0       3800.0  female  2007  \n",
       "2                195.0       3250.0  female  2007  \n",
       "3                  NaN          NaN     NaN  2007  \n",
       "4                193.0       3450.0  female  2007  \n",
       "..                 ...          ...     ...   ...  \n",
       "339              207.0       4000.0    male  2009  \n",
       "340              202.0       3400.0  female  2009  \n",
       "341              193.0       3775.0    male  2009  \n",
       "342              210.0       4100.0    male  2009  \n",
       "343              198.0       3775.0  female  2009  \n",
       "\n",
       "[344 rows x 9 columns]"
      ]
     },
     "execution_count": 3,
     "metadata": {},
     "output_type": "execute_result"
    }
   ],
   "source": [
    "penguins"
   ]
  },
  {
   "cell_type": "markdown",
   "id": "6fb9cbfe-9bad-4c24-8bd6-137274dc84b4",
   "metadata": {},
   "source": [
    "<h2>Descriptive Analytics</h2>"
   ]
  },
  {
   "cell_type": "code",
   "execution_count": 4,
   "id": "db4e5e3b-4d4f-4d14-85df-b67e3722ad29",
   "metadata": {},
   "outputs": [
    {
     "data": {
      "text/html": [
       "<div>\n",
       "<style scoped>\n",
       "    .dataframe tbody tr th:only-of-type {\n",
       "        vertical-align: middle;\n",
       "    }\n",
       "\n",
       "    .dataframe tbody tr th {\n",
       "        vertical-align: top;\n",
       "    }\n",
       "\n",
       "    .dataframe thead th {\n",
       "        text-align: right;\n",
       "    }\n",
       "</style>\n",
       "<table border=\"1\" class=\"dataframe\">\n",
       "  <thead>\n",
       "    <tr style=\"text-align: right;\">\n",
       "      <th></th>\n",
       "      <th>rowid</th>\n",
       "      <th>bill_length_mm</th>\n",
       "      <th>bill_depth_mm</th>\n",
       "      <th>flipper_length_mm</th>\n",
       "      <th>body_mass_g</th>\n",
       "      <th>year</th>\n",
       "    </tr>\n",
       "  </thead>\n",
       "  <tbody>\n",
       "    <tr>\n",
       "      <th>count</th>\n",
       "      <td>344.000000</td>\n",
       "      <td>342.000000</td>\n",
       "      <td>342.000000</td>\n",
       "      <td>342.000000</td>\n",
       "      <td>342.000000</td>\n",
       "      <td>344.000000</td>\n",
       "    </tr>\n",
       "    <tr>\n",
       "      <th>mean</th>\n",
       "      <td>172.500000</td>\n",
       "      <td>43.921930</td>\n",
       "      <td>17.151170</td>\n",
       "      <td>200.915205</td>\n",
       "      <td>4201.754386</td>\n",
       "      <td>2008.029070</td>\n",
       "    </tr>\n",
       "    <tr>\n",
       "      <th>std</th>\n",
       "      <td>99.448479</td>\n",
       "      <td>5.459584</td>\n",
       "      <td>1.974793</td>\n",
       "      <td>14.061714</td>\n",
       "      <td>801.954536</td>\n",
       "      <td>0.818356</td>\n",
       "    </tr>\n",
       "    <tr>\n",
       "      <th>min</th>\n",
       "      <td>1.000000</td>\n",
       "      <td>32.100000</td>\n",
       "      <td>13.100000</td>\n",
       "      <td>172.000000</td>\n",
       "      <td>2700.000000</td>\n",
       "      <td>2007.000000</td>\n",
       "    </tr>\n",
       "    <tr>\n",
       "      <th>25%</th>\n",
       "      <td>86.750000</td>\n",
       "      <td>39.225000</td>\n",
       "      <td>15.600000</td>\n",
       "      <td>190.000000</td>\n",
       "      <td>3550.000000</td>\n",
       "      <td>2007.000000</td>\n",
       "    </tr>\n",
       "    <tr>\n",
       "      <th>50%</th>\n",
       "      <td>172.500000</td>\n",
       "      <td>44.450000</td>\n",
       "      <td>17.300000</td>\n",
       "      <td>197.000000</td>\n",
       "      <td>4050.000000</td>\n",
       "      <td>2008.000000</td>\n",
       "    </tr>\n",
       "    <tr>\n",
       "      <th>75%</th>\n",
       "      <td>258.250000</td>\n",
       "      <td>48.500000</td>\n",
       "      <td>18.700000</td>\n",
       "      <td>213.000000</td>\n",
       "      <td>4750.000000</td>\n",
       "      <td>2009.000000</td>\n",
       "    </tr>\n",
       "    <tr>\n",
       "      <th>max</th>\n",
       "      <td>344.000000</td>\n",
       "      <td>59.600000</td>\n",
       "      <td>21.500000</td>\n",
       "      <td>231.000000</td>\n",
       "      <td>6300.000000</td>\n",
       "      <td>2009.000000</td>\n",
       "    </tr>\n",
       "  </tbody>\n",
       "</table>\n",
       "</div>"
      ],
      "text/plain": [
       "            rowid  bill_length_mm  bill_depth_mm  flipper_length_mm  \\\n",
       "count  344.000000      342.000000     342.000000         342.000000   \n",
       "mean   172.500000       43.921930      17.151170         200.915205   \n",
       "std     99.448479        5.459584       1.974793          14.061714   \n",
       "min      1.000000       32.100000      13.100000         172.000000   \n",
       "25%     86.750000       39.225000      15.600000         190.000000   \n",
       "50%    172.500000       44.450000      17.300000         197.000000   \n",
       "75%    258.250000       48.500000      18.700000         213.000000   \n",
       "max    344.000000       59.600000      21.500000         231.000000   \n",
       "\n",
       "       body_mass_g         year  \n",
       "count   342.000000   344.000000  \n",
       "mean   4201.754386  2008.029070  \n",
       "std     801.954536     0.818356  \n",
       "min    2700.000000  2007.000000  \n",
       "25%    3550.000000  2007.000000  \n",
       "50%    4050.000000  2008.000000  \n",
       "75%    4750.000000  2009.000000  \n",
       "max    6300.000000  2009.000000  "
      ]
     },
     "execution_count": 4,
     "metadata": {},
     "output_type": "execute_result"
    }
   ],
   "source": [
    "penguins.describe()"
   ]
  },
  {
   "cell_type": "code",
   "execution_count": 5,
   "id": "a2bff1ec-f8e8-4be0-9eb8-eff742e500d9",
   "metadata": {},
   "outputs": [
    {
     "data": {
      "text/html": [
       "<div>\n",
       "<style scoped>\n",
       "    .dataframe tbody tr th:only-of-type {\n",
       "        vertical-align: middle;\n",
       "    }\n",
       "\n",
       "    .dataframe tbody tr th {\n",
       "        vertical-align: top;\n",
       "    }\n",
       "\n",
       "    .dataframe thead th {\n",
       "        text-align: right;\n",
       "    }\n",
       "</style>\n",
       "<table border=\"1\" class=\"dataframe\">\n",
       "  <thead>\n",
       "    <tr style=\"text-align: right;\">\n",
       "      <th></th>\n",
       "      <th>count</th>\n",
       "      <th>mean</th>\n",
       "      <th>std</th>\n",
       "      <th>min</th>\n",
       "      <th>25%</th>\n",
       "      <th>50%</th>\n",
       "      <th>75%</th>\n",
       "      <th>max</th>\n",
       "    </tr>\n",
       "  </thead>\n",
       "  <tbody>\n",
       "    <tr>\n",
       "      <th>rowid</th>\n",
       "      <td>344.0</td>\n",
       "      <td>172.500000</td>\n",
       "      <td>99.448479</td>\n",
       "      <td>1.0</td>\n",
       "      <td>86.750</td>\n",
       "      <td>172.50</td>\n",
       "      <td>258.25</td>\n",
       "      <td>344.0</td>\n",
       "    </tr>\n",
       "    <tr>\n",
       "      <th>bill_length_mm</th>\n",
       "      <td>342.0</td>\n",
       "      <td>43.921930</td>\n",
       "      <td>5.459584</td>\n",
       "      <td>32.1</td>\n",
       "      <td>39.225</td>\n",
       "      <td>44.45</td>\n",
       "      <td>48.50</td>\n",
       "      <td>59.6</td>\n",
       "    </tr>\n",
       "    <tr>\n",
       "      <th>bill_depth_mm</th>\n",
       "      <td>342.0</td>\n",
       "      <td>17.151170</td>\n",
       "      <td>1.974793</td>\n",
       "      <td>13.1</td>\n",
       "      <td>15.600</td>\n",
       "      <td>17.30</td>\n",
       "      <td>18.70</td>\n",
       "      <td>21.5</td>\n",
       "    </tr>\n",
       "    <tr>\n",
       "      <th>flipper_length_mm</th>\n",
       "      <td>342.0</td>\n",
       "      <td>200.915205</td>\n",
       "      <td>14.061714</td>\n",
       "      <td>172.0</td>\n",
       "      <td>190.000</td>\n",
       "      <td>197.00</td>\n",
       "      <td>213.00</td>\n",
       "      <td>231.0</td>\n",
       "    </tr>\n",
       "    <tr>\n",
       "      <th>body_mass_g</th>\n",
       "      <td>342.0</td>\n",
       "      <td>4201.754386</td>\n",
       "      <td>801.954536</td>\n",
       "      <td>2700.0</td>\n",
       "      <td>3550.000</td>\n",
       "      <td>4050.00</td>\n",
       "      <td>4750.00</td>\n",
       "      <td>6300.0</td>\n",
       "    </tr>\n",
       "    <tr>\n",
       "      <th>year</th>\n",
       "      <td>344.0</td>\n",
       "      <td>2008.029070</td>\n",
       "      <td>0.818356</td>\n",
       "      <td>2007.0</td>\n",
       "      <td>2007.000</td>\n",
       "      <td>2008.00</td>\n",
       "      <td>2009.00</td>\n",
       "      <td>2009.0</td>\n",
       "    </tr>\n",
       "  </tbody>\n",
       "</table>\n",
       "</div>"
      ],
      "text/plain": [
       "                   count         mean         std     min       25%      50%  \\\n",
       "rowid              344.0   172.500000   99.448479     1.0    86.750   172.50   \n",
       "bill_length_mm     342.0    43.921930    5.459584    32.1    39.225    44.45   \n",
       "bill_depth_mm      342.0    17.151170    1.974793    13.1    15.600    17.30   \n",
       "flipper_length_mm  342.0   200.915205   14.061714   172.0   190.000   197.00   \n",
       "body_mass_g        342.0  4201.754386  801.954536  2700.0  3550.000  4050.00   \n",
       "year               344.0  2008.029070    0.818356  2007.0  2007.000  2008.00   \n",
       "\n",
       "                       75%     max  \n",
       "rowid               258.25   344.0  \n",
       "bill_length_mm       48.50    59.6  \n",
       "bill_depth_mm        18.70    21.5  \n",
       "flipper_length_mm   213.00   231.0  \n",
       "body_mass_g        4750.00  6300.0  \n",
       "year               2009.00  2009.0  "
      ]
     },
     "execution_count": 5,
     "metadata": {},
     "output_type": "execute_result"
    }
   ],
   "source": [
    "penguins.describe().T"
   ]
  },
  {
   "cell_type": "markdown",
   "id": "d65f1196-82e9-4b4b-8dd3-6bc99188da8d",
   "metadata": {},
   "source": [
    "<h2>Checking Null Values</h2>"
   ]
  },
  {
   "cell_type": "code",
   "execution_count": 6,
   "id": "6039e59a-864a-43c1-9f33-92911be57385",
   "metadata": {},
   "outputs": [
    {
     "data": {
      "text/html": [
       "<div>\n",
       "<style scoped>\n",
       "    .dataframe tbody tr th:only-of-type {\n",
       "        vertical-align: middle;\n",
       "    }\n",
       "\n",
       "    .dataframe tbody tr th {\n",
       "        vertical-align: top;\n",
       "    }\n",
       "\n",
       "    .dataframe thead th {\n",
       "        text-align: right;\n",
       "    }\n",
       "</style>\n",
       "<table border=\"1\" class=\"dataframe\">\n",
       "  <thead>\n",
       "    <tr style=\"text-align: right;\">\n",
       "      <th></th>\n",
       "      <th>rowid</th>\n",
       "      <th>species</th>\n",
       "      <th>island</th>\n",
       "      <th>bill_length_mm</th>\n",
       "      <th>bill_depth_mm</th>\n",
       "      <th>flipper_length_mm</th>\n",
       "      <th>body_mass_g</th>\n",
       "      <th>sex</th>\n",
       "      <th>year</th>\n",
       "    </tr>\n",
       "  </thead>\n",
       "  <tbody>\n",
       "    <tr>\n",
       "      <th>0</th>\n",
       "      <td>False</td>\n",
       "      <td>False</td>\n",
       "      <td>False</td>\n",
       "      <td>False</td>\n",
       "      <td>False</td>\n",
       "      <td>False</td>\n",
       "      <td>False</td>\n",
       "      <td>False</td>\n",
       "      <td>False</td>\n",
       "    </tr>\n",
       "    <tr>\n",
       "      <th>1</th>\n",
       "      <td>False</td>\n",
       "      <td>False</td>\n",
       "      <td>False</td>\n",
       "      <td>False</td>\n",
       "      <td>False</td>\n",
       "      <td>False</td>\n",
       "      <td>False</td>\n",
       "      <td>False</td>\n",
       "      <td>False</td>\n",
       "    </tr>\n",
       "    <tr>\n",
       "      <th>2</th>\n",
       "      <td>False</td>\n",
       "      <td>False</td>\n",
       "      <td>False</td>\n",
       "      <td>False</td>\n",
       "      <td>False</td>\n",
       "      <td>False</td>\n",
       "      <td>False</td>\n",
       "      <td>False</td>\n",
       "      <td>False</td>\n",
       "    </tr>\n",
       "    <tr>\n",
       "      <th>3</th>\n",
       "      <td>False</td>\n",
       "      <td>False</td>\n",
       "      <td>False</td>\n",
       "      <td>True</td>\n",
       "      <td>True</td>\n",
       "      <td>True</td>\n",
       "      <td>True</td>\n",
       "      <td>True</td>\n",
       "      <td>False</td>\n",
       "    </tr>\n",
       "    <tr>\n",
       "      <th>4</th>\n",
       "      <td>False</td>\n",
       "      <td>False</td>\n",
       "      <td>False</td>\n",
       "      <td>False</td>\n",
       "      <td>False</td>\n",
       "      <td>False</td>\n",
       "      <td>False</td>\n",
       "      <td>False</td>\n",
       "      <td>False</td>\n",
       "    </tr>\n",
       "    <tr>\n",
       "      <th>...</th>\n",
       "      <td>...</td>\n",
       "      <td>...</td>\n",
       "      <td>...</td>\n",
       "      <td>...</td>\n",
       "      <td>...</td>\n",
       "      <td>...</td>\n",
       "      <td>...</td>\n",
       "      <td>...</td>\n",
       "      <td>...</td>\n",
       "    </tr>\n",
       "    <tr>\n",
       "      <th>339</th>\n",
       "      <td>False</td>\n",
       "      <td>False</td>\n",
       "      <td>False</td>\n",
       "      <td>False</td>\n",
       "      <td>False</td>\n",
       "      <td>False</td>\n",
       "      <td>False</td>\n",
       "      <td>False</td>\n",
       "      <td>False</td>\n",
       "    </tr>\n",
       "    <tr>\n",
       "      <th>340</th>\n",
       "      <td>False</td>\n",
       "      <td>False</td>\n",
       "      <td>False</td>\n",
       "      <td>False</td>\n",
       "      <td>False</td>\n",
       "      <td>False</td>\n",
       "      <td>False</td>\n",
       "      <td>False</td>\n",
       "      <td>False</td>\n",
       "    </tr>\n",
       "    <tr>\n",
       "      <th>341</th>\n",
       "      <td>False</td>\n",
       "      <td>False</td>\n",
       "      <td>False</td>\n",
       "      <td>False</td>\n",
       "      <td>False</td>\n",
       "      <td>False</td>\n",
       "      <td>False</td>\n",
       "      <td>False</td>\n",
       "      <td>False</td>\n",
       "    </tr>\n",
       "    <tr>\n",
       "      <th>342</th>\n",
       "      <td>False</td>\n",
       "      <td>False</td>\n",
       "      <td>False</td>\n",
       "      <td>False</td>\n",
       "      <td>False</td>\n",
       "      <td>False</td>\n",
       "      <td>False</td>\n",
       "      <td>False</td>\n",
       "      <td>False</td>\n",
       "    </tr>\n",
       "    <tr>\n",
       "      <th>343</th>\n",
       "      <td>False</td>\n",
       "      <td>False</td>\n",
       "      <td>False</td>\n",
       "      <td>False</td>\n",
       "      <td>False</td>\n",
       "      <td>False</td>\n",
       "      <td>False</td>\n",
       "      <td>False</td>\n",
       "      <td>False</td>\n",
       "    </tr>\n",
       "  </tbody>\n",
       "</table>\n",
       "<p>344 rows × 9 columns</p>\n",
       "</div>"
      ],
      "text/plain": [
       "     rowid  species  island  bill_length_mm  bill_depth_mm  flipper_length_mm  \\\n",
       "0    False    False   False           False          False              False   \n",
       "1    False    False   False           False          False              False   \n",
       "2    False    False   False           False          False              False   \n",
       "3    False    False   False            True           True               True   \n",
       "4    False    False   False           False          False              False   \n",
       "..     ...      ...     ...             ...            ...                ...   \n",
       "339  False    False   False           False          False              False   \n",
       "340  False    False   False           False          False              False   \n",
       "341  False    False   False           False          False              False   \n",
       "342  False    False   False           False          False              False   \n",
       "343  False    False   False           False          False              False   \n",
       "\n",
       "     body_mass_g    sex   year  \n",
       "0          False  False  False  \n",
       "1          False  False  False  \n",
       "2          False  False  False  \n",
       "3           True   True  False  \n",
       "4          False  False  False  \n",
       "..           ...    ...    ...  \n",
       "339        False  False  False  \n",
       "340        False  False  False  \n",
       "341        False  False  False  \n",
       "342        False  False  False  \n",
       "343        False  False  False  \n",
       "\n",
       "[344 rows x 9 columns]"
      ]
     },
     "execution_count": 6,
     "metadata": {},
     "output_type": "execute_result"
    }
   ],
   "source": [
    "penguins.isnull()"
   ]
  },
  {
   "cell_type": "code",
   "execution_count": 7,
   "id": "2d410cdf-89e7-4503-a0b1-f41a81dfd9e5",
   "metadata": {},
   "outputs": [
    {
     "data": {
      "text/plain": [
       "rowid                 0\n",
       "species               0\n",
       "island                0\n",
       "bill_length_mm        2\n",
       "bill_depth_mm         2\n",
       "flipper_length_mm     2\n",
       "body_mass_g           2\n",
       "sex                  11\n",
       "year                  0\n",
       "dtype: int64"
      ]
     },
     "execution_count": 7,
     "metadata": {},
     "output_type": "execute_result"
    }
   ],
   "source": [
    "penguins.isnull().sum()"
   ]
  },
  {
   "cell_type": "markdown",
   "id": "9dd34332-c5c7-4e23-b3c7-5134804d1e03",
   "metadata": {},
   "source": [
    "<h2>Filtering a column</h2>"
   ]
  },
  {
   "cell_type": "code",
   "execution_count": 8,
   "id": "bc367ab7-9715-4df4-8644-85f61075c8ba",
   "metadata": {},
   "outputs": [
    {
     "data": {
      "text/plain": [
       "0         Adelie\n",
       "1         Adelie\n",
       "2         Adelie\n",
       "3         Adelie\n",
       "4         Adelie\n",
       "         ...    \n",
       "339    Chinstrap\n",
       "340    Chinstrap\n",
       "341    Chinstrap\n",
       "342    Chinstrap\n",
       "343    Chinstrap\n",
       "Name: species, Length: 344, dtype: object"
      ]
     },
     "execution_count": 8,
     "metadata": {},
     "output_type": "execute_result"
    }
   ],
   "source": [
    "penguins['species']"
   ]
  },
  {
   "cell_type": "code",
   "execution_count": 9,
   "id": "1678572e-9e90-4691-9037-b9408dcfea6b",
   "metadata": {},
   "outputs": [
    {
     "data": {
      "text/plain": [
       "species\n",
       "Adelie       152\n",
       "Gentoo       124\n",
       "Chinstrap     68\n",
       "Name: count, dtype: int64"
      ]
     },
     "execution_count": 9,
     "metadata": {},
     "output_type": "execute_result"
    }
   ],
   "source": [
    "penguins['species'].value_counts()"
   ]
  },
  {
   "cell_type": "code",
   "execution_count": 10,
   "id": "25551a9d-c8d3-4d8b-9581-3cbd83b84484",
   "metadata": {},
   "outputs": [
    {
     "data": {
      "text/plain": [
       "0      False\n",
       "1      False\n",
       "2      False\n",
       "3      False\n",
       "4      False\n",
       "       ...  \n",
       "339     True\n",
       "340     True\n",
       "341     True\n",
       "342     True\n",
       "343     True\n",
       "Name: species, Length: 344, dtype: bool"
      ]
     },
     "execution_count": 10,
     "metadata": {},
     "output_type": "execute_result"
    }
   ],
   "source": [
    "penguins['species'] == 'Chinstrap'"
   ]
  },
  {
   "cell_type": "markdown",
   "id": "0375c481-9b81-4653-aaf8-995a83ddca25",
   "metadata": {},
   "source": [
    "<h2>FILLING UP NULL VALUES</h2>"
   ]
  },
  {
   "cell_type": "code",
   "execution_count": 11,
   "id": "cc46ecbf-2336-4558-8ab8-c7d5cd8eaaec",
   "metadata": {},
   "outputs": [
    {
     "data": {
      "text/plain": [
       "rowid                 0\n",
       "species               0\n",
       "island                0\n",
       "bill_length_mm        2\n",
       "bill_depth_mm         2\n",
       "flipper_length_mm     2\n",
       "body_mass_g           2\n",
       "sex                  11\n",
       "year                  0\n",
       "dtype: int64"
      ]
     },
     "execution_count": 11,
     "metadata": {},
     "output_type": "execute_result"
    }
   ],
   "source": [
    "penguins.isnull().sum()"
   ]
  },
  {
   "cell_type": "code",
   "execution_count": 12,
   "id": "a1373e1d-3ba2-4ce3-aa27-6ba3b3c5647a",
   "metadata": {},
   "outputs": [
    {
     "data": {
      "text/plain": [
       "np.float64(43.9219298245614)"
      ]
     },
     "execution_count": 12,
     "metadata": {},
     "output_type": "execute_result"
    }
   ],
   "source": [
    "penguins['bill_length_mm'].mean()"
   ]
  },
  {
   "cell_type": "code",
   "execution_count": 13,
   "id": "d4197895-d2d8-4d61-8edd-9c9d3e338703",
   "metadata": {},
   "outputs": [],
   "source": [
    "penguins['bill_length_mm'] = penguins['bill_length_mm'].fillna(penguins['bill_length_mm'].mean())"
   ]
  },
  {
   "cell_type": "code",
   "execution_count": 14,
   "id": "57046aa7-43be-45ba-b5a3-eadc2b1dd55f",
   "metadata": {},
   "outputs": [
    {
     "data": {
      "text/plain": [
       "rowid                 0\n",
       "species               0\n",
       "island                0\n",
       "bill_length_mm        0\n",
       "bill_depth_mm         2\n",
       "flipper_length_mm     2\n",
       "body_mass_g           2\n",
       "sex                  11\n",
       "year                  0\n",
       "dtype: int64"
      ]
     },
     "execution_count": 14,
     "metadata": {},
     "output_type": "execute_result"
    }
   ],
   "source": [
    "penguins.isnull().sum()"
   ]
  },
  {
   "cell_type": "code",
   "execution_count": 15,
   "id": "4e3a23e7-10eb-4cea-809a-6ede90e34b04",
   "metadata": {},
   "outputs": [],
   "source": [
    "penguins['bill_depth_mm'] = penguins['bill_depth_mm'].fillna(penguins['bill_depth_mm'].mean())\n",
    "penguins['flipper_length_mm'] = penguins['flipper_length_mm'].fillna(penguins['flipper_length_mm'].mean())\n",
    "penguins['body_mass_g'] = penguins['body_mass_g'].fillna(penguins['body_mass_g'].mean())"
   ]
  },
  {
   "cell_type": "code",
   "execution_count": 16,
   "id": "33ee2557-53e1-41f9-a32c-a08da44a2a0a",
   "metadata": {},
   "outputs": [
    {
     "data": {
      "text/plain": [
       "rowid                 0\n",
       "species               0\n",
       "island                0\n",
       "bill_length_mm        0\n",
       "bill_depth_mm         0\n",
       "flipper_length_mm     0\n",
       "body_mass_g           0\n",
       "sex                  11\n",
       "year                  0\n",
       "dtype: int64"
      ]
     },
     "execution_count": 16,
     "metadata": {},
     "output_type": "execute_result"
    }
   ],
   "source": [
    "penguins.isnull().sum()"
   ]
  },
  {
   "cell_type": "code",
   "execution_count": 17,
   "id": "f8284a6a-444f-4dea-aa55-766564fce700",
   "metadata": {},
   "outputs": [],
   "source": [
    "penguins['sex'] = penguins['sex'].fillna(penguins['sex'].mode()[0])"
   ]
  },
  {
   "cell_type": "code",
   "execution_count": 18,
   "id": "7fc94b49-04ef-45a8-805d-4235863e519d",
   "metadata": {},
   "outputs": [
    {
     "data": {
      "text/plain": [
       "rowid                0\n",
       "species              0\n",
       "island               0\n",
       "bill_length_mm       0\n",
       "bill_depth_mm        0\n",
       "flipper_length_mm    0\n",
       "body_mass_g          0\n",
       "sex                  0\n",
       "year                 0\n",
       "dtype: int64"
      ]
     },
     "execution_count": 18,
     "metadata": {},
     "output_type": "execute_result"
    }
   ],
   "source": [
    "penguins.isnull().sum()"
   ]
  },
  {
   "cell_type": "code",
   "execution_count": 19,
   "id": "0967aa0b-66fe-4749-85d9-82bceebda330",
   "metadata": {},
   "outputs": [
    {
     "name": "stdout",
     "output_type": "stream",
     "text": [
      "<class 'pandas.core.frame.DataFrame'>\n",
      "RangeIndex: 344 entries, 0 to 343\n",
      "Data columns (total 9 columns):\n",
      " #   Column             Non-Null Count  Dtype  \n",
      "---  ------             --------------  -----  \n",
      " 0   rowid              344 non-null    int64  \n",
      " 1   species            344 non-null    object \n",
      " 2   island             344 non-null    object \n",
      " 3   bill_length_mm     344 non-null    float64\n",
      " 4   bill_depth_mm      344 non-null    float64\n",
      " 5   flipper_length_mm  344 non-null    float64\n",
      " 6   body_mass_g        344 non-null    float64\n",
      " 7   sex                344 non-null    object \n",
      " 8   year               344 non-null    int64  \n",
      "dtypes: float64(4), int64(2), object(3)\n",
      "memory usage: 24.3+ KB\n"
     ]
    }
   ],
   "source": [
    "penguins.info()"
   ]
  },
  {
   "cell_type": "markdown",
   "id": "0f86b4f5-b5f0-4cdd-b70b-8a58e8f1e0e2",
   "metadata": {},
   "source": [
    "<h2>Changing the Data type</h2>"
   ]
  },
  {
   "cell_type": "code",
   "execution_count": 20,
   "id": "5d20554b-9423-4e4f-afba-4248a1d45730",
   "metadata": {},
   "outputs": [],
   "source": [
    "penguins['species'] = penguins['species'].astype('category')\n",
    "penguins['island'] = penguins['island'].astype('category')\n",
    "penguins['sex'] = penguins['sex'].astype('category')\n",
    "penguins['year'] = penguins['year'].astype('category')"
   ]
  },
  {
   "cell_type": "code",
   "execution_count": 21,
   "id": "fd4e77bb-70f8-4e55-8d4f-12d5f6b1dc6c",
   "metadata": {},
   "outputs": [
    {
     "name": "stdout",
     "output_type": "stream",
     "text": [
      "<class 'pandas.core.frame.DataFrame'>\n",
      "RangeIndex: 344 entries, 0 to 343\n",
      "Data columns (total 9 columns):\n",
      " #   Column             Non-Null Count  Dtype   \n",
      "---  ------             --------------  -----   \n",
      " 0   rowid              344 non-null    int64   \n",
      " 1   species            344 non-null    category\n",
      " 2   island             344 non-null    category\n",
      " 3   bill_length_mm     344 non-null    float64 \n",
      " 4   bill_depth_mm      344 non-null    float64 \n",
      " 5   flipper_length_mm  344 non-null    float64 \n",
      " 6   body_mass_g        344 non-null    float64 \n",
      " 7   sex                344 non-null    category\n",
      " 8   year               344 non-null    category\n",
      "dtypes: category(4), float64(4), int64(1)\n",
      "memory usage: 15.4 KB\n"
     ]
    }
   ],
   "source": [
    "penguins.info()"
   ]
  },
  {
   "cell_type": "markdown",
   "id": "86a3c4aa-e251-49a3-8cb6-fb438ebf0aeb",
   "metadata": {},
   "source": [
    "<h2>Exploratory Data Analytics</h2>\n",
    "<hr>"
   ]
  },
  {
   "cell_type": "markdown",
   "id": "90c250d6-e724-4c84-9f69-a86b68be89b8",
   "metadata": {},
   "source": [
    "<h3>Question 1(Example)</h3>\n",
    "<h4>which specie has the heaviest body mass ?</p>"
   ]
  },
  {
   "cell_type": "code",
   "execution_count": 22,
   "id": "ef79ceb0-bf43-4c08-aadb-c952a6b1e80a",
   "metadata": {},
   "outputs": [
    {
     "data": {
      "text/plain": [
       "np.float64(4201.754385964912)"
      ]
     },
     "execution_count": 22,
     "metadata": {},
     "output_type": "execute_result"
    }
   ],
   "source": [
    "penguins['body_mass_g'].mean()"
   ]
  },
  {
   "cell_type": "code",
   "execution_count": 23,
   "id": "5fc5773b-0ac3-4a02-bb08-8620c3cbc71a",
   "metadata": {},
   "outputs": [],
   "source": [
    "gentoo_df = penguins[penguins['species'] == 'Gentoo']"
   ]
  },
  {
   "cell_type": "code",
   "execution_count": 24,
   "id": "7ff73baf-229e-4e40-a067-6a192fc5ebeb",
   "metadata": {},
   "outputs": [
    {
     "data": {
      "text/plain": [
       "np.float64(5068.965761177136)"
      ]
     },
     "execution_count": 24,
     "metadata": {},
     "output_type": "execute_result"
    }
   ],
   "source": [
    "gentoo_df['body_mass_g'].mean()"
   ]
  },
  {
   "cell_type": "code",
   "execution_count": 25,
   "id": "789fecf7-6d07-4266-b4b0-536c0dd5e6de",
   "metadata": {},
   "outputs": [],
   "source": [
    "Chinstrap_df = penguins[penguins['species'] == 'Chinstrap']"
   ]
  },
  {
   "cell_type": "code",
   "execution_count": 26,
   "id": "04775572-88cf-4e2e-8c56-8215ecd78923",
   "metadata": {},
   "outputs": [
    {
     "data": {
      "text/plain": [
       "np.float64(3733.0882352941176)"
      ]
     },
     "execution_count": 26,
     "metadata": {},
     "output_type": "execute_result"
    }
   ],
   "source": [
    "Chinstrap_df['body_mass_g'].mean()"
   ]
  },
  {
   "cell_type": "code",
   "execution_count": 27,
   "id": "67e3b58b-d0c3-4217-834d-bb6763df1690",
   "metadata": {},
   "outputs": [],
   "source": [
    "adelie_df = penguins[penguins['species'] == 'Adelie']"
   ]
  },
  {
   "cell_type": "code",
   "execution_count": 28,
   "id": "6cd97e5d-3d3a-43b5-81c2-8c0ecf0cff40",
   "metadata": {},
   "outputs": [
    {
     "data": {
      "text/plain": [
       "np.float64(3703.95891043398)"
      ]
     },
     "execution_count": 28,
     "metadata": {},
     "output_type": "execute_result"
    }
   ],
   "source": [
    "adelie_df['body_mass_g'].mean()"
   ]
  },
  {
   "cell_type": "markdown",
   "id": "ed4f7dd9-837f-4fa2-b18f-9c1db05169a0",
   "metadata": {},
   "source": [
    "<h4>Insight No.1</h4>\n",
    "<p>Gentoo has the heaviest average body mass </p>"
   ]
  },
  {
   "cell_type": "code",
   "execution_count": 29,
   "id": "4f744514-e3a4-46d5-899b-3d0be9d0c38d",
   "metadata": {},
   "outputs": [],
   "source": [
    "penguins['mass_kg'] = np.round(penguins['body_mass_g'] / 1000, 1)"
   ]
  },
  {
   "cell_type": "code",
   "execution_count": 30,
   "id": "67726767-dbb0-4235-bc7b-0ecc6a9b8165",
   "metadata": {},
   "outputs": [
    {
     "data": {
      "text/html": [
       "<div>\n",
       "<style scoped>\n",
       "    .dataframe tbody tr th:only-of-type {\n",
       "        vertical-align: middle;\n",
       "    }\n",
       "\n",
       "    .dataframe tbody tr th {\n",
       "        vertical-align: top;\n",
       "    }\n",
       "\n",
       "    .dataframe thead th {\n",
       "        text-align: right;\n",
       "    }\n",
       "</style>\n",
       "<table border=\"1\" class=\"dataframe\">\n",
       "  <thead>\n",
       "    <tr style=\"text-align: right;\">\n",
       "      <th></th>\n",
       "      <th>rowid</th>\n",
       "      <th>species</th>\n",
       "      <th>island</th>\n",
       "      <th>bill_length_mm</th>\n",
       "      <th>bill_depth_mm</th>\n",
       "      <th>flipper_length_mm</th>\n",
       "      <th>body_mass_g</th>\n",
       "      <th>sex</th>\n",
       "      <th>year</th>\n",
       "      <th>mass_kg</th>\n",
       "    </tr>\n",
       "  </thead>\n",
       "  <tbody>\n",
       "    <tr>\n",
       "      <th>0</th>\n",
       "      <td>1</td>\n",
       "      <td>Adelie</td>\n",
       "      <td>Torgersen</td>\n",
       "      <td>39.10000</td>\n",
       "      <td>18.70000</td>\n",
       "      <td>181.000000</td>\n",
       "      <td>3750.000000</td>\n",
       "      <td>male</td>\n",
       "      <td>2007</td>\n",
       "      <td>3.8</td>\n",
       "    </tr>\n",
       "    <tr>\n",
       "      <th>1</th>\n",
       "      <td>2</td>\n",
       "      <td>Adelie</td>\n",
       "      <td>Torgersen</td>\n",
       "      <td>39.50000</td>\n",
       "      <td>17.40000</td>\n",
       "      <td>186.000000</td>\n",
       "      <td>3800.000000</td>\n",
       "      <td>female</td>\n",
       "      <td>2007</td>\n",
       "      <td>3.8</td>\n",
       "    </tr>\n",
       "    <tr>\n",
       "      <th>2</th>\n",
       "      <td>3</td>\n",
       "      <td>Adelie</td>\n",
       "      <td>Torgersen</td>\n",
       "      <td>40.30000</td>\n",
       "      <td>18.00000</td>\n",
       "      <td>195.000000</td>\n",
       "      <td>3250.000000</td>\n",
       "      <td>female</td>\n",
       "      <td>2007</td>\n",
       "      <td>3.2</td>\n",
       "    </tr>\n",
       "    <tr>\n",
       "      <th>3</th>\n",
       "      <td>4</td>\n",
       "      <td>Adelie</td>\n",
       "      <td>Torgersen</td>\n",
       "      <td>43.92193</td>\n",
       "      <td>17.15117</td>\n",
       "      <td>200.915205</td>\n",
       "      <td>4201.754386</td>\n",
       "      <td>male</td>\n",
       "      <td>2007</td>\n",
       "      <td>4.2</td>\n",
       "    </tr>\n",
       "    <tr>\n",
       "      <th>4</th>\n",
       "      <td>5</td>\n",
       "      <td>Adelie</td>\n",
       "      <td>Torgersen</td>\n",
       "      <td>36.70000</td>\n",
       "      <td>19.30000</td>\n",
       "      <td>193.000000</td>\n",
       "      <td>3450.000000</td>\n",
       "      <td>female</td>\n",
       "      <td>2007</td>\n",
       "      <td>3.4</td>\n",
       "    </tr>\n",
       "    <tr>\n",
       "      <th>...</th>\n",
       "      <td>...</td>\n",
       "      <td>...</td>\n",
       "      <td>...</td>\n",
       "      <td>...</td>\n",
       "      <td>...</td>\n",
       "      <td>...</td>\n",
       "      <td>...</td>\n",
       "      <td>...</td>\n",
       "      <td>...</td>\n",
       "      <td>...</td>\n",
       "    </tr>\n",
       "    <tr>\n",
       "      <th>339</th>\n",
       "      <td>340</td>\n",
       "      <td>Chinstrap</td>\n",
       "      <td>Dream</td>\n",
       "      <td>55.80000</td>\n",
       "      <td>19.80000</td>\n",
       "      <td>207.000000</td>\n",
       "      <td>4000.000000</td>\n",
       "      <td>male</td>\n",
       "      <td>2009</td>\n",
       "      <td>4.0</td>\n",
       "    </tr>\n",
       "    <tr>\n",
       "      <th>340</th>\n",
       "      <td>341</td>\n",
       "      <td>Chinstrap</td>\n",
       "      <td>Dream</td>\n",
       "      <td>43.50000</td>\n",
       "      <td>18.10000</td>\n",
       "      <td>202.000000</td>\n",
       "      <td>3400.000000</td>\n",
       "      <td>female</td>\n",
       "      <td>2009</td>\n",
       "      <td>3.4</td>\n",
       "    </tr>\n",
       "    <tr>\n",
       "      <th>341</th>\n",
       "      <td>342</td>\n",
       "      <td>Chinstrap</td>\n",
       "      <td>Dream</td>\n",
       "      <td>49.60000</td>\n",
       "      <td>18.20000</td>\n",
       "      <td>193.000000</td>\n",
       "      <td>3775.000000</td>\n",
       "      <td>male</td>\n",
       "      <td>2009</td>\n",
       "      <td>3.8</td>\n",
       "    </tr>\n",
       "    <tr>\n",
       "      <th>342</th>\n",
       "      <td>343</td>\n",
       "      <td>Chinstrap</td>\n",
       "      <td>Dream</td>\n",
       "      <td>50.80000</td>\n",
       "      <td>19.00000</td>\n",
       "      <td>210.000000</td>\n",
       "      <td>4100.000000</td>\n",
       "      <td>male</td>\n",
       "      <td>2009</td>\n",
       "      <td>4.1</td>\n",
       "    </tr>\n",
       "    <tr>\n",
       "      <th>343</th>\n",
       "      <td>344</td>\n",
       "      <td>Chinstrap</td>\n",
       "      <td>Dream</td>\n",
       "      <td>50.20000</td>\n",
       "      <td>18.70000</td>\n",
       "      <td>198.000000</td>\n",
       "      <td>3775.000000</td>\n",
       "      <td>female</td>\n",
       "      <td>2009</td>\n",
       "      <td>3.8</td>\n",
       "    </tr>\n",
       "  </tbody>\n",
       "</table>\n",
       "<p>344 rows × 10 columns</p>\n",
       "</div>"
      ],
      "text/plain": [
       "     rowid    species     island  bill_length_mm  bill_depth_mm  \\\n",
       "0        1     Adelie  Torgersen        39.10000       18.70000   \n",
       "1        2     Adelie  Torgersen        39.50000       17.40000   \n",
       "2        3     Adelie  Torgersen        40.30000       18.00000   \n",
       "3        4     Adelie  Torgersen        43.92193       17.15117   \n",
       "4        5     Adelie  Torgersen        36.70000       19.30000   \n",
       "..     ...        ...        ...             ...            ...   \n",
       "339    340  Chinstrap      Dream        55.80000       19.80000   \n",
       "340    341  Chinstrap      Dream        43.50000       18.10000   \n",
       "341    342  Chinstrap      Dream        49.60000       18.20000   \n",
       "342    343  Chinstrap      Dream        50.80000       19.00000   \n",
       "343    344  Chinstrap      Dream        50.20000       18.70000   \n",
       "\n",
       "     flipper_length_mm  body_mass_g     sex  year  mass_kg  \n",
       "0           181.000000  3750.000000    male  2007      3.8  \n",
       "1           186.000000  3800.000000  female  2007      3.8  \n",
       "2           195.000000  3250.000000  female  2007      3.2  \n",
       "3           200.915205  4201.754386    male  2007      4.2  \n",
       "4           193.000000  3450.000000  female  2007      3.4  \n",
       "..                 ...          ...     ...   ...      ...  \n",
       "339         207.000000  4000.000000    male  2009      4.0  \n",
       "340         202.000000  3400.000000  female  2009      3.4  \n",
       "341         193.000000  3775.000000    male  2009      3.8  \n",
       "342         210.000000  4100.000000    male  2009      4.1  \n",
       "343         198.000000  3775.000000  female  2009      3.8  \n",
       "\n",
       "[344 rows x 10 columns]"
      ]
     },
     "execution_count": 30,
     "metadata": {},
     "output_type": "execute_result"
    }
   ],
   "source": [
    "penguins"
   ]
  },
  {
   "cell_type": "code",
   "execution_count": 31,
   "id": "12b072e2-22c5-45f9-bfce-ef43ca6fd4e5",
   "metadata": {},
   "outputs": [
    {
     "data": {
      "text/plain": [
       "np.float64(6.3)"
      ]
     },
     "execution_count": 31,
     "metadata": {},
     "output_type": "execute_result"
    }
   ],
   "source": [
    "penguins['mass_kg'].max()"
   ]
  },
  {
   "cell_type": "code",
   "execution_count": 32,
   "id": "caf77004-455b-460b-8b44-2f889e69366c",
   "metadata": {},
   "outputs": [
    {
     "data": {
      "text/html": [
       "<div>\n",
       "<style scoped>\n",
       "    .dataframe tbody tr th:only-of-type {\n",
       "        vertical-align: middle;\n",
       "    }\n",
       "\n",
       "    .dataframe tbody tr th {\n",
       "        vertical-align: top;\n",
       "    }\n",
       "\n",
       "    .dataframe thead th {\n",
       "        text-align: right;\n",
       "    }\n",
       "</style>\n",
       "<table border=\"1\" class=\"dataframe\">\n",
       "  <thead>\n",
       "    <tr style=\"text-align: right;\">\n",
       "      <th></th>\n",
       "      <th>rowid</th>\n",
       "      <th>species</th>\n",
       "      <th>island</th>\n",
       "      <th>bill_length_mm</th>\n",
       "      <th>bill_depth_mm</th>\n",
       "      <th>flipper_length_mm</th>\n",
       "      <th>body_mass_g</th>\n",
       "      <th>sex</th>\n",
       "      <th>year</th>\n",
       "      <th>mass_kg</th>\n",
       "    </tr>\n",
       "  </thead>\n",
       "  <tbody>\n",
       "    <tr>\n",
       "      <th>169</th>\n",
       "      <td>170</td>\n",
       "      <td>Gentoo</td>\n",
       "      <td>Biscoe</td>\n",
       "      <td>49.2</td>\n",
       "      <td>15.2</td>\n",
       "      <td>221.0</td>\n",
       "      <td>6300.0</td>\n",
       "      <td>male</td>\n",
       "      <td>2007</td>\n",
       "      <td>6.3</td>\n",
       "    </tr>\n",
       "  </tbody>\n",
       "</table>\n",
       "</div>"
      ],
      "text/plain": [
       "     rowid species  island  bill_length_mm  bill_depth_mm  flipper_length_mm  \\\n",
       "169    170  Gentoo  Biscoe            49.2           15.2              221.0   \n",
       "\n",
       "     body_mass_g   sex  year  mass_kg  \n",
       "169       6300.0  male  2007      6.3  "
      ]
     },
     "execution_count": 32,
     "metadata": {},
     "output_type": "execute_result"
    }
   ],
   "source": [
    "penguins[penguins['mass_kg'] == 6.3]"
   ]
  },
  {
   "cell_type": "markdown",
   "id": "c229d6e0-b67b-4f34-9206-88a1113a602b",
   "metadata": {},
   "source": [
    "<h2>Activity(7 Questions & Insights)</h2>"
   ]
  },
  {
   "cell_type": "markdown",
   "id": "98726e8f-1aef-455d-8122-0ddc53023791",
   "metadata": {},
   "source": [
    "<h3>Question 1</h3>\n",
    "<h4>What is the maximum body mass of female penguins?</p>"
   ]
  },
  {
   "cell_type": "code",
   "execution_count": 33,
   "id": "d11e7203-7a57-4c5c-8be5-84826c14a383",
   "metadata": {},
   "outputs": [
    {
     "data": {
      "text/plain": [
       "np.float64(5200.0)"
      ]
     },
     "execution_count": 33,
     "metadata": {},
     "output_type": "execute_result"
    }
   ],
   "source": [
    "penguins[penguins['sex'] == 'female']['body_mass_g'].max()"
   ]
  },
  {
   "cell_type": "markdown",
   "id": "f189cc62-d7ec-4368-b52d-d9ecf3729f64",
   "metadata": {},
   "source": [
    "<h4>Insight No.1</h4>\n",
    "<p>The maximum body mass of female penguins is 5200.</p>"
   ]
  },
  {
   "cell_type": "markdown",
   "id": "df769b06-5f38-4be0-b2e3-6dd4de0b1eb7",
   "metadata": {},
   "source": [
    "<h3>Question 2</h3>\n",
    "<h4>What is the average bill depth for the Adelie species?</p>"
   ]
  },
  {
   "cell_type": "code",
   "execution_count": 34,
   "id": "9bfd6a8f-5445-4d10-9f50-189e1a17349b",
   "metadata": {},
   "outputs": [
    {
     "data": {
      "text/plain": [
       "np.float64(18.338494536780548)"
      ]
     },
     "execution_count": 34,
     "metadata": {},
     "output_type": "execute_result"
    }
   ],
   "source": [
    "penguins[penguins['species'] == 'Adelie']['bill_depth_mm'].mean()"
   ]
  },
  {
   "cell_type": "markdown",
   "id": "45659ee2-0347-4c6b-8a51-6ab99f8d9299",
   "metadata": {},
   "source": [
    "<h4>Insight No.2</h4>\n",
    "<p>The average bill depth of Adelie species is 18.3</p>"
   ]
  },
  {
   "cell_type": "markdown",
   "id": "f928271c-78b6-479e-b2c1-7101e904a9fe",
   "metadata": {},
   "source": [
    "<h3>Question 3</h3>\n",
    "<h4>What is the average body mass of male penguins from the 'Torgersen' island?</p>"
   ]
  },
  {
   "cell_type": "code",
   "execution_count": 35,
   "id": "ee5ea98c-4f43-4857-951b-9e4ba961564b",
   "metadata": {},
   "outputs": [
    {
     "data": {
      "text/plain": [
       "np.float64(3990.2412280701756)"
      ]
     },
     "execution_count": 35,
     "metadata": {},
     "output_type": "execute_result"
    }
   ],
   "source": [
    "penguins[(penguins['sex'] == 'male') & (penguins['island'] == 'Torgersen')]['body_mass_g'].mean()"
   ]
  },
  {
   "cell_type": "markdown",
   "id": "b73894c4-668f-401b-83fd-bd80afc97b0d",
   "metadata": {},
   "source": [
    "<h4>Insight No.3</h4>\n",
    "<p>The average body mass of male penguins from the Torgersen island is 3990.</p>"
   ]
  },
  {
   "cell_type": "markdown",
   "id": "e0465eec-ca1d-4b2c-8599-aa60c726c629",
   "metadata": {},
   "source": [
    "<h3>Question 4</h3>\n",
    "<h4>How many female penguins in year 2008?</p>"
   ]
  },
  {
   "cell_type": "code",
   "execution_count": 36,
   "id": "754859c6-cfb5-4144-b225-364dd660b3bf",
   "metadata": {},
   "outputs": [
    {
     "data": {
      "text/plain": [
       "56"
      ]
     },
     "execution_count": 36,
     "metadata": {},
     "output_type": "execute_result"
    }
   ],
   "source": [
    "len(penguins[(penguins['sex'] == 'female') & (penguins['year'] == 2008)])"
   ]
  },
  {
   "cell_type": "markdown",
   "id": "b8c48d7a-f75d-41dc-9fa2-d112215ddc9c",
   "metadata": {},
   "source": [
    "<h4>Insight No.4</h4>\n",
    "<p>There are 56 Female penguins in year 2008.</p>"
   ]
  },
  {
   "cell_type": "markdown",
   "id": "904ec234-afaa-4488-b690-0abb2e8f057d",
   "metadata": {},
   "source": [
    "<h3>Question 5</h3>\n",
    "<h4>How many penguins are in 3.5 below mass kg in Dream?</p>"
   ]
  },
  {
   "cell_type": "code",
   "execution_count": 37,
   "id": "819537fa-a599-49e6-bbd5-96798e416628",
   "metadata": {},
   "outputs": [
    {
     "data": {
      "text/plain": [
       "44"
      ]
     },
     "execution_count": 37,
     "metadata": {},
     "output_type": "execute_result"
    }
   ],
   "source": [
    "len(penguins[(penguins['island'] == 'Dream') & (penguins['body_mass_g'] <= 3500)])"
   ]
  },
  {
   "cell_type": "markdown",
   "id": "eccd7058-afa6-4eb9-8b5c-9271842e3c27",
   "metadata": {},
   "source": [
    "<h4>Insight No.5</h4>\n",
    "<p>There are 44 penguins in Dream that have mass kg of 3.5 below.</p>"
   ]
  },
  {
   "cell_type": "markdown",
   "id": "ef1bb85b-7ac4-466d-9057-039c4dc4aec8",
   "metadata": {},
   "source": [
    "<h3>Question 6</h3>\n",
    "<h4>What is the maximum body mass recorded for penguins from the Biscoe island?</p>"
   ]
  },
  {
   "cell_type": "code",
   "execution_count": 38,
   "id": "ce1bec98-db26-4f02-bc83-8275a96e5e3b",
   "metadata": {},
   "outputs": [
    {
     "data": {
      "text/plain": [
       "np.float64(6300.0)"
      ]
     },
     "execution_count": 38,
     "metadata": {},
     "output_type": "execute_result"
    }
   ],
   "source": [
    "penguins[penguins['island'] == 'Biscoe']['body_mass_g'].max()"
   ]
  },
  {
   "cell_type": "markdown",
   "id": "271128f9-a0ae-4a79-aeca-d2e4fde72807",
   "metadata": {},
   "source": [
    "<h4>Insight No.6</h4>\n",
    "<p>The maximum body mass recorded for penguins from the Biscoe island is 6300.</p>"
   ]
  },
  {
   "cell_type": "markdown",
   "id": "64dc7c26-94d8-4aca-ac1c-904a2137fdb9",
   "metadata": {},
   "source": [
    "<h3>Question 7</h3>\n",
    "<h4>What is the average flipper length for female penguins from the Dream island?</p>"
   ]
  },
  {
   "cell_type": "code",
   "execution_count": 41,
   "id": "c834fd1a-4b9c-42db-84fc-657d3ea806e0",
   "metadata": {},
   "outputs": [
    {
     "data": {
      "text/plain": [
       "np.float64(190.01639344262296)"
      ]
     },
     "execution_count": 41,
     "metadata": {},
     "output_type": "execute_result"
    }
   ],
   "source": [
    "penguins[(penguins['sex'] == 'female') & (penguins['island'] == 'Dream')]['flipper_length_mm'].mean()"
   ]
  },
  {
   "cell_type": "markdown",
   "id": "df875523-e9f5-4732-a49e-77d20eac91c6",
   "metadata": {},
   "source": [
    "<h4>Insight No.7</h4>\n",
    "<p>The average flipper length for Female penguins from the Dream island is 190</p>"
   ]
  },
  {
   "cell_type": "markdown",
   "id": "81822fd1-94da-4401-9f23-4ad275cfbd63",
   "metadata": {},
   "source": [
    "<h3>Question 8</h3>\n",
    "<h4>Among male Chinstrap penguins, what is the average bill depth and how does it compare to females?</h4>"
   ]
  },
  {
   "cell_type": "code",
   "execution_count": 48,
   "id": "54e29d89-2633-4a76-a15e-dbad31a9c91f",
   "metadata": {},
   "outputs": [
    {
     "data": {
      "text/plain": [
       "(np.float64(19.25294117647059), np.float64(17.588235294117652))"
      ]
     },
     "execution_count": 48,
     "metadata": {},
     "output_type": "execute_result"
    }
   ],
   "source": [
    "chinstrap = penguins[penguins['species'] == 'Chinstrap']\n",
    "male_avg = chinstrap[chinstrap['sex'] == 'male']['bill_depth_mm'].mean()\n",
    "female_avg = chinstrap[chinstrap['sex'] == 'female']['bill_depth_mm'].mean()\n",
    "\n",
    "male_avg, female_avg"
   ]
  },
  {
   "cell_type": "markdown",
   "id": "fd62302c-b022-4619-9002-2acd43ffe33d",
   "metadata": {},
   "source": [
    "<h4>Insight No.8</h4>\n",
    "<p>Male Chinstrap penguins have an average bill depth of 19.25 mm, while females have 17.58 mm a slight difference, possibly due to natural sexual dimorphism.</p>"
   ]
  },
  {
   "cell_type": "markdown",
   "id": "c8ca6669-9e98-4082-aae5-54f31e234310",
   "metadata": {},
   "source": [
    "<h3>Question 9</h3>\n",
    "<h4>What is the average bill depth per sex for each island?</h4>"
   ]
  },
  {
   "cell_type": "code",
   "execution_count": 49,
   "id": "542a00ca-cb36-4854-8c61-100a2cfb73e7",
   "metadata": {},
   "outputs": [
    {
     "name": "stderr",
     "output_type": "stream",
     "text": [
      "C:\\Users\\dreiz\\AppData\\Local\\Temp\\ipykernel_16600\\1963636734.py:1: FutureWarning: The default of observed=False is deprecated and will be changed to True in a future version of pandas. Pass observed=False to retain current behavior or observed=True to adopt the future default and silence this warning.\n",
      "  avg_bill_depth = penguins.groupby(['island', 'sex'])['bill_depth_mm'].mean()\n"
     ]
    },
    {
     "data": {
      "text/plain": [
       "island     sex   \n",
       "Biscoe     female    15.191250\n",
       "           male      16.510809\n",
       "Dream      female    17.601639\n",
       "           male      19.063492\n",
       "Torgersen  female    17.550000\n",
       "           male      19.137542\n",
       "Name: bill_depth_mm, dtype: float64"
      ]
     },
     "execution_count": 49,
     "metadata": {},
     "output_type": "execute_result"
    }
   ],
   "source": [
    "avg_bill_depth = penguins.groupby(['island', 'sex'])['bill_depth_mm'].mean()\n",
    "avg_bill_depth"
   ]
  },
  {
   "cell_type": "markdown",
   "id": "1709fc4a-aa5e-41a5-a147-0b55bd8e0258",
   "metadata": {},
   "source": [
    "<h4>Insight No.9</h4>\n",
    "<p>This shows how bill depth differs by gender across islands. For instance, male penguins on Biscoe may have deeper bills than females which can indicate different feeding strategies or adaptations.</p>"
   ]
  },
  {
   "cell_type": "markdown",
   "id": "5e408628-9f5a-4501-b354-6c9e4700aa18",
   "metadata": {},
   "source": [
    "<h3>Question 10</h3>\n",
    "<h4>What is the total number of penguins per island and species combination?</h4>"
   ]
  },
  {
   "cell_type": "code",
   "execution_count": 50,
   "id": "f5c956fe-27ed-44dc-889b-5bb157010bf7",
   "metadata": {},
   "outputs": [
    {
     "name": "stderr",
     "output_type": "stream",
     "text": [
      "C:\\Users\\dreiz\\AppData\\Local\\Temp\\ipykernel_16600\\1717014980.py:1: FutureWarning: The default of observed=False is deprecated and will be changed to True in a future version of pandas. Pass observed=False to retain current behavior or observed=True to adopt the future default and silence this warning.\n",
      "  penguin_counts = penguins.groupby(['island', 'species']).size().reset_index(name='count')\n"
     ]
    },
    {
     "data": {
      "text/html": [
       "<div>\n",
       "<style scoped>\n",
       "    .dataframe tbody tr th:only-of-type {\n",
       "        vertical-align: middle;\n",
       "    }\n",
       "\n",
       "    .dataframe tbody tr th {\n",
       "        vertical-align: top;\n",
       "    }\n",
       "\n",
       "    .dataframe thead th {\n",
       "        text-align: right;\n",
       "    }\n",
       "</style>\n",
       "<table border=\"1\" class=\"dataframe\">\n",
       "  <thead>\n",
       "    <tr style=\"text-align: right;\">\n",
       "      <th></th>\n",
       "      <th>island</th>\n",
       "      <th>species</th>\n",
       "      <th>count</th>\n",
       "    </tr>\n",
       "  </thead>\n",
       "  <tbody>\n",
       "    <tr>\n",
       "      <th>0</th>\n",
       "      <td>Biscoe</td>\n",
       "      <td>Adelie</td>\n",
       "      <td>44</td>\n",
       "    </tr>\n",
       "    <tr>\n",
       "      <th>1</th>\n",
       "      <td>Biscoe</td>\n",
       "      <td>Chinstrap</td>\n",
       "      <td>0</td>\n",
       "    </tr>\n",
       "    <tr>\n",
       "      <th>2</th>\n",
       "      <td>Biscoe</td>\n",
       "      <td>Gentoo</td>\n",
       "      <td>124</td>\n",
       "    </tr>\n",
       "    <tr>\n",
       "      <th>3</th>\n",
       "      <td>Dream</td>\n",
       "      <td>Adelie</td>\n",
       "      <td>56</td>\n",
       "    </tr>\n",
       "    <tr>\n",
       "      <th>4</th>\n",
       "      <td>Dream</td>\n",
       "      <td>Chinstrap</td>\n",
       "      <td>68</td>\n",
       "    </tr>\n",
       "    <tr>\n",
       "      <th>5</th>\n",
       "      <td>Dream</td>\n",
       "      <td>Gentoo</td>\n",
       "      <td>0</td>\n",
       "    </tr>\n",
       "    <tr>\n",
       "      <th>6</th>\n",
       "      <td>Torgersen</td>\n",
       "      <td>Adelie</td>\n",
       "      <td>52</td>\n",
       "    </tr>\n",
       "    <tr>\n",
       "      <th>7</th>\n",
       "      <td>Torgersen</td>\n",
       "      <td>Chinstrap</td>\n",
       "      <td>0</td>\n",
       "    </tr>\n",
       "    <tr>\n",
       "      <th>8</th>\n",
       "      <td>Torgersen</td>\n",
       "      <td>Gentoo</td>\n",
       "      <td>0</td>\n",
       "    </tr>\n",
       "  </tbody>\n",
       "</table>\n",
       "</div>"
      ],
      "text/plain": [
       "      island    species  count\n",
       "0     Biscoe     Adelie     44\n",
       "1     Biscoe  Chinstrap      0\n",
       "2     Biscoe     Gentoo    124\n",
       "3      Dream     Adelie     56\n",
       "4      Dream  Chinstrap     68\n",
       "5      Dream     Gentoo      0\n",
       "6  Torgersen     Adelie     52\n",
       "7  Torgersen  Chinstrap      0\n",
       "8  Torgersen     Gentoo      0"
      ]
     },
     "execution_count": 50,
     "metadata": {},
     "output_type": "execute_result"
    }
   ],
   "source": [
    "penguin_counts = penguins.groupby(['island', 'species']).size().reset_index(name='count')\n",
    "penguin_counts"
   ]
  },
  {
   "cell_type": "markdown",
   "id": "7526b59b-10f8-4ba6-8424-4bdc74e9e24f",
   "metadata": {},
   "source": [
    "<h4>Insight No.10</h4>\n",
    "<p>This helps you see where each species is most common. For example, most Gentoo penguins are found on Biscoe, while Chinstrap is mostly on Dream.</p>"
   ]
  },
  {
   "cell_type": "markdown",
   "id": "1eecf03a-7807-4a42-a9c9-252a04ebfb46",
   "metadata": {},
   "source": [
    "<h3>Question 11</h3>\n",
    "<h4>What is the difference in average body mass between male and female penguins for each species?</h4>"
   ]
  },
  {
   "cell_type": "code",
   "execution_count": 52,
   "id": "374e3f13-a699-438b-be8b-134038f3f4a0",
   "metadata": {},
   "outputs": [
    {
     "name": "stderr",
     "output_type": "stream",
     "text": [
      "C:\\Users\\dreiz\\AppData\\Local\\Temp\\ipykernel_16600\\355644285.py:1: FutureWarning: The default of observed=False is deprecated and will be changed to True in a future version of pandas. Pass observed=False to retain current behavior or observed=True to adopt the future default and silence this warning.\n",
      "  mass_by_sex_species = penguins.groupby(['species', 'sex'])['body_mass_g'].mean().unstack()\n"
     ]
    },
    {
     "data": {
      "text/plain": [
       "species\n",
       "Adelie       644.794186\n",
       "Chinstrap    411.764706\n",
       "Gentoo       731.270051\n",
       "dtype: float64"
      ]
     },
     "execution_count": 52,
     "metadata": {},
     "output_type": "execute_result"
    }
   ],
   "source": [
    "mass_by_sex_species = penguins.groupby(['species', 'sex'])['body_mass_g'].mean().unstack()\n",
    "mass_diff = mass_by_sex_species['male'] - mass_by_sex_species['female']\n",
    "mass_diff"
   ]
  },
  {
   "cell_type": "markdown",
   "id": "b5c9060e-9708-47fc-bcbf-56763dd27d10",
   "metadata": {},
   "source": [
    "<h4>Insight No.11</h4>\n",
    "<p>This shows the sex-based weight difference for each species. For example, Gentoo males may weigh about 500g more than females on average.</p>"
   ]
  },
  {
   "cell_type": "markdown",
   "id": "5022a20f-44d3-4be7-a2dc-c64f3f843c2d",
   "metadata": {},
   "source": [
    "<h3>Question 12</h3>\n",
    "<h4>What is the mean flipper length for each year and species?</h4>"
   ]
  },
  {
   "cell_type": "code",
   "execution_count": 53,
   "id": "1a196039-0673-410b-aa0c-902e0b86d230",
   "metadata": {},
   "outputs": [
    {
     "name": "stderr",
     "output_type": "stream",
     "text": [
      "C:\\Users\\dreiz\\AppData\\Local\\Temp\\ipykernel_16600\\2019534550.py:1: FutureWarning: The default of observed=False is deprecated and will be changed to True in a future version of pandas. Pass observed=False to retain current behavior or observed=True to adopt the future default and silence this warning.\n",
      "  avg_flipper_by_year_species = penguins.groupby(['year', 'species'])['flipper_length_mm'].mean()\n"
     ]
    },
    {
     "data": {
      "text/plain": [
       "year  species  \n",
       "2007  Adelie       186.878304\n",
       "      Chinstrap    192.423077\n",
       "      Gentoo       215.117647\n",
       "2008  Adelie       191.040000\n",
       "      Chinstrap    197.722222\n",
       "      Gentoo       217.565217\n",
       "2009  Adelie       192.076923\n",
       "      Chinstrap    198.083333\n",
       "      Gentoo       218.020800\n",
       "Name: flipper_length_mm, dtype: float64"
      ]
     },
     "execution_count": 53,
     "metadata": {},
     "output_type": "execute_result"
    }
   ],
   "source": [
    "avg_flipper_by_year_species = penguins.groupby(['year', 'species'])['flipper_length_mm'].mean()\n",
    "avg_flipper_by_year_species"
   ]
  },
  {
   "cell_type": "markdown",
   "id": "1ae0dbc3-62b7-4c5c-8aa8-c0ac7dfc4046",
   "metadata": {},
   "source": [
    "<h4>Insight No.12</h4>\n",
    "<p>You can track how flipper length changes over time by species. This might hint at evolutionary trends or measurement differences across research years.</p>"
   ]
  },
  {
   "cell_type": "markdown",
   "id": "c2248d25-7526-4fb5-a67b-74404d883ac5",
   "metadata": {},
   "source": [
    "<h3>Question 13</h3>\n",
    "<h4>What is the median flipper length for each species and sex?</h4>"
   ]
  },
  {
   "cell_type": "code",
   "execution_count": 55,
   "id": "35d08513-0d4b-4bc9-a3c6-c232e6d24cb7",
   "metadata": {},
   "outputs": [
    {
     "name": "stderr",
     "output_type": "stream",
     "text": [
      "C:\\Users\\dreiz\\AppData\\Local\\Temp\\ipykernel_16600\\1698788545.py:1: FutureWarning: The default of observed=False is deprecated and will be changed to True in a future version of pandas. Pass observed=False to retain current behavior or observed=True to adopt the future default and silence this warning.\n",
      "  median_flipper_by_species_sex = penguins.groupby(['species', 'sex'])['flipper_length_mm'].median()\n"
     ]
    },
    {
     "data": {
      "text/plain": [
       "species    sex   \n",
       "Adelie     female    188.0\n",
       "           male      192.0\n",
       "Chinstrap  female    192.0\n",
       "           male      200.5\n",
       "Gentoo     female    212.0\n",
       "           male      221.0\n",
       "Name: flipper_length_mm, dtype: float64"
      ]
     },
     "execution_count": 55,
     "metadata": {},
     "output_type": "execute_result"
    }
   ],
   "source": [
    "median_flipper_by_species_sex = penguins.groupby(['species', 'sex'])['flipper_length_mm'].median()\n",
    "median_flipper_by_species_sex"
   ]
  },
  {
   "cell_type": "markdown",
   "id": "a8dd5e38-d4c5-4ccb-96b5-c20f4ffd643a",
   "metadata": {},
   "source": [
    "<h4>Insight No.13</h4>\n",
    "<p>Median values are less affected by outliers. For example, male Gentoo penguins may have the highest median flipper length, while female Adelie penguins tend to have shorter flippers.</p>"
   ]
  },
  {
   "cell_type": "code",
   "execution_count": null,
   "id": "47592303-a25e-4be9-8bf0-29013e3222cf",
   "metadata": {},
   "outputs": [],
   "source": []
  }
 ],
 "metadata": {
  "kernelspec": {
   "display_name": "Python 3 (ipykernel)",
   "language": "python",
   "name": "python3"
  },
  "language_info": {
   "codemirror_mode": {
    "name": "ipython",
    "version": 3
   },
   "file_extension": ".py",
   "mimetype": "text/x-python",
   "name": "python",
   "nbconvert_exporter": "python",
   "pygments_lexer": "ipython3",
   "version": "3.13.6"
  }
 },
 "nbformat": 4,
 "nbformat_minor": 5
}
